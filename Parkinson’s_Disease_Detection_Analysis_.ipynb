{
  "nbformat": 4,
  "nbformat_minor": 0,
  "metadata": {
    "colab": {
      "name": "Parkinson’s Disease Detection Analysis .ipynb",
      "provenance": [],
      "collapsed_sections": []
    },
    "kernelspec": {
      "name": "python3",
      "display_name": "Python 3"
    },
    "language_info": {
      "name": "python"
    }
  },
  "cells": [
    {
      "cell_type": "markdown",
      "metadata": {
        "id": "OblTTvJJTI0e"
      },
      "source": [
        "##Creating Import of Necessary Packages"
      ]
    },
    {
      "cell_type": "code",
      "metadata": {
        "id": "yTI_6UrqWw3x"
      },
      "source": [
        "import os, sys\n",
        "from sklearn.preprocessing import MinMaxScaler\n",
        "from xgboost import XGBClassifier\n",
        "from sklearn.model_selection import train_test_split\n",
        "from sklearn.metrics import accuracy_score\n",
        "\n",
        "from sklearn.metrics import mean_absolute_error\n",
        "from sklearn.metrics import f1_score\n",
        "from sklearn.metrics import precision_score\n",
        "from sklearn.metrics import recall_score\n",
        "from sklearn.metrics import accuracy_score\n",
        "from sklearn.decomposition import PCA \n",
        "import plotly.express as px\n",
        "from sklearn.metrics import plot_confusion_matrix\n",
        "\n",
        "import numpy as np\n",
        "import pandas as pd\n",
        "import matplotlib.pyplot as plt\n",
        "import seaborn as sns\n",
        "\n",
        "from sklearn.model_selection import train_test_split, cross_val_score,KFold,StratifiedKFold, GridSearchCV\n",
        "from sklearn.metrics import confusion_matrix,accuracy_score,f1_score,average_precision_score,recall_score,roc_auc_score\n",
        "from sklearn.preprocessing import RobustScaler,StandardScaler,LabelEncoder,MinMaxScaler\n"
      ],
      "execution_count": null,
      "outputs": []
    },
    {
      "cell_type": "markdown",
      "metadata": {
        "id": "l12cQVoPTaJG"
      },
      "source": [
        "##Importing DataSet"
      ]
    },
    {
      "cell_type": "code",
      "metadata": {
        "colab": {
          "base_uri": "https://localhost:8080/",
          "height": 444
        },
        "id": "txOZF1Hf7_Cs",
        "outputId": "1b1402f3-6639-405f-811a-11455ff4ac5d"
      },
      "source": [
        "df = pd.read_csv(\"/content/parkinsons-Copy.csv\")\n",
        "df"
      ],
      "execution_count": null,
      "outputs": [
        {
          "output_type": "execute_result",
          "data": {
            "text/html": [
              "<div>\n",
              "<style scoped>\n",
              "    .dataframe tbody tr th:only-of-type {\n",
              "        vertical-align: middle;\n",
              "    }\n",
              "\n",
              "    .dataframe tbody tr th {\n",
              "        vertical-align: top;\n",
              "    }\n",
              "\n",
              "    .dataframe thead th {\n",
              "        text-align: right;\n",
              "    }\n",
              "</style>\n",
              "<table border=\"1\" class=\"dataframe\">\n",
              "  <thead>\n",
              "    <tr style=\"text-align: right;\">\n",
              "      <th></th>\n",
              "      <th>name</th>\n",
              "      <th>MDVP:Fo(Hz)</th>\n",
              "      <th>MDVP:Fhi(Hz)</th>\n",
              "      <th>MDVP:Flo(Hz)</th>\n",
              "      <th>MDVP:Jitter(%)</th>\n",
              "      <th>MDVP:Jitter(Abs)</th>\n",
              "      <th>MDVP:RAP</th>\n",
              "      <th>MDVP:PPQ</th>\n",
              "      <th>Jitter:DDP</th>\n",
              "      <th>MDVP:Shimmer</th>\n",
              "      <th>MDVP:Shimmer(dB)</th>\n",
              "      <th>Shimmer:APQ3</th>\n",
              "      <th>Shimmer:APQ5</th>\n",
              "      <th>MDVP:APQ</th>\n",
              "      <th>Shimmer:DDA</th>\n",
              "      <th>NHR</th>\n",
              "      <th>HNR</th>\n",
              "      <th>status</th>\n",
              "      <th>RPDE</th>\n",
              "      <th>DFA</th>\n",
              "      <th>spread1</th>\n",
              "      <th>spread2</th>\n",
              "      <th>D2</th>\n",
              "      <th>PPE</th>\n",
              "    </tr>\n",
              "  </thead>\n",
              "  <tbody>\n",
              "    <tr>\n",
              "      <th>0</th>\n",
              "      <td>phon_R01_S01_1</td>\n",
              "      <td>119.992</td>\n",
              "      <td>157.302</td>\n",
              "      <td>74.997</td>\n",
              "      <td>0.00784</td>\n",
              "      <td>0.00007</td>\n",
              "      <td>0.00370</td>\n",
              "      <td>0.00554</td>\n",
              "      <td>0.01109</td>\n",
              "      <td>0.04374</td>\n",
              "      <td>0.426</td>\n",
              "      <td>0.02182</td>\n",
              "      <td>0.03130</td>\n",
              "      <td>0.02971</td>\n",
              "      <td>0.06545</td>\n",
              "      <td>0.02211</td>\n",
              "      <td>21.033</td>\n",
              "      <td>1</td>\n",
              "      <td>0.414783</td>\n",
              "      <td>0.815285</td>\n",
              "      <td>-4.813031</td>\n",
              "      <td>0.266482</td>\n",
              "      <td>2.301442</td>\n",
              "      <td>0.284654</td>\n",
              "    </tr>\n",
              "    <tr>\n",
              "      <th>1</th>\n",
              "      <td>phon_R01_S01_2</td>\n",
              "      <td>122.400</td>\n",
              "      <td>148.650</td>\n",
              "      <td>113.819</td>\n",
              "      <td>0.00968</td>\n",
              "      <td>0.00008</td>\n",
              "      <td>0.00465</td>\n",
              "      <td>0.00696</td>\n",
              "      <td>0.01394</td>\n",
              "      <td>0.06134</td>\n",
              "      <td>0.626</td>\n",
              "      <td>0.03134</td>\n",
              "      <td>0.04518</td>\n",
              "      <td>0.04368</td>\n",
              "      <td>0.09403</td>\n",
              "      <td>0.01929</td>\n",
              "      <td>19.085</td>\n",
              "      <td>1</td>\n",
              "      <td>0.458359</td>\n",
              "      <td>0.819521</td>\n",
              "      <td>-4.075192</td>\n",
              "      <td>0.335590</td>\n",
              "      <td>2.486855</td>\n",
              "      <td>0.368674</td>\n",
              "    </tr>\n",
              "    <tr>\n",
              "      <th>2</th>\n",
              "      <td>phon_R01_S01_3</td>\n",
              "      <td>116.682</td>\n",
              "      <td>131.111</td>\n",
              "      <td>111.555</td>\n",
              "      <td>0.01050</td>\n",
              "      <td>0.00009</td>\n",
              "      <td>0.00544</td>\n",
              "      <td>0.00781</td>\n",
              "      <td>0.01633</td>\n",
              "      <td>0.05233</td>\n",
              "      <td>0.482</td>\n",
              "      <td>0.02757</td>\n",
              "      <td>0.03858</td>\n",
              "      <td>0.03590</td>\n",
              "      <td>0.08270</td>\n",
              "      <td>0.01309</td>\n",
              "      <td>20.651</td>\n",
              "      <td>1</td>\n",
              "      <td>0.429895</td>\n",
              "      <td>0.825288</td>\n",
              "      <td>-4.443179</td>\n",
              "      <td>0.311173</td>\n",
              "      <td>2.342259</td>\n",
              "      <td>0.332634</td>\n",
              "    </tr>\n",
              "    <tr>\n",
              "      <th>3</th>\n",
              "      <td>phon_R01_S01_4</td>\n",
              "      <td>116.676</td>\n",
              "      <td>137.871</td>\n",
              "      <td>111.366</td>\n",
              "      <td>0.00997</td>\n",
              "      <td>0.00009</td>\n",
              "      <td>0.00502</td>\n",
              "      <td>0.00698</td>\n",
              "      <td>0.01505</td>\n",
              "      <td>0.05492</td>\n",
              "      <td>0.517</td>\n",
              "      <td>0.02924</td>\n",
              "      <td>0.04005</td>\n",
              "      <td>0.03772</td>\n",
              "      <td>0.08771</td>\n",
              "      <td>0.01353</td>\n",
              "      <td>20.644</td>\n",
              "      <td>1</td>\n",
              "      <td>0.434969</td>\n",
              "      <td>0.819235</td>\n",
              "      <td>-4.117501</td>\n",
              "      <td>0.334147</td>\n",
              "      <td>2.405554</td>\n",
              "      <td>0.368975</td>\n",
              "    </tr>\n",
              "    <tr>\n",
              "      <th>4</th>\n",
              "      <td>phon_R01_S01_5</td>\n",
              "      <td>116.014</td>\n",
              "      <td>141.781</td>\n",
              "      <td>110.655</td>\n",
              "      <td>0.01284</td>\n",
              "      <td>0.00011</td>\n",
              "      <td>0.00655</td>\n",
              "      <td>0.00908</td>\n",
              "      <td>0.01966</td>\n",
              "      <td>0.06425</td>\n",
              "      <td>0.584</td>\n",
              "      <td>0.03490</td>\n",
              "      <td>0.04825</td>\n",
              "      <td>0.04465</td>\n",
              "      <td>0.10470</td>\n",
              "      <td>0.01767</td>\n",
              "      <td>19.649</td>\n",
              "      <td>1</td>\n",
              "      <td>0.417356</td>\n",
              "      <td>0.823484</td>\n",
              "      <td>-3.747787</td>\n",
              "      <td>0.234513</td>\n",
              "      <td>2.332180</td>\n",
              "      <td>0.410335</td>\n",
              "    </tr>\n",
              "    <tr>\n",
              "      <th>...</th>\n",
              "      <td>...</td>\n",
              "      <td>...</td>\n",
              "      <td>...</td>\n",
              "      <td>...</td>\n",
              "      <td>...</td>\n",
              "      <td>...</td>\n",
              "      <td>...</td>\n",
              "      <td>...</td>\n",
              "      <td>...</td>\n",
              "      <td>...</td>\n",
              "      <td>...</td>\n",
              "      <td>...</td>\n",
              "      <td>...</td>\n",
              "      <td>...</td>\n",
              "      <td>...</td>\n",
              "      <td>...</td>\n",
              "      <td>...</td>\n",
              "      <td>...</td>\n",
              "      <td>...</td>\n",
              "      <td>...</td>\n",
              "      <td>...</td>\n",
              "      <td>...</td>\n",
              "      <td>...</td>\n",
              "      <td>...</td>\n",
              "    </tr>\n",
              "    <tr>\n",
              "      <th>190</th>\n",
              "      <td>phon_R01_S50_2</td>\n",
              "      <td>174.188</td>\n",
              "      <td>230.978</td>\n",
              "      <td>94.261</td>\n",
              "      <td>0.00459</td>\n",
              "      <td>0.00003</td>\n",
              "      <td>0.00263</td>\n",
              "      <td>0.00259</td>\n",
              "      <td>0.00790</td>\n",
              "      <td>0.04087</td>\n",
              "      <td>0.405</td>\n",
              "      <td>0.02336</td>\n",
              "      <td>0.02498</td>\n",
              "      <td>0.02745</td>\n",
              "      <td>0.07008</td>\n",
              "      <td>0.02764</td>\n",
              "      <td>19.517</td>\n",
              "      <td>0</td>\n",
              "      <td>0.448439</td>\n",
              "      <td>0.657899</td>\n",
              "      <td>-6.538586</td>\n",
              "      <td>0.121952</td>\n",
              "      <td>2.657476</td>\n",
              "      <td>0.133050</td>\n",
              "    </tr>\n",
              "    <tr>\n",
              "      <th>191</th>\n",
              "      <td>phon_R01_S50_3</td>\n",
              "      <td>209.516</td>\n",
              "      <td>253.017</td>\n",
              "      <td>89.488</td>\n",
              "      <td>0.00564</td>\n",
              "      <td>0.00003</td>\n",
              "      <td>0.00331</td>\n",
              "      <td>0.00292</td>\n",
              "      <td>0.00994</td>\n",
              "      <td>0.02751</td>\n",
              "      <td>0.263</td>\n",
              "      <td>0.01604</td>\n",
              "      <td>0.01657</td>\n",
              "      <td>0.01879</td>\n",
              "      <td>0.04812</td>\n",
              "      <td>0.01810</td>\n",
              "      <td>19.147</td>\n",
              "      <td>0</td>\n",
              "      <td>0.431674</td>\n",
              "      <td>0.683244</td>\n",
              "      <td>-6.195325</td>\n",
              "      <td>0.129303</td>\n",
              "      <td>2.784312</td>\n",
              "      <td>0.168895</td>\n",
              "    </tr>\n",
              "    <tr>\n",
              "      <th>192</th>\n",
              "      <td>phon_R01_S50_4</td>\n",
              "      <td>174.688</td>\n",
              "      <td>240.005</td>\n",
              "      <td>74.287</td>\n",
              "      <td>0.01360</td>\n",
              "      <td>0.00008</td>\n",
              "      <td>0.00624</td>\n",
              "      <td>0.00564</td>\n",
              "      <td>0.01873</td>\n",
              "      <td>0.02308</td>\n",
              "      <td>0.256</td>\n",
              "      <td>0.01268</td>\n",
              "      <td>0.01365</td>\n",
              "      <td>0.01667</td>\n",
              "      <td>0.03804</td>\n",
              "      <td>0.10715</td>\n",
              "      <td>17.883</td>\n",
              "      <td>0</td>\n",
              "      <td>0.407567</td>\n",
              "      <td>0.655683</td>\n",
              "      <td>-6.787197</td>\n",
              "      <td>0.158453</td>\n",
              "      <td>2.679772</td>\n",
              "      <td>0.131728</td>\n",
              "    </tr>\n",
              "    <tr>\n",
              "      <th>193</th>\n",
              "      <td>phon_R01_S50_5</td>\n",
              "      <td>198.764</td>\n",
              "      <td>396.961</td>\n",
              "      <td>74.904</td>\n",
              "      <td>0.00740</td>\n",
              "      <td>0.00004</td>\n",
              "      <td>0.00370</td>\n",
              "      <td>0.00390</td>\n",
              "      <td>0.01109</td>\n",
              "      <td>0.02296</td>\n",
              "      <td>0.241</td>\n",
              "      <td>0.01265</td>\n",
              "      <td>0.01321</td>\n",
              "      <td>0.01588</td>\n",
              "      <td>0.03794</td>\n",
              "      <td>0.07223</td>\n",
              "      <td>19.020</td>\n",
              "      <td>0</td>\n",
              "      <td>0.451221</td>\n",
              "      <td>0.643956</td>\n",
              "      <td>-6.744577</td>\n",
              "      <td>0.207454</td>\n",
              "      <td>2.138608</td>\n",
              "      <td>0.123306</td>\n",
              "    </tr>\n",
              "    <tr>\n",
              "      <th>194</th>\n",
              "      <td>phon_R01_S50_6</td>\n",
              "      <td>214.289</td>\n",
              "      <td>260.277</td>\n",
              "      <td>77.973</td>\n",
              "      <td>0.00567</td>\n",
              "      <td>0.00003</td>\n",
              "      <td>0.00295</td>\n",
              "      <td>0.00317</td>\n",
              "      <td>0.00885</td>\n",
              "      <td>0.01884</td>\n",
              "      <td>0.190</td>\n",
              "      <td>0.01026</td>\n",
              "      <td>0.01161</td>\n",
              "      <td>0.01373</td>\n",
              "      <td>0.03078</td>\n",
              "      <td>0.04398</td>\n",
              "      <td>21.209</td>\n",
              "      <td>0</td>\n",
              "      <td>0.462803</td>\n",
              "      <td>0.664357</td>\n",
              "      <td>-5.724056</td>\n",
              "      <td>0.190667</td>\n",
              "      <td>2.555477</td>\n",
              "      <td>0.148569</td>\n",
              "    </tr>\n",
              "  </tbody>\n",
              "</table>\n",
              "<p>195 rows × 24 columns</p>\n",
              "</div>"
            ],
            "text/plain": [
              "               name  MDVP:Fo(Hz)  MDVP:Fhi(Hz)  ...   spread2        D2       PPE\n",
              "0    phon_R01_S01_1      119.992       157.302  ...  0.266482  2.301442  0.284654\n",
              "1    phon_R01_S01_2      122.400       148.650  ...  0.335590  2.486855  0.368674\n",
              "2    phon_R01_S01_3      116.682       131.111  ...  0.311173  2.342259  0.332634\n",
              "3    phon_R01_S01_4      116.676       137.871  ...  0.334147  2.405554  0.368975\n",
              "4    phon_R01_S01_5      116.014       141.781  ...  0.234513  2.332180  0.410335\n",
              "..              ...          ...           ...  ...       ...       ...       ...\n",
              "190  phon_R01_S50_2      174.188       230.978  ...  0.121952  2.657476  0.133050\n",
              "191  phon_R01_S50_3      209.516       253.017  ...  0.129303  2.784312  0.168895\n",
              "192  phon_R01_S50_4      174.688       240.005  ...  0.158453  2.679772  0.131728\n",
              "193  phon_R01_S50_5      198.764       396.961  ...  0.207454  2.138608  0.123306\n",
              "194  phon_R01_S50_6      214.289       260.277  ...  0.190667  2.555477  0.148569\n",
              "\n",
              "[195 rows x 24 columns]"
            ]
          },
          "metadata": {},
          "execution_count": 3
        }
      ]
    },
    {
      "cell_type": "markdown",
      "metadata": {
        "id": "4R8rgQolcnlm"
      },
      "source": [
        "##Cheaking NULL value "
      ]
    },
    {
      "cell_type": "code",
      "metadata": {
        "colab": {
          "base_uri": "https://localhost:8080/",
          "height": 444
        },
        "id": "yrM1Ep6F8JQu",
        "outputId": "f35bb823-28bf-4e77-cb66-7c265bda2014"
      },
      "source": [
        "nullValueCheck = pd.notnull(df) \n",
        "df[nullValueCheck] "
      ],
      "execution_count": null,
      "outputs": [
        {
          "output_type": "execute_result",
          "data": {
            "text/html": [
              "<div>\n",
              "<style scoped>\n",
              "    .dataframe tbody tr th:only-of-type {\n",
              "        vertical-align: middle;\n",
              "    }\n",
              "\n",
              "    .dataframe tbody tr th {\n",
              "        vertical-align: top;\n",
              "    }\n",
              "\n",
              "    .dataframe thead th {\n",
              "        text-align: right;\n",
              "    }\n",
              "</style>\n",
              "<table border=\"1\" class=\"dataframe\">\n",
              "  <thead>\n",
              "    <tr style=\"text-align: right;\">\n",
              "      <th></th>\n",
              "      <th>name</th>\n",
              "      <th>MDVP:Fo(Hz)</th>\n",
              "      <th>MDVP:Fhi(Hz)</th>\n",
              "      <th>MDVP:Flo(Hz)</th>\n",
              "      <th>MDVP:Jitter(%)</th>\n",
              "      <th>MDVP:Jitter(Abs)</th>\n",
              "      <th>MDVP:RAP</th>\n",
              "      <th>MDVP:PPQ</th>\n",
              "      <th>Jitter:DDP</th>\n",
              "      <th>MDVP:Shimmer</th>\n",
              "      <th>MDVP:Shimmer(dB)</th>\n",
              "      <th>Shimmer:APQ3</th>\n",
              "      <th>Shimmer:APQ5</th>\n",
              "      <th>MDVP:APQ</th>\n",
              "      <th>Shimmer:DDA</th>\n",
              "      <th>NHR</th>\n",
              "      <th>HNR</th>\n",
              "      <th>status</th>\n",
              "      <th>RPDE</th>\n",
              "      <th>DFA</th>\n",
              "      <th>spread1</th>\n",
              "      <th>spread2</th>\n",
              "      <th>D2</th>\n",
              "      <th>PPE</th>\n",
              "    </tr>\n",
              "  </thead>\n",
              "  <tbody>\n",
              "    <tr>\n",
              "      <th>0</th>\n",
              "      <td>phon_R01_S01_1</td>\n",
              "      <td>119.992</td>\n",
              "      <td>157.302</td>\n",
              "      <td>74.997</td>\n",
              "      <td>0.00784</td>\n",
              "      <td>0.00007</td>\n",
              "      <td>0.00370</td>\n",
              "      <td>0.00554</td>\n",
              "      <td>0.01109</td>\n",
              "      <td>0.04374</td>\n",
              "      <td>0.426</td>\n",
              "      <td>0.02182</td>\n",
              "      <td>0.03130</td>\n",
              "      <td>0.02971</td>\n",
              "      <td>0.06545</td>\n",
              "      <td>0.02211</td>\n",
              "      <td>21.033</td>\n",
              "      <td>1</td>\n",
              "      <td>0.414783</td>\n",
              "      <td>0.815285</td>\n",
              "      <td>-4.813031</td>\n",
              "      <td>0.266482</td>\n",
              "      <td>2.301442</td>\n",
              "      <td>0.284654</td>\n",
              "    </tr>\n",
              "    <tr>\n",
              "      <th>1</th>\n",
              "      <td>phon_R01_S01_2</td>\n",
              "      <td>122.400</td>\n",
              "      <td>148.650</td>\n",
              "      <td>113.819</td>\n",
              "      <td>0.00968</td>\n",
              "      <td>0.00008</td>\n",
              "      <td>0.00465</td>\n",
              "      <td>0.00696</td>\n",
              "      <td>0.01394</td>\n",
              "      <td>0.06134</td>\n",
              "      <td>0.626</td>\n",
              "      <td>0.03134</td>\n",
              "      <td>0.04518</td>\n",
              "      <td>0.04368</td>\n",
              "      <td>0.09403</td>\n",
              "      <td>0.01929</td>\n",
              "      <td>19.085</td>\n",
              "      <td>1</td>\n",
              "      <td>0.458359</td>\n",
              "      <td>0.819521</td>\n",
              "      <td>-4.075192</td>\n",
              "      <td>0.335590</td>\n",
              "      <td>2.486855</td>\n",
              "      <td>0.368674</td>\n",
              "    </tr>\n",
              "    <tr>\n",
              "      <th>2</th>\n",
              "      <td>phon_R01_S01_3</td>\n",
              "      <td>116.682</td>\n",
              "      <td>131.111</td>\n",
              "      <td>111.555</td>\n",
              "      <td>0.01050</td>\n",
              "      <td>0.00009</td>\n",
              "      <td>0.00544</td>\n",
              "      <td>0.00781</td>\n",
              "      <td>0.01633</td>\n",
              "      <td>0.05233</td>\n",
              "      <td>0.482</td>\n",
              "      <td>0.02757</td>\n",
              "      <td>0.03858</td>\n",
              "      <td>0.03590</td>\n",
              "      <td>0.08270</td>\n",
              "      <td>0.01309</td>\n",
              "      <td>20.651</td>\n",
              "      <td>1</td>\n",
              "      <td>0.429895</td>\n",
              "      <td>0.825288</td>\n",
              "      <td>-4.443179</td>\n",
              "      <td>0.311173</td>\n",
              "      <td>2.342259</td>\n",
              "      <td>0.332634</td>\n",
              "    </tr>\n",
              "    <tr>\n",
              "      <th>3</th>\n",
              "      <td>phon_R01_S01_4</td>\n",
              "      <td>116.676</td>\n",
              "      <td>137.871</td>\n",
              "      <td>111.366</td>\n",
              "      <td>0.00997</td>\n",
              "      <td>0.00009</td>\n",
              "      <td>0.00502</td>\n",
              "      <td>0.00698</td>\n",
              "      <td>0.01505</td>\n",
              "      <td>0.05492</td>\n",
              "      <td>0.517</td>\n",
              "      <td>0.02924</td>\n",
              "      <td>0.04005</td>\n",
              "      <td>0.03772</td>\n",
              "      <td>0.08771</td>\n",
              "      <td>0.01353</td>\n",
              "      <td>20.644</td>\n",
              "      <td>1</td>\n",
              "      <td>0.434969</td>\n",
              "      <td>0.819235</td>\n",
              "      <td>-4.117501</td>\n",
              "      <td>0.334147</td>\n",
              "      <td>2.405554</td>\n",
              "      <td>0.368975</td>\n",
              "    </tr>\n",
              "    <tr>\n",
              "      <th>4</th>\n",
              "      <td>phon_R01_S01_5</td>\n",
              "      <td>116.014</td>\n",
              "      <td>141.781</td>\n",
              "      <td>110.655</td>\n",
              "      <td>0.01284</td>\n",
              "      <td>0.00011</td>\n",
              "      <td>0.00655</td>\n",
              "      <td>0.00908</td>\n",
              "      <td>0.01966</td>\n",
              "      <td>0.06425</td>\n",
              "      <td>0.584</td>\n",
              "      <td>0.03490</td>\n",
              "      <td>0.04825</td>\n",
              "      <td>0.04465</td>\n",
              "      <td>0.10470</td>\n",
              "      <td>0.01767</td>\n",
              "      <td>19.649</td>\n",
              "      <td>1</td>\n",
              "      <td>0.417356</td>\n",
              "      <td>0.823484</td>\n",
              "      <td>-3.747787</td>\n",
              "      <td>0.234513</td>\n",
              "      <td>2.332180</td>\n",
              "      <td>0.410335</td>\n",
              "    </tr>\n",
              "    <tr>\n",
              "      <th>...</th>\n",
              "      <td>...</td>\n",
              "      <td>...</td>\n",
              "      <td>...</td>\n",
              "      <td>...</td>\n",
              "      <td>...</td>\n",
              "      <td>...</td>\n",
              "      <td>...</td>\n",
              "      <td>...</td>\n",
              "      <td>...</td>\n",
              "      <td>...</td>\n",
              "      <td>...</td>\n",
              "      <td>...</td>\n",
              "      <td>...</td>\n",
              "      <td>...</td>\n",
              "      <td>...</td>\n",
              "      <td>...</td>\n",
              "      <td>...</td>\n",
              "      <td>...</td>\n",
              "      <td>...</td>\n",
              "      <td>...</td>\n",
              "      <td>...</td>\n",
              "      <td>...</td>\n",
              "      <td>...</td>\n",
              "      <td>...</td>\n",
              "    </tr>\n",
              "    <tr>\n",
              "      <th>190</th>\n",
              "      <td>phon_R01_S50_2</td>\n",
              "      <td>174.188</td>\n",
              "      <td>230.978</td>\n",
              "      <td>94.261</td>\n",
              "      <td>0.00459</td>\n",
              "      <td>0.00003</td>\n",
              "      <td>0.00263</td>\n",
              "      <td>0.00259</td>\n",
              "      <td>0.00790</td>\n",
              "      <td>0.04087</td>\n",
              "      <td>0.405</td>\n",
              "      <td>0.02336</td>\n",
              "      <td>0.02498</td>\n",
              "      <td>0.02745</td>\n",
              "      <td>0.07008</td>\n",
              "      <td>0.02764</td>\n",
              "      <td>19.517</td>\n",
              "      <td>0</td>\n",
              "      <td>0.448439</td>\n",
              "      <td>0.657899</td>\n",
              "      <td>-6.538586</td>\n",
              "      <td>0.121952</td>\n",
              "      <td>2.657476</td>\n",
              "      <td>0.133050</td>\n",
              "    </tr>\n",
              "    <tr>\n",
              "      <th>191</th>\n",
              "      <td>phon_R01_S50_3</td>\n",
              "      <td>209.516</td>\n",
              "      <td>253.017</td>\n",
              "      <td>89.488</td>\n",
              "      <td>0.00564</td>\n",
              "      <td>0.00003</td>\n",
              "      <td>0.00331</td>\n",
              "      <td>0.00292</td>\n",
              "      <td>0.00994</td>\n",
              "      <td>0.02751</td>\n",
              "      <td>0.263</td>\n",
              "      <td>0.01604</td>\n",
              "      <td>0.01657</td>\n",
              "      <td>0.01879</td>\n",
              "      <td>0.04812</td>\n",
              "      <td>0.01810</td>\n",
              "      <td>19.147</td>\n",
              "      <td>0</td>\n",
              "      <td>0.431674</td>\n",
              "      <td>0.683244</td>\n",
              "      <td>-6.195325</td>\n",
              "      <td>0.129303</td>\n",
              "      <td>2.784312</td>\n",
              "      <td>0.168895</td>\n",
              "    </tr>\n",
              "    <tr>\n",
              "      <th>192</th>\n",
              "      <td>phon_R01_S50_4</td>\n",
              "      <td>174.688</td>\n",
              "      <td>240.005</td>\n",
              "      <td>74.287</td>\n",
              "      <td>0.01360</td>\n",
              "      <td>0.00008</td>\n",
              "      <td>0.00624</td>\n",
              "      <td>0.00564</td>\n",
              "      <td>0.01873</td>\n",
              "      <td>0.02308</td>\n",
              "      <td>0.256</td>\n",
              "      <td>0.01268</td>\n",
              "      <td>0.01365</td>\n",
              "      <td>0.01667</td>\n",
              "      <td>0.03804</td>\n",
              "      <td>0.10715</td>\n",
              "      <td>17.883</td>\n",
              "      <td>0</td>\n",
              "      <td>0.407567</td>\n",
              "      <td>0.655683</td>\n",
              "      <td>-6.787197</td>\n",
              "      <td>0.158453</td>\n",
              "      <td>2.679772</td>\n",
              "      <td>0.131728</td>\n",
              "    </tr>\n",
              "    <tr>\n",
              "      <th>193</th>\n",
              "      <td>phon_R01_S50_5</td>\n",
              "      <td>198.764</td>\n",
              "      <td>396.961</td>\n",
              "      <td>74.904</td>\n",
              "      <td>0.00740</td>\n",
              "      <td>0.00004</td>\n",
              "      <td>0.00370</td>\n",
              "      <td>0.00390</td>\n",
              "      <td>0.01109</td>\n",
              "      <td>0.02296</td>\n",
              "      <td>0.241</td>\n",
              "      <td>0.01265</td>\n",
              "      <td>0.01321</td>\n",
              "      <td>0.01588</td>\n",
              "      <td>0.03794</td>\n",
              "      <td>0.07223</td>\n",
              "      <td>19.020</td>\n",
              "      <td>0</td>\n",
              "      <td>0.451221</td>\n",
              "      <td>0.643956</td>\n",
              "      <td>-6.744577</td>\n",
              "      <td>0.207454</td>\n",
              "      <td>2.138608</td>\n",
              "      <td>0.123306</td>\n",
              "    </tr>\n",
              "    <tr>\n",
              "      <th>194</th>\n",
              "      <td>phon_R01_S50_6</td>\n",
              "      <td>214.289</td>\n",
              "      <td>260.277</td>\n",
              "      <td>77.973</td>\n",
              "      <td>0.00567</td>\n",
              "      <td>0.00003</td>\n",
              "      <td>0.00295</td>\n",
              "      <td>0.00317</td>\n",
              "      <td>0.00885</td>\n",
              "      <td>0.01884</td>\n",
              "      <td>0.190</td>\n",
              "      <td>0.01026</td>\n",
              "      <td>0.01161</td>\n",
              "      <td>0.01373</td>\n",
              "      <td>0.03078</td>\n",
              "      <td>0.04398</td>\n",
              "      <td>21.209</td>\n",
              "      <td>0</td>\n",
              "      <td>0.462803</td>\n",
              "      <td>0.664357</td>\n",
              "      <td>-5.724056</td>\n",
              "      <td>0.190667</td>\n",
              "      <td>2.555477</td>\n",
              "      <td>0.148569</td>\n",
              "    </tr>\n",
              "  </tbody>\n",
              "</table>\n",
              "<p>195 rows × 24 columns</p>\n",
              "</div>"
            ],
            "text/plain": [
              "               name  MDVP:Fo(Hz)  MDVP:Fhi(Hz)  ...   spread2        D2       PPE\n",
              "0    phon_R01_S01_1      119.992       157.302  ...  0.266482  2.301442  0.284654\n",
              "1    phon_R01_S01_2      122.400       148.650  ...  0.335590  2.486855  0.368674\n",
              "2    phon_R01_S01_3      116.682       131.111  ...  0.311173  2.342259  0.332634\n",
              "3    phon_R01_S01_4      116.676       137.871  ...  0.334147  2.405554  0.368975\n",
              "4    phon_R01_S01_5      116.014       141.781  ...  0.234513  2.332180  0.410335\n",
              "..              ...          ...           ...  ...       ...       ...       ...\n",
              "190  phon_R01_S50_2      174.188       230.978  ...  0.121952  2.657476  0.133050\n",
              "191  phon_R01_S50_3      209.516       253.017  ...  0.129303  2.784312  0.168895\n",
              "192  phon_R01_S50_4      174.688       240.005  ...  0.158453  2.679772  0.131728\n",
              "193  phon_R01_S50_5      198.764       396.961  ...  0.207454  2.138608  0.123306\n",
              "194  phon_R01_S50_6      214.289       260.277  ...  0.190667  2.555477  0.148569\n",
              "\n",
              "[195 rows x 24 columns]"
            ]
          },
          "metadata": {},
          "execution_count": 4
        }
      ]
    },
    {
      "cell_type": "markdown",
      "metadata": {
        "id": "5rKsqUirdJQO"
      },
      "source": [
        "##Reading Imported DataSet"
      ]
    },
    {
      "cell_type": "code",
      "metadata": {
        "colab": {
          "base_uri": "https://localhost:8080/",
          "height": 540
        },
        "id": "FeKaDR_SXQHG",
        "outputId": "5b460ec9-6794-417a-bb2a-d2958ba70778"
      },
      "source": [
        "df=pd.read_csv('/content/parkinsons-Copy.csv')\n",
        "df.head(15)"
      ],
      "execution_count": null,
      "outputs": [
        {
          "output_type": "execute_result",
          "data": {
            "text/html": [
              "<div>\n",
              "<style scoped>\n",
              "    .dataframe tbody tr th:only-of-type {\n",
              "        vertical-align: middle;\n",
              "    }\n",
              "\n",
              "    .dataframe tbody tr th {\n",
              "        vertical-align: top;\n",
              "    }\n",
              "\n",
              "    .dataframe thead th {\n",
              "        text-align: right;\n",
              "    }\n",
              "</style>\n",
              "<table border=\"1\" class=\"dataframe\">\n",
              "  <thead>\n",
              "    <tr style=\"text-align: right;\">\n",
              "      <th></th>\n",
              "      <th>name</th>\n",
              "      <th>MDVP:Fo(Hz)</th>\n",
              "      <th>MDVP:Fhi(Hz)</th>\n",
              "      <th>MDVP:Flo(Hz)</th>\n",
              "      <th>MDVP:Jitter(%)</th>\n",
              "      <th>MDVP:Jitter(Abs)</th>\n",
              "      <th>MDVP:RAP</th>\n",
              "      <th>MDVP:PPQ</th>\n",
              "      <th>Jitter:DDP</th>\n",
              "      <th>MDVP:Shimmer</th>\n",
              "      <th>MDVP:Shimmer(dB)</th>\n",
              "      <th>Shimmer:APQ3</th>\n",
              "      <th>Shimmer:APQ5</th>\n",
              "      <th>MDVP:APQ</th>\n",
              "      <th>Shimmer:DDA</th>\n",
              "      <th>NHR</th>\n",
              "      <th>HNR</th>\n",
              "      <th>status</th>\n",
              "      <th>RPDE</th>\n",
              "      <th>DFA</th>\n",
              "      <th>spread1</th>\n",
              "      <th>spread2</th>\n",
              "      <th>D2</th>\n",
              "      <th>PPE</th>\n",
              "    </tr>\n",
              "  </thead>\n",
              "  <tbody>\n",
              "    <tr>\n",
              "      <th>0</th>\n",
              "      <td>phon_R01_S01_1</td>\n",
              "      <td>119.992</td>\n",
              "      <td>157.302</td>\n",
              "      <td>74.997</td>\n",
              "      <td>0.00784</td>\n",
              "      <td>0.00007</td>\n",
              "      <td>0.00370</td>\n",
              "      <td>0.00554</td>\n",
              "      <td>0.01109</td>\n",
              "      <td>0.04374</td>\n",
              "      <td>0.426</td>\n",
              "      <td>0.02182</td>\n",
              "      <td>0.03130</td>\n",
              "      <td>0.02971</td>\n",
              "      <td>0.06545</td>\n",
              "      <td>0.02211</td>\n",
              "      <td>21.033</td>\n",
              "      <td>1</td>\n",
              "      <td>0.414783</td>\n",
              "      <td>0.815285</td>\n",
              "      <td>-4.813031</td>\n",
              "      <td>0.266482</td>\n",
              "      <td>2.301442</td>\n",
              "      <td>0.284654</td>\n",
              "    </tr>\n",
              "    <tr>\n",
              "      <th>1</th>\n",
              "      <td>phon_R01_S01_2</td>\n",
              "      <td>122.400</td>\n",
              "      <td>148.650</td>\n",
              "      <td>113.819</td>\n",
              "      <td>0.00968</td>\n",
              "      <td>0.00008</td>\n",
              "      <td>0.00465</td>\n",
              "      <td>0.00696</td>\n",
              "      <td>0.01394</td>\n",
              "      <td>0.06134</td>\n",
              "      <td>0.626</td>\n",
              "      <td>0.03134</td>\n",
              "      <td>0.04518</td>\n",
              "      <td>0.04368</td>\n",
              "      <td>0.09403</td>\n",
              "      <td>0.01929</td>\n",
              "      <td>19.085</td>\n",
              "      <td>1</td>\n",
              "      <td>0.458359</td>\n",
              "      <td>0.819521</td>\n",
              "      <td>-4.075192</td>\n",
              "      <td>0.335590</td>\n",
              "      <td>2.486855</td>\n",
              "      <td>0.368674</td>\n",
              "    </tr>\n",
              "    <tr>\n",
              "      <th>2</th>\n",
              "      <td>phon_R01_S01_3</td>\n",
              "      <td>116.682</td>\n",
              "      <td>131.111</td>\n",
              "      <td>111.555</td>\n",
              "      <td>0.01050</td>\n",
              "      <td>0.00009</td>\n",
              "      <td>0.00544</td>\n",
              "      <td>0.00781</td>\n",
              "      <td>0.01633</td>\n",
              "      <td>0.05233</td>\n",
              "      <td>0.482</td>\n",
              "      <td>0.02757</td>\n",
              "      <td>0.03858</td>\n",
              "      <td>0.03590</td>\n",
              "      <td>0.08270</td>\n",
              "      <td>0.01309</td>\n",
              "      <td>20.651</td>\n",
              "      <td>1</td>\n",
              "      <td>0.429895</td>\n",
              "      <td>0.825288</td>\n",
              "      <td>-4.443179</td>\n",
              "      <td>0.311173</td>\n",
              "      <td>2.342259</td>\n",
              "      <td>0.332634</td>\n",
              "    </tr>\n",
              "    <tr>\n",
              "      <th>3</th>\n",
              "      <td>phon_R01_S01_4</td>\n",
              "      <td>116.676</td>\n",
              "      <td>137.871</td>\n",
              "      <td>111.366</td>\n",
              "      <td>0.00997</td>\n",
              "      <td>0.00009</td>\n",
              "      <td>0.00502</td>\n",
              "      <td>0.00698</td>\n",
              "      <td>0.01505</td>\n",
              "      <td>0.05492</td>\n",
              "      <td>0.517</td>\n",
              "      <td>0.02924</td>\n",
              "      <td>0.04005</td>\n",
              "      <td>0.03772</td>\n",
              "      <td>0.08771</td>\n",
              "      <td>0.01353</td>\n",
              "      <td>20.644</td>\n",
              "      <td>1</td>\n",
              "      <td>0.434969</td>\n",
              "      <td>0.819235</td>\n",
              "      <td>-4.117501</td>\n",
              "      <td>0.334147</td>\n",
              "      <td>2.405554</td>\n",
              "      <td>0.368975</td>\n",
              "    </tr>\n",
              "    <tr>\n",
              "      <th>4</th>\n",
              "      <td>phon_R01_S01_5</td>\n",
              "      <td>116.014</td>\n",
              "      <td>141.781</td>\n",
              "      <td>110.655</td>\n",
              "      <td>0.01284</td>\n",
              "      <td>0.00011</td>\n",
              "      <td>0.00655</td>\n",
              "      <td>0.00908</td>\n",
              "      <td>0.01966</td>\n",
              "      <td>0.06425</td>\n",
              "      <td>0.584</td>\n",
              "      <td>0.03490</td>\n",
              "      <td>0.04825</td>\n",
              "      <td>0.04465</td>\n",
              "      <td>0.10470</td>\n",
              "      <td>0.01767</td>\n",
              "      <td>19.649</td>\n",
              "      <td>1</td>\n",
              "      <td>0.417356</td>\n",
              "      <td>0.823484</td>\n",
              "      <td>-3.747787</td>\n",
              "      <td>0.234513</td>\n",
              "      <td>2.332180</td>\n",
              "      <td>0.410335</td>\n",
              "    </tr>\n",
              "    <tr>\n",
              "      <th>5</th>\n",
              "      <td>phon_R01_S01_6</td>\n",
              "      <td>120.552</td>\n",
              "      <td>131.162</td>\n",
              "      <td>113.787</td>\n",
              "      <td>0.00968</td>\n",
              "      <td>0.00008</td>\n",
              "      <td>0.00463</td>\n",
              "      <td>0.00750</td>\n",
              "      <td>0.01388</td>\n",
              "      <td>0.04701</td>\n",
              "      <td>0.456</td>\n",
              "      <td>0.02328</td>\n",
              "      <td>0.03526</td>\n",
              "      <td>0.03243</td>\n",
              "      <td>0.06985</td>\n",
              "      <td>0.01222</td>\n",
              "      <td>21.378</td>\n",
              "      <td>1</td>\n",
              "      <td>0.415564</td>\n",
              "      <td>0.825069</td>\n",
              "      <td>-4.242867</td>\n",
              "      <td>0.299111</td>\n",
              "      <td>2.187560</td>\n",
              "      <td>0.357775</td>\n",
              "    </tr>\n",
              "    <tr>\n",
              "      <th>6</th>\n",
              "      <td>phon_R01_S02_1</td>\n",
              "      <td>120.267</td>\n",
              "      <td>137.244</td>\n",
              "      <td>114.820</td>\n",
              "      <td>0.00333</td>\n",
              "      <td>0.00003</td>\n",
              "      <td>0.00155</td>\n",
              "      <td>0.00202</td>\n",
              "      <td>0.00466</td>\n",
              "      <td>0.01608</td>\n",
              "      <td>0.140</td>\n",
              "      <td>0.00779</td>\n",
              "      <td>0.00937</td>\n",
              "      <td>0.01351</td>\n",
              "      <td>0.02337</td>\n",
              "      <td>0.00607</td>\n",
              "      <td>24.886</td>\n",
              "      <td>1</td>\n",
              "      <td>0.596040</td>\n",
              "      <td>0.764112</td>\n",
              "      <td>-5.634322</td>\n",
              "      <td>0.257682</td>\n",
              "      <td>1.854785</td>\n",
              "      <td>0.211756</td>\n",
              "    </tr>\n",
              "    <tr>\n",
              "      <th>7</th>\n",
              "      <td>phon_R01_S02_2</td>\n",
              "      <td>107.332</td>\n",
              "      <td>113.840</td>\n",
              "      <td>104.315</td>\n",
              "      <td>0.00290</td>\n",
              "      <td>0.00003</td>\n",
              "      <td>0.00144</td>\n",
              "      <td>0.00182</td>\n",
              "      <td>0.00431</td>\n",
              "      <td>0.01567</td>\n",
              "      <td>0.134</td>\n",
              "      <td>0.00829</td>\n",
              "      <td>0.00946</td>\n",
              "      <td>0.01256</td>\n",
              "      <td>0.02487</td>\n",
              "      <td>0.00344</td>\n",
              "      <td>26.892</td>\n",
              "      <td>1</td>\n",
              "      <td>0.637420</td>\n",
              "      <td>0.763262</td>\n",
              "      <td>-6.167603</td>\n",
              "      <td>0.183721</td>\n",
              "      <td>2.064693</td>\n",
              "      <td>0.163755</td>\n",
              "    </tr>\n",
              "    <tr>\n",
              "      <th>8</th>\n",
              "      <td>phon_R01_S02_3</td>\n",
              "      <td>95.730</td>\n",
              "      <td>132.068</td>\n",
              "      <td>91.754</td>\n",
              "      <td>0.00551</td>\n",
              "      <td>0.00006</td>\n",
              "      <td>0.00293</td>\n",
              "      <td>0.00332</td>\n",
              "      <td>0.00880</td>\n",
              "      <td>0.02093</td>\n",
              "      <td>0.191</td>\n",
              "      <td>0.01073</td>\n",
              "      <td>0.01277</td>\n",
              "      <td>0.01717</td>\n",
              "      <td>0.03218</td>\n",
              "      <td>0.01070</td>\n",
              "      <td>21.812</td>\n",
              "      <td>1</td>\n",
              "      <td>0.615551</td>\n",
              "      <td>0.773587</td>\n",
              "      <td>-5.498678</td>\n",
              "      <td>0.327769</td>\n",
              "      <td>2.322511</td>\n",
              "      <td>0.231571</td>\n",
              "    </tr>\n",
              "    <tr>\n",
              "      <th>9</th>\n",
              "      <td>phon_R01_S02_4</td>\n",
              "      <td>95.056</td>\n",
              "      <td>120.103</td>\n",
              "      <td>91.226</td>\n",
              "      <td>0.00532</td>\n",
              "      <td>0.00006</td>\n",
              "      <td>0.00268</td>\n",
              "      <td>0.00332</td>\n",
              "      <td>0.00803</td>\n",
              "      <td>0.02838</td>\n",
              "      <td>0.255</td>\n",
              "      <td>0.01441</td>\n",
              "      <td>0.01725</td>\n",
              "      <td>0.02444</td>\n",
              "      <td>0.04324</td>\n",
              "      <td>0.01022</td>\n",
              "      <td>21.862</td>\n",
              "      <td>1</td>\n",
              "      <td>0.547037</td>\n",
              "      <td>0.798463</td>\n",
              "      <td>-5.011879</td>\n",
              "      <td>0.325996</td>\n",
              "      <td>2.432792</td>\n",
              "      <td>0.271362</td>\n",
              "    </tr>\n",
              "    <tr>\n",
              "      <th>10</th>\n",
              "      <td>phon_R01_S02_5</td>\n",
              "      <td>88.333</td>\n",
              "      <td>112.240</td>\n",
              "      <td>84.072</td>\n",
              "      <td>0.00505</td>\n",
              "      <td>0.00006</td>\n",
              "      <td>0.00254</td>\n",
              "      <td>0.00330</td>\n",
              "      <td>0.00763</td>\n",
              "      <td>0.02143</td>\n",
              "      <td>0.197</td>\n",
              "      <td>0.01079</td>\n",
              "      <td>0.01342</td>\n",
              "      <td>0.01892</td>\n",
              "      <td>0.03237</td>\n",
              "      <td>0.01166</td>\n",
              "      <td>21.118</td>\n",
              "      <td>1</td>\n",
              "      <td>0.611137</td>\n",
              "      <td>0.776156</td>\n",
              "      <td>-5.249770</td>\n",
              "      <td>0.391002</td>\n",
              "      <td>2.407313</td>\n",
              "      <td>0.249740</td>\n",
              "    </tr>\n",
              "    <tr>\n",
              "      <th>11</th>\n",
              "      <td>phon_R01_S02_6</td>\n",
              "      <td>91.904</td>\n",
              "      <td>115.871</td>\n",
              "      <td>86.292</td>\n",
              "      <td>0.00540</td>\n",
              "      <td>0.00006</td>\n",
              "      <td>0.00281</td>\n",
              "      <td>0.00336</td>\n",
              "      <td>0.00844</td>\n",
              "      <td>0.02752</td>\n",
              "      <td>0.249</td>\n",
              "      <td>0.01424</td>\n",
              "      <td>0.01641</td>\n",
              "      <td>0.02214</td>\n",
              "      <td>0.04272</td>\n",
              "      <td>0.01141</td>\n",
              "      <td>21.414</td>\n",
              "      <td>1</td>\n",
              "      <td>0.583390</td>\n",
              "      <td>0.792520</td>\n",
              "      <td>-4.960234</td>\n",
              "      <td>0.363566</td>\n",
              "      <td>2.642476</td>\n",
              "      <td>0.275931</td>\n",
              "    </tr>\n",
              "    <tr>\n",
              "      <th>12</th>\n",
              "      <td>phon_R01_S04_1</td>\n",
              "      <td>136.926</td>\n",
              "      <td>159.866</td>\n",
              "      <td>131.276</td>\n",
              "      <td>0.00293</td>\n",
              "      <td>0.00002</td>\n",
              "      <td>0.00118</td>\n",
              "      <td>0.00153</td>\n",
              "      <td>0.00355</td>\n",
              "      <td>0.01259</td>\n",
              "      <td>0.112</td>\n",
              "      <td>0.00656</td>\n",
              "      <td>0.00717</td>\n",
              "      <td>0.01140</td>\n",
              "      <td>0.01968</td>\n",
              "      <td>0.00581</td>\n",
              "      <td>25.703</td>\n",
              "      <td>1</td>\n",
              "      <td>0.460600</td>\n",
              "      <td>0.646846</td>\n",
              "      <td>-6.547148</td>\n",
              "      <td>0.152813</td>\n",
              "      <td>2.041277</td>\n",
              "      <td>0.138512</td>\n",
              "    </tr>\n",
              "    <tr>\n",
              "      <th>13</th>\n",
              "      <td>phon_R01_S04_2</td>\n",
              "      <td>139.173</td>\n",
              "      <td>179.139</td>\n",
              "      <td>76.556</td>\n",
              "      <td>0.00390</td>\n",
              "      <td>0.00003</td>\n",
              "      <td>0.00165</td>\n",
              "      <td>0.00208</td>\n",
              "      <td>0.00496</td>\n",
              "      <td>0.01642</td>\n",
              "      <td>0.154</td>\n",
              "      <td>0.00728</td>\n",
              "      <td>0.00932</td>\n",
              "      <td>0.01797</td>\n",
              "      <td>0.02184</td>\n",
              "      <td>0.01041</td>\n",
              "      <td>24.889</td>\n",
              "      <td>1</td>\n",
              "      <td>0.430166</td>\n",
              "      <td>0.665833</td>\n",
              "      <td>-5.660217</td>\n",
              "      <td>0.254989</td>\n",
              "      <td>2.519422</td>\n",
              "      <td>0.199889</td>\n",
              "    </tr>\n",
              "    <tr>\n",
              "      <th>14</th>\n",
              "      <td>phon_R01_S04_3</td>\n",
              "      <td>152.845</td>\n",
              "      <td>163.305</td>\n",
              "      <td>75.836</td>\n",
              "      <td>0.00294</td>\n",
              "      <td>0.00002</td>\n",
              "      <td>0.00121</td>\n",
              "      <td>0.00149</td>\n",
              "      <td>0.00364</td>\n",
              "      <td>0.01828</td>\n",
              "      <td>0.158</td>\n",
              "      <td>0.01064</td>\n",
              "      <td>0.00972</td>\n",
              "      <td>0.01246</td>\n",
              "      <td>0.03191</td>\n",
              "      <td>0.00609</td>\n",
              "      <td>24.922</td>\n",
              "      <td>1</td>\n",
              "      <td>0.474791</td>\n",
              "      <td>0.654027</td>\n",
              "      <td>-6.105098</td>\n",
              "      <td>0.203653</td>\n",
              "      <td>2.125618</td>\n",
              "      <td>0.170100</td>\n",
              "    </tr>\n",
              "  </tbody>\n",
              "</table>\n",
              "</div>"
            ],
            "text/plain": [
              "              name  MDVP:Fo(Hz)  MDVP:Fhi(Hz)  ...   spread2        D2       PPE\n",
              "0   phon_R01_S01_1      119.992       157.302  ...  0.266482  2.301442  0.284654\n",
              "1   phon_R01_S01_2      122.400       148.650  ...  0.335590  2.486855  0.368674\n",
              "2   phon_R01_S01_3      116.682       131.111  ...  0.311173  2.342259  0.332634\n",
              "3   phon_R01_S01_4      116.676       137.871  ...  0.334147  2.405554  0.368975\n",
              "4   phon_R01_S01_5      116.014       141.781  ...  0.234513  2.332180  0.410335\n",
              "5   phon_R01_S01_6      120.552       131.162  ...  0.299111  2.187560  0.357775\n",
              "6   phon_R01_S02_1      120.267       137.244  ...  0.257682  1.854785  0.211756\n",
              "7   phon_R01_S02_2      107.332       113.840  ...  0.183721  2.064693  0.163755\n",
              "8   phon_R01_S02_3       95.730       132.068  ...  0.327769  2.322511  0.231571\n",
              "9   phon_R01_S02_4       95.056       120.103  ...  0.325996  2.432792  0.271362\n",
              "10  phon_R01_S02_5       88.333       112.240  ...  0.391002  2.407313  0.249740\n",
              "11  phon_R01_S02_6       91.904       115.871  ...  0.363566  2.642476  0.275931\n",
              "12  phon_R01_S04_1      136.926       159.866  ...  0.152813  2.041277  0.138512\n",
              "13  phon_R01_S04_2      139.173       179.139  ...  0.254989  2.519422  0.199889\n",
              "14  phon_R01_S04_3      152.845       163.305  ...  0.203653  2.125618  0.170100\n",
              "\n",
              "[15 rows x 24 columns]"
            ]
          },
          "metadata": {},
          "execution_count": 5
        }
      ]
    },
    {
      "cell_type": "markdown",
      "metadata": {
        "id": "dfKqkAp2dR4n"
      },
      "source": [
        "##Shaping Rows & Coloums"
      ]
    },
    {
      "cell_type": "code",
      "metadata": {
        "colab": {
          "base_uri": "https://localhost:8080/"
        },
        "id": "ZWqxWgZO8VV_",
        "outputId": "bb9b1fd7-70f6-4f39-f2bb-4383e95ecd56"
      },
      "source": [
        "df.shape"
      ],
      "execution_count": null,
      "outputs": [
        {
          "output_type": "execute_result",
          "data": {
            "text/plain": [
              "(195, 24)"
            ]
          },
          "metadata": {},
          "execution_count": 6
        }
      ]
    },
    {
      "cell_type": "markdown",
      "metadata": {
        "id": "n0R78wJLdhhB"
      },
      "source": [
        "##Describe DataSet"
      ]
    },
    {
      "cell_type": "code",
      "metadata": {
        "colab": {
          "base_uri": "https://localhost:8080/",
          "height": 320
        },
        "id": "ON66lZnO8fuQ",
        "outputId": "9ccd62b2-2ffc-4dbe-ade5-546c5d4a224d"
      },
      "source": [
        "df.describe()"
      ],
      "execution_count": null,
      "outputs": [
        {
          "output_type": "execute_result",
          "data": {
            "text/html": [
              "<div>\n",
              "<style scoped>\n",
              "    .dataframe tbody tr th:only-of-type {\n",
              "        vertical-align: middle;\n",
              "    }\n",
              "\n",
              "    .dataframe tbody tr th {\n",
              "        vertical-align: top;\n",
              "    }\n",
              "\n",
              "    .dataframe thead th {\n",
              "        text-align: right;\n",
              "    }\n",
              "</style>\n",
              "<table border=\"1\" class=\"dataframe\">\n",
              "  <thead>\n",
              "    <tr style=\"text-align: right;\">\n",
              "      <th></th>\n",
              "      <th>MDVP:Fo(Hz)</th>\n",
              "      <th>MDVP:Fhi(Hz)</th>\n",
              "      <th>MDVP:Flo(Hz)</th>\n",
              "      <th>MDVP:Jitter(%)</th>\n",
              "      <th>MDVP:Jitter(Abs)</th>\n",
              "      <th>MDVP:RAP</th>\n",
              "      <th>MDVP:PPQ</th>\n",
              "      <th>Jitter:DDP</th>\n",
              "      <th>MDVP:Shimmer</th>\n",
              "      <th>MDVP:Shimmer(dB)</th>\n",
              "      <th>Shimmer:APQ3</th>\n",
              "      <th>Shimmer:APQ5</th>\n",
              "      <th>MDVP:APQ</th>\n",
              "      <th>Shimmer:DDA</th>\n",
              "      <th>NHR</th>\n",
              "      <th>HNR</th>\n",
              "      <th>status</th>\n",
              "      <th>RPDE</th>\n",
              "      <th>DFA</th>\n",
              "      <th>spread1</th>\n",
              "      <th>spread2</th>\n",
              "      <th>D2</th>\n",
              "      <th>PPE</th>\n",
              "    </tr>\n",
              "  </thead>\n",
              "  <tbody>\n",
              "    <tr>\n",
              "      <th>count</th>\n",
              "      <td>195.000000</td>\n",
              "      <td>195.000000</td>\n",
              "      <td>195.000000</td>\n",
              "      <td>195.000000</td>\n",
              "      <td>195.000000</td>\n",
              "      <td>195.000000</td>\n",
              "      <td>195.000000</td>\n",
              "      <td>195.000000</td>\n",
              "      <td>195.000000</td>\n",
              "      <td>195.000000</td>\n",
              "      <td>195.000000</td>\n",
              "      <td>195.000000</td>\n",
              "      <td>195.000000</td>\n",
              "      <td>195.000000</td>\n",
              "      <td>195.000000</td>\n",
              "      <td>195.000000</td>\n",
              "      <td>195.000000</td>\n",
              "      <td>195.000000</td>\n",
              "      <td>195.000000</td>\n",
              "      <td>195.000000</td>\n",
              "      <td>195.000000</td>\n",
              "      <td>195.000000</td>\n",
              "      <td>195.000000</td>\n",
              "    </tr>\n",
              "    <tr>\n",
              "      <th>mean</th>\n",
              "      <td>154.228641</td>\n",
              "      <td>197.104918</td>\n",
              "      <td>116.324631</td>\n",
              "      <td>0.006220</td>\n",
              "      <td>0.000044</td>\n",
              "      <td>0.003306</td>\n",
              "      <td>0.003446</td>\n",
              "      <td>0.009920</td>\n",
              "      <td>0.029709</td>\n",
              "      <td>0.282251</td>\n",
              "      <td>0.015664</td>\n",
              "      <td>0.017878</td>\n",
              "      <td>0.024081</td>\n",
              "      <td>0.046993</td>\n",
              "      <td>0.024847</td>\n",
              "      <td>21.885974</td>\n",
              "      <td>0.753846</td>\n",
              "      <td>0.498536</td>\n",
              "      <td>0.718099</td>\n",
              "      <td>-5.684397</td>\n",
              "      <td>0.226510</td>\n",
              "      <td>2.381826</td>\n",
              "      <td>0.206552</td>\n",
              "    </tr>\n",
              "    <tr>\n",
              "      <th>std</th>\n",
              "      <td>41.390065</td>\n",
              "      <td>91.491548</td>\n",
              "      <td>43.521413</td>\n",
              "      <td>0.004848</td>\n",
              "      <td>0.000035</td>\n",
              "      <td>0.002968</td>\n",
              "      <td>0.002759</td>\n",
              "      <td>0.008903</td>\n",
              "      <td>0.018857</td>\n",
              "      <td>0.194877</td>\n",
              "      <td>0.010153</td>\n",
              "      <td>0.012024</td>\n",
              "      <td>0.016947</td>\n",
              "      <td>0.030459</td>\n",
              "      <td>0.040418</td>\n",
              "      <td>4.425764</td>\n",
              "      <td>0.431878</td>\n",
              "      <td>0.103942</td>\n",
              "      <td>0.055336</td>\n",
              "      <td>1.090208</td>\n",
              "      <td>0.083406</td>\n",
              "      <td>0.382799</td>\n",
              "      <td>0.090119</td>\n",
              "    </tr>\n",
              "    <tr>\n",
              "      <th>min</th>\n",
              "      <td>88.333000</td>\n",
              "      <td>102.145000</td>\n",
              "      <td>65.476000</td>\n",
              "      <td>0.001680</td>\n",
              "      <td>0.000007</td>\n",
              "      <td>0.000680</td>\n",
              "      <td>0.000920</td>\n",
              "      <td>0.002040</td>\n",
              "      <td>0.009540</td>\n",
              "      <td>0.085000</td>\n",
              "      <td>0.004550</td>\n",
              "      <td>0.005700</td>\n",
              "      <td>0.007190</td>\n",
              "      <td>0.013640</td>\n",
              "      <td>0.000650</td>\n",
              "      <td>8.441000</td>\n",
              "      <td>0.000000</td>\n",
              "      <td>0.256570</td>\n",
              "      <td>0.574282</td>\n",
              "      <td>-7.964984</td>\n",
              "      <td>0.006274</td>\n",
              "      <td>1.423287</td>\n",
              "      <td>0.044539</td>\n",
              "    </tr>\n",
              "    <tr>\n",
              "      <th>25%</th>\n",
              "      <td>117.572000</td>\n",
              "      <td>134.862500</td>\n",
              "      <td>84.291000</td>\n",
              "      <td>0.003460</td>\n",
              "      <td>0.000020</td>\n",
              "      <td>0.001660</td>\n",
              "      <td>0.001860</td>\n",
              "      <td>0.004985</td>\n",
              "      <td>0.016505</td>\n",
              "      <td>0.148500</td>\n",
              "      <td>0.008245</td>\n",
              "      <td>0.009580</td>\n",
              "      <td>0.013080</td>\n",
              "      <td>0.024735</td>\n",
              "      <td>0.005925</td>\n",
              "      <td>19.198000</td>\n",
              "      <td>1.000000</td>\n",
              "      <td>0.421306</td>\n",
              "      <td>0.674758</td>\n",
              "      <td>-6.450096</td>\n",
              "      <td>0.174351</td>\n",
              "      <td>2.099125</td>\n",
              "      <td>0.137451</td>\n",
              "    </tr>\n",
              "    <tr>\n",
              "      <th>50%</th>\n",
              "      <td>148.790000</td>\n",
              "      <td>175.829000</td>\n",
              "      <td>104.315000</td>\n",
              "      <td>0.004940</td>\n",
              "      <td>0.000030</td>\n",
              "      <td>0.002500</td>\n",
              "      <td>0.002690</td>\n",
              "      <td>0.007490</td>\n",
              "      <td>0.022970</td>\n",
              "      <td>0.221000</td>\n",
              "      <td>0.012790</td>\n",
              "      <td>0.013470</td>\n",
              "      <td>0.018260</td>\n",
              "      <td>0.038360</td>\n",
              "      <td>0.011660</td>\n",
              "      <td>22.085000</td>\n",
              "      <td>1.000000</td>\n",
              "      <td>0.495954</td>\n",
              "      <td>0.722254</td>\n",
              "      <td>-5.720868</td>\n",
              "      <td>0.218885</td>\n",
              "      <td>2.361532</td>\n",
              "      <td>0.194052</td>\n",
              "    </tr>\n",
              "    <tr>\n",
              "      <th>75%</th>\n",
              "      <td>182.769000</td>\n",
              "      <td>224.205500</td>\n",
              "      <td>140.018500</td>\n",
              "      <td>0.007365</td>\n",
              "      <td>0.000060</td>\n",
              "      <td>0.003835</td>\n",
              "      <td>0.003955</td>\n",
              "      <td>0.011505</td>\n",
              "      <td>0.037885</td>\n",
              "      <td>0.350000</td>\n",
              "      <td>0.020265</td>\n",
              "      <td>0.022380</td>\n",
              "      <td>0.029400</td>\n",
              "      <td>0.060795</td>\n",
              "      <td>0.025640</td>\n",
              "      <td>25.075500</td>\n",
              "      <td>1.000000</td>\n",
              "      <td>0.587562</td>\n",
              "      <td>0.761881</td>\n",
              "      <td>-5.046192</td>\n",
              "      <td>0.279234</td>\n",
              "      <td>2.636456</td>\n",
              "      <td>0.252980</td>\n",
              "    </tr>\n",
              "    <tr>\n",
              "      <th>max</th>\n",
              "      <td>260.105000</td>\n",
              "      <td>592.030000</td>\n",
              "      <td>239.170000</td>\n",
              "      <td>0.033160</td>\n",
              "      <td>0.000260</td>\n",
              "      <td>0.021440</td>\n",
              "      <td>0.019580</td>\n",
              "      <td>0.064330</td>\n",
              "      <td>0.119080</td>\n",
              "      <td>1.302000</td>\n",
              "      <td>0.056470</td>\n",
              "      <td>0.079400</td>\n",
              "      <td>0.137780</td>\n",
              "      <td>0.169420</td>\n",
              "      <td>0.314820</td>\n",
              "      <td>33.047000</td>\n",
              "      <td>1.000000</td>\n",
              "      <td>0.685151</td>\n",
              "      <td>0.825288</td>\n",
              "      <td>-2.434031</td>\n",
              "      <td>0.450493</td>\n",
              "      <td>3.671155</td>\n",
              "      <td>0.527367</td>\n",
              "    </tr>\n",
              "  </tbody>\n",
              "</table>\n",
              "</div>"
            ],
            "text/plain": [
              "       MDVP:Fo(Hz)  MDVP:Fhi(Hz)  ...          D2         PPE\n",
              "count   195.000000    195.000000  ...  195.000000  195.000000\n",
              "mean    154.228641    197.104918  ...    2.381826    0.206552\n",
              "std      41.390065     91.491548  ...    0.382799    0.090119\n",
              "min      88.333000    102.145000  ...    1.423287    0.044539\n",
              "25%     117.572000    134.862500  ...    2.099125    0.137451\n",
              "50%     148.790000    175.829000  ...    2.361532    0.194052\n",
              "75%     182.769000    224.205500  ...    2.636456    0.252980\n",
              "max     260.105000    592.030000  ...    3.671155    0.527367\n",
              "\n",
              "[8 rows x 23 columns]"
            ]
          },
          "metadata": {},
          "execution_count": 7
        }
      ]
    },
    {
      "cell_type": "code",
      "metadata": {
        "colab": {
          "base_uri": "https://localhost:8080/",
          "height": 791
        },
        "id": "oANX22un8iDI",
        "outputId": "b798787c-2404-4e2a-b850-bb88829fb414"
      },
      "source": [
        "df.corr()"
      ],
      "execution_count": null,
      "outputs": [
        {
          "output_type": "execute_result",
          "data": {
            "text/html": [
              "<div>\n",
              "<style scoped>\n",
              "    .dataframe tbody tr th:only-of-type {\n",
              "        vertical-align: middle;\n",
              "    }\n",
              "\n",
              "    .dataframe tbody tr th {\n",
              "        vertical-align: top;\n",
              "    }\n",
              "\n",
              "    .dataframe thead th {\n",
              "        text-align: right;\n",
              "    }\n",
              "</style>\n",
              "<table border=\"1\" class=\"dataframe\">\n",
              "  <thead>\n",
              "    <tr style=\"text-align: right;\">\n",
              "      <th></th>\n",
              "      <th>MDVP:Fo(Hz)</th>\n",
              "      <th>MDVP:Fhi(Hz)</th>\n",
              "      <th>MDVP:Flo(Hz)</th>\n",
              "      <th>MDVP:Jitter(%)</th>\n",
              "      <th>MDVP:Jitter(Abs)</th>\n",
              "      <th>MDVP:RAP</th>\n",
              "      <th>MDVP:PPQ</th>\n",
              "      <th>Jitter:DDP</th>\n",
              "      <th>MDVP:Shimmer</th>\n",
              "      <th>MDVP:Shimmer(dB)</th>\n",
              "      <th>Shimmer:APQ3</th>\n",
              "      <th>Shimmer:APQ5</th>\n",
              "      <th>MDVP:APQ</th>\n",
              "      <th>Shimmer:DDA</th>\n",
              "      <th>NHR</th>\n",
              "      <th>HNR</th>\n",
              "      <th>status</th>\n",
              "      <th>RPDE</th>\n",
              "      <th>DFA</th>\n",
              "      <th>spread1</th>\n",
              "      <th>spread2</th>\n",
              "      <th>D2</th>\n",
              "      <th>PPE</th>\n",
              "    </tr>\n",
              "  </thead>\n",
              "  <tbody>\n",
              "    <tr>\n",
              "      <th>MDVP:Fo(Hz)</th>\n",
              "      <td>1.000000</td>\n",
              "      <td>0.400985</td>\n",
              "      <td>0.596546</td>\n",
              "      <td>-0.118003</td>\n",
              "      <td>-0.382027</td>\n",
              "      <td>-0.076194</td>\n",
              "      <td>-0.112165</td>\n",
              "      <td>-0.076213</td>\n",
              "      <td>-0.098374</td>\n",
              "      <td>-0.073742</td>\n",
              "      <td>-0.094717</td>\n",
              "      <td>-0.070682</td>\n",
              "      <td>-0.077774</td>\n",
              "      <td>-0.094732</td>\n",
              "      <td>-0.021981</td>\n",
              "      <td>0.059144</td>\n",
              "      <td>-0.383535</td>\n",
              "      <td>-0.383894</td>\n",
              "      <td>-0.446013</td>\n",
              "      <td>-0.413738</td>\n",
              "      <td>-0.249450</td>\n",
              "      <td>0.177980</td>\n",
              "      <td>-0.372356</td>\n",
              "    </tr>\n",
              "    <tr>\n",
              "      <th>MDVP:Fhi(Hz)</th>\n",
              "      <td>0.400985</td>\n",
              "      <td>1.000000</td>\n",
              "      <td>0.084951</td>\n",
              "      <td>0.102086</td>\n",
              "      <td>-0.029198</td>\n",
              "      <td>0.097177</td>\n",
              "      <td>0.091126</td>\n",
              "      <td>0.097150</td>\n",
              "      <td>0.002281</td>\n",
              "      <td>0.043465</td>\n",
              "      <td>-0.003743</td>\n",
              "      <td>-0.009997</td>\n",
              "      <td>0.004937</td>\n",
              "      <td>-0.003733</td>\n",
              "      <td>0.163766</td>\n",
              "      <td>-0.024893</td>\n",
              "      <td>-0.166136</td>\n",
              "      <td>-0.112404</td>\n",
              "      <td>-0.343097</td>\n",
              "      <td>-0.076658</td>\n",
              "      <td>-0.002954</td>\n",
              "      <td>0.176323</td>\n",
              "      <td>-0.069543</td>\n",
              "    </tr>\n",
              "    <tr>\n",
              "      <th>MDVP:Flo(Hz)</th>\n",
              "      <td>0.596546</td>\n",
              "      <td>0.084951</td>\n",
              "      <td>1.000000</td>\n",
              "      <td>-0.139919</td>\n",
              "      <td>-0.277815</td>\n",
              "      <td>-0.100519</td>\n",
              "      <td>-0.095828</td>\n",
              "      <td>-0.100488</td>\n",
              "      <td>-0.144543</td>\n",
              "      <td>-0.119089</td>\n",
              "      <td>-0.150747</td>\n",
              "      <td>-0.101095</td>\n",
              "      <td>-0.107293</td>\n",
              "      <td>-0.150737</td>\n",
              "      <td>-0.108670</td>\n",
              "      <td>0.210851</td>\n",
              "      <td>-0.380200</td>\n",
              "      <td>-0.400143</td>\n",
              "      <td>-0.050406</td>\n",
              "      <td>-0.394857</td>\n",
              "      <td>-0.243829</td>\n",
              "      <td>-0.100629</td>\n",
              "      <td>-0.340071</td>\n",
              "    </tr>\n",
              "    <tr>\n",
              "      <th>MDVP:Jitter(%)</th>\n",
              "      <td>-0.118003</td>\n",
              "      <td>0.102086</td>\n",
              "      <td>-0.139919</td>\n",
              "      <td>1.000000</td>\n",
              "      <td>0.935714</td>\n",
              "      <td>0.990276</td>\n",
              "      <td>0.974256</td>\n",
              "      <td>0.990276</td>\n",
              "      <td>0.769063</td>\n",
              "      <td>0.804289</td>\n",
              "      <td>0.746625</td>\n",
              "      <td>0.725561</td>\n",
              "      <td>0.758255</td>\n",
              "      <td>0.746635</td>\n",
              "      <td>0.906959</td>\n",
              "      <td>-0.728165</td>\n",
              "      <td>0.278220</td>\n",
              "      <td>0.360673</td>\n",
              "      <td>0.098572</td>\n",
              "      <td>0.693577</td>\n",
              "      <td>0.385123</td>\n",
              "      <td>0.433434</td>\n",
              "      <td>0.721543</td>\n",
              "    </tr>\n",
              "    <tr>\n",
              "      <th>MDVP:Jitter(Abs)</th>\n",
              "      <td>-0.382027</td>\n",
              "      <td>-0.029198</td>\n",
              "      <td>-0.277815</td>\n",
              "      <td>0.935714</td>\n",
              "      <td>1.000000</td>\n",
              "      <td>0.922911</td>\n",
              "      <td>0.897778</td>\n",
              "      <td>0.922913</td>\n",
              "      <td>0.703322</td>\n",
              "      <td>0.716601</td>\n",
              "      <td>0.697153</td>\n",
              "      <td>0.648961</td>\n",
              "      <td>0.648793</td>\n",
              "      <td>0.697170</td>\n",
              "      <td>0.834972</td>\n",
              "      <td>-0.656810</td>\n",
              "      <td>0.338653</td>\n",
              "      <td>0.441839</td>\n",
              "      <td>0.175036</td>\n",
              "      <td>0.735779</td>\n",
              "      <td>0.388543</td>\n",
              "      <td>0.310694</td>\n",
              "      <td>0.748162</td>\n",
              "    </tr>\n",
              "    <tr>\n",
              "      <th>MDVP:RAP</th>\n",
              "      <td>-0.076194</td>\n",
              "      <td>0.097177</td>\n",
              "      <td>-0.100519</td>\n",
              "      <td>0.990276</td>\n",
              "      <td>0.922911</td>\n",
              "      <td>1.000000</td>\n",
              "      <td>0.957317</td>\n",
              "      <td>1.000000</td>\n",
              "      <td>0.759581</td>\n",
              "      <td>0.790652</td>\n",
              "      <td>0.744912</td>\n",
              "      <td>0.709927</td>\n",
              "      <td>0.737455</td>\n",
              "      <td>0.744919</td>\n",
              "      <td>0.919521</td>\n",
              "      <td>-0.721543</td>\n",
              "      <td>0.266668</td>\n",
              "      <td>0.342140</td>\n",
              "      <td>0.064083</td>\n",
              "      <td>0.648328</td>\n",
              "      <td>0.324407</td>\n",
              "      <td>0.426605</td>\n",
              "      <td>0.670999</td>\n",
              "    </tr>\n",
              "    <tr>\n",
              "      <th>MDVP:PPQ</th>\n",
              "      <td>-0.112165</td>\n",
              "      <td>0.091126</td>\n",
              "      <td>-0.095828</td>\n",
              "      <td>0.974256</td>\n",
              "      <td>0.897778</td>\n",
              "      <td>0.957317</td>\n",
              "      <td>1.000000</td>\n",
              "      <td>0.957319</td>\n",
              "      <td>0.797826</td>\n",
              "      <td>0.839239</td>\n",
              "      <td>0.763580</td>\n",
              "      <td>0.786780</td>\n",
              "      <td>0.804139</td>\n",
              "      <td>0.763592</td>\n",
              "      <td>0.844604</td>\n",
              "      <td>-0.731510</td>\n",
              "      <td>0.288698</td>\n",
              "      <td>0.333274</td>\n",
              "      <td>0.196301</td>\n",
              "      <td>0.716489</td>\n",
              "      <td>0.407605</td>\n",
              "      <td>0.412524</td>\n",
              "      <td>0.769647</td>\n",
              "    </tr>\n",
              "    <tr>\n",
              "      <th>Jitter:DDP</th>\n",
              "      <td>-0.076213</td>\n",
              "      <td>0.097150</td>\n",
              "      <td>-0.100488</td>\n",
              "      <td>0.990276</td>\n",
              "      <td>0.922913</td>\n",
              "      <td>1.000000</td>\n",
              "      <td>0.957319</td>\n",
              "      <td>1.000000</td>\n",
              "      <td>0.759555</td>\n",
              "      <td>0.790621</td>\n",
              "      <td>0.744894</td>\n",
              "      <td>0.709907</td>\n",
              "      <td>0.737439</td>\n",
              "      <td>0.744901</td>\n",
              "      <td>0.919548</td>\n",
              "      <td>-0.721494</td>\n",
              "      <td>0.266646</td>\n",
              "      <td>0.342079</td>\n",
              "      <td>0.064026</td>\n",
              "      <td>0.648328</td>\n",
              "      <td>0.324377</td>\n",
              "      <td>0.426556</td>\n",
              "      <td>0.671005</td>\n",
              "    </tr>\n",
              "    <tr>\n",
              "      <th>MDVP:Shimmer</th>\n",
              "      <td>-0.098374</td>\n",
              "      <td>0.002281</td>\n",
              "      <td>-0.144543</td>\n",
              "      <td>0.769063</td>\n",
              "      <td>0.703322</td>\n",
              "      <td>0.759581</td>\n",
              "      <td>0.797826</td>\n",
              "      <td>0.759555</td>\n",
              "      <td>1.000000</td>\n",
              "      <td>0.987258</td>\n",
              "      <td>0.987625</td>\n",
              "      <td>0.982835</td>\n",
              "      <td>0.950083</td>\n",
              "      <td>0.987626</td>\n",
              "      <td>0.722194</td>\n",
              "      <td>-0.835271</td>\n",
              "      <td>0.367430</td>\n",
              "      <td>0.447424</td>\n",
              "      <td>0.159954</td>\n",
              "      <td>0.654734</td>\n",
              "      <td>0.452025</td>\n",
              "      <td>0.507088</td>\n",
              "      <td>0.693771</td>\n",
              "    </tr>\n",
              "    <tr>\n",
              "      <th>MDVP:Shimmer(dB)</th>\n",
              "      <td>-0.073742</td>\n",
              "      <td>0.043465</td>\n",
              "      <td>-0.119089</td>\n",
              "      <td>0.804289</td>\n",
              "      <td>0.716601</td>\n",
              "      <td>0.790652</td>\n",
              "      <td>0.839239</td>\n",
              "      <td>0.790621</td>\n",
              "      <td>0.987258</td>\n",
              "      <td>1.000000</td>\n",
              "      <td>0.963198</td>\n",
              "      <td>0.973751</td>\n",
              "      <td>0.960977</td>\n",
              "      <td>0.963202</td>\n",
              "      <td>0.744477</td>\n",
              "      <td>-0.827805</td>\n",
              "      <td>0.350697</td>\n",
              "      <td>0.410684</td>\n",
              "      <td>0.165157</td>\n",
              "      <td>0.652547</td>\n",
              "      <td>0.454314</td>\n",
              "      <td>0.512233</td>\n",
              "      <td>0.695058</td>\n",
              "    </tr>\n",
              "    <tr>\n",
              "      <th>Shimmer:APQ3</th>\n",
              "      <td>-0.094717</td>\n",
              "      <td>-0.003743</td>\n",
              "      <td>-0.150747</td>\n",
              "      <td>0.746625</td>\n",
              "      <td>0.697153</td>\n",
              "      <td>0.744912</td>\n",
              "      <td>0.763580</td>\n",
              "      <td>0.744894</td>\n",
              "      <td>0.987625</td>\n",
              "      <td>0.963198</td>\n",
              "      <td>1.000000</td>\n",
              "      <td>0.960070</td>\n",
              "      <td>0.896645</td>\n",
              "      <td>1.000000</td>\n",
              "      <td>0.716207</td>\n",
              "      <td>-0.827123</td>\n",
              "      <td>0.347617</td>\n",
              "      <td>0.435242</td>\n",
              "      <td>0.151124</td>\n",
              "      <td>0.610967</td>\n",
              "      <td>0.402243</td>\n",
              "      <td>0.467265</td>\n",
              "      <td>0.645377</td>\n",
              "    </tr>\n",
              "    <tr>\n",
              "      <th>Shimmer:APQ5</th>\n",
              "      <td>-0.070682</td>\n",
              "      <td>-0.009997</td>\n",
              "      <td>-0.101095</td>\n",
              "      <td>0.725561</td>\n",
              "      <td>0.648961</td>\n",
              "      <td>0.709927</td>\n",
              "      <td>0.786780</td>\n",
              "      <td>0.709907</td>\n",
              "      <td>0.982835</td>\n",
              "      <td>0.973751</td>\n",
              "      <td>0.960070</td>\n",
              "      <td>1.000000</td>\n",
              "      <td>0.949146</td>\n",
              "      <td>0.960072</td>\n",
              "      <td>0.658080</td>\n",
              "      <td>-0.813753</td>\n",
              "      <td>0.351148</td>\n",
              "      <td>0.399903</td>\n",
              "      <td>0.213873</td>\n",
              "      <td>0.646809</td>\n",
              "      <td>0.457195</td>\n",
              "      <td>0.502174</td>\n",
              "      <td>0.702456</td>\n",
              "    </tr>\n",
              "    <tr>\n",
              "      <th>MDVP:APQ</th>\n",
              "      <td>-0.077774</td>\n",
              "      <td>0.004937</td>\n",
              "      <td>-0.107293</td>\n",
              "      <td>0.758255</td>\n",
              "      <td>0.648793</td>\n",
              "      <td>0.737455</td>\n",
              "      <td>0.804139</td>\n",
              "      <td>0.737439</td>\n",
              "      <td>0.950083</td>\n",
              "      <td>0.960977</td>\n",
              "      <td>0.896645</td>\n",
              "      <td>0.949146</td>\n",
              "      <td>1.000000</td>\n",
              "      <td>0.896647</td>\n",
              "      <td>0.694019</td>\n",
              "      <td>-0.800407</td>\n",
              "      <td>0.364316</td>\n",
              "      <td>0.451379</td>\n",
              "      <td>0.157276</td>\n",
              "      <td>0.673158</td>\n",
              "      <td>0.502188</td>\n",
              "      <td>0.536869</td>\n",
              "      <td>0.721694</td>\n",
              "    </tr>\n",
              "    <tr>\n",
              "      <th>Shimmer:DDA</th>\n",
              "      <td>-0.094732</td>\n",
              "      <td>-0.003733</td>\n",
              "      <td>-0.150737</td>\n",
              "      <td>0.746635</td>\n",
              "      <td>0.697170</td>\n",
              "      <td>0.744919</td>\n",
              "      <td>0.763592</td>\n",
              "      <td>0.744901</td>\n",
              "      <td>0.987626</td>\n",
              "      <td>0.963202</td>\n",
              "      <td>1.000000</td>\n",
              "      <td>0.960072</td>\n",
              "      <td>0.896647</td>\n",
              "      <td>1.000000</td>\n",
              "      <td>0.716215</td>\n",
              "      <td>-0.827130</td>\n",
              "      <td>0.347608</td>\n",
              "      <td>0.435237</td>\n",
              "      <td>0.151132</td>\n",
              "      <td>0.610971</td>\n",
              "      <td>0.402223</td>\n",
              "      <td>0.467261</td>\n",
              "      <td>0.645389</td>\n",
              "    </tr>\n",
              "    <tr>\n",
              "      <th>NHR</th>\n",
              "      <td>-0.021981</td>\n",
              "      <td>0.163766</td>\n",
              "      <td>-0.108670</td>\n",
              "      <td>0.906959</td>\n",
              "      <td>0.834972</td>\n",
              "      <td>0.919521</td>\n",
              "      <td>0.844604</td>\n",
              "      <td>0.919548</td>\n",
              "      <td>0.722194</td>\n",
              "      <td>0.744477</td>\n",
              "      <td>0.716207</td>\n",
              "      <td>0.658080</td>\n",
              "      <td>0.694019</td>\n",
              "      <td>0.716215</td>\n",
              "      <td>1.000000</td>\n",
              "      <td>-0.714072</td>\n",
              "      <td>0.189429</td>\n",
              "      <td>0.370890</td>\n",
              "      <td>-0.131882</td>\n",
              "      <td>0.540865</td>\n",
              "      <td>0.318099</td>\n",
              "      <td>0.470949</td>\n",
              "      <td>0.552591</td>\n",
              "    </tr>\n",
              "    <tr>\n",
              "      <th>HNR</th>\n",
              "      <td>0.059144</td>\n",
              "      <td>-0.024893</td>\n",
              "      <td>0.210851</td>\n",
              "      <td>-0.728165</td>\n",
              "      <td>-0.656810</td>\n",
              "      <td>-0.721543</td>\n",
              "      <td>-0.731510</td>\n",
              "      <td>-0.721494</td>\n",
              "      <td>-0.835271</td>\n",
              "      <td>-0.827805</td>\n",
              "      <td>-0.827123</td>\n",
              "      <td>-0.813753</td>\n",
              "      <td>-0.800407</td>\n",
              "      <td>-0.827130</td>\n",
              "      <td>-0.714072</td>\n",
              "      <td>1.000000</td>\n",
              "      <td>-0.361515</td>\n",
              "      <td>-0.598736</td>\n",
              "      <td>-0.008665</td>\n",
              "      <td>-0.673210</td>\n",
              "      <td>-0.431564</td>\n",
              "      <td>-0.601401</td>\n",
              "      <td>-0.692876</td>\n",
              "    </tr>\n",
              "    <tr>\n",
              "      <th>status</th>\n",
              "      <td>-0.383535</td>\n",
              "      <td>-0.166136</td>\n",
              "      <td>-0.380200</td>\n",
              "      <td>0.278220</td>\n",
              "      <td>0.338653</td>\n",
              "      <td>0.266668</td>\n",
              "      <td>0.288698</td>\n",
              "      <td>0.266646</td>\n",
              "      <td>0.367430</td>\n",
              "      <td>0.350697</td>\n",
              "      <td>0.347617</td>\n",
              "      <td>0.351148</td>\n",
              "      <td>0.364316</td>\n",
              "      <td>0.347608</td>\n",
              "      <td>0.189429</td>\n",
              "      <td>-0.361515</td>\n",
              "      <td>1.000000</td>\n",
              "      <td>0.308567</td>\n",
              "      <td>0.231739</td>\n",
              "      <td>0.564838</td>\n",
              "      <td>0.454842</td>\n",
              "      <td>0.340232</td>\n",
              "      <td>0.531039</td>\n",
              "    </tr>\n",
              "    <tr>\n",
              "      <th>RPDE</th>\n",
              "      <td>-0.383894</td>\n",
              "      <td>-0.112404</td>\n",
              "      <td>-0.400143</td>\n",
              "      <td>0.360673</td>\n",
              "      <td>0.441839</td>\n",
              "      <td>0.342140</td>\n",
              "      <td>0.333274</td>\n",
              "      <td>0.342079</td>\n",
              "      <td>0.447424</td>\n",
              "      <td>0.410684</td>\n",
              "      <td>0.435242</td>\n",
              "      <td>0.399903</td>\n",
              "      <td>0.451379</td>\n",
              "      <td>0.435237</td>\n",
              "      <td>0.370890</td>\n",
              "      <td>-0.598736</td>\n",
              "      <td>0.308567</td>\n",
              "      <td>1.000000</td>\n",
              "      <td>-0.110950</td>\n",
              "      <td>0.591117</td>\n",
              "      <td>0.479905</td>\n",
              "      <td>0.236931</td>\n",
              "      <td>0.545886</td>\n",
              "    </tr>\n",
              "    <tr>\n",
              "      <th>DFA</th>\n",
              "      <td>-0.446013</td>\n",
              "      <td>-0.343097</td>\n",
              "      <td>-0.050406</td>\n",
              "      <td>0.098572</td>\n",
              "      <td>0.175036</td>\n",
              "      <td>0.064083</td>\n",
              "      <td>0.196301</td>\n",
              "      <td>0.064026</td>\n",
              "      <td>0.159954</td>\n",
              "      <td>0.165157</td>\n",
              "      <td>0.151124</td>\n",
              "      <td>0.213873</td>\n",
              "      <td>0.157276</td>\n",
              "      <td>0.151132</td>\n",
              "      <td>-0.131882</td>\n",
              "      <td>-0.008665</td>\n",
              "      <td>0.231739</td>\n",
              "      <td>-0.110950</td>\n",
              "      <td>1.000000</td>\n",
              "      <td>0.195668</td>\n",
              "      <td>0.166548</td>\n",
              "      <td>-0.165381</td>\n",
              "      <td>0.270445</td>\n",
              "    </tr>\n",
              "    <tr>\n",
              "      <th>spread1</th>\n",
              "      <td>-0.413738</td>\n",
              "      <td>-0.076658</td>\n",
              "      <td>-0.394857</td>\n",
              "      <td>0.693577</td>\n",
              "      <td>0.735779</td>\n",
              "      <td>0.648328</td>\n",
              "      <td>0.716489</td>\n",
              "      <td>0.648328</td>\n",
              "      <td>0.654734</td>\n",
              "      <td>0.652547</td>\n",
              "      <td>0.610967</td>\n",
              "      <td>0.646809</td>\n",
              "      <td>0.673158</td>\n",
              "      <td>0.610971</td>\n",
              "      <td>0.540865</td>\n",
              "      <td>-0.673210</td>\n",
              "      <td>0.564838</td>\n",
              "      <td>0.591117</td>\n",
              "      <td>0.195668</td>\n",
              "      <td>1.000000</td>\n",
              "      <td>0.652358</td>\n",
              "      <td>0.495123</td>\n",
              "      <td>0.962435</td>\n",
              "    </tr>\n",
              "    <tr>\n",
              "      <th>spread2</th>\n",
              "      <td>-0.249450</td>\n",
              "      <td>-0.002954</td>\n",
              "      <td>-0.243829</td>\n",
              "      <td>0.385123</td>\n",
              "      <td>0.388543</td>\n",
              "      <td>0.324407</td>\n",
              "      <td>0.407605</td>\n",
              "      <td>0.324377</td>\n",
              "      <td>0.452025</td>\n",
              "      <td>0.454314</td>\n",
              "      <td>0.402243</td>\n",
              "      <td>0.457195</td>\n",
              "      <td>0.502188</td>\n",
              "      <td>0.402223</td>\n",
              "      <td>0.318099</td>\n",
              "      <td>-0.431564</td>\n",
              "      <td>0.454842</td>\n",
              "      <td>0.479905</td>\n",
              "      <td>0.166548</td>\n",
              "      <td>0.652358</td>\n",
              "      <td>1.000000</td>\n",
              "      <td>0.523532</td>\n",
              "      <td>0.644711</td>\n",
              "    </tr>\n",
              "    <tr>\n",
              "      <th>D2</th>\n",
              "      <td>0.177980</td>\n",
              "      <td>0.176323</td>\n",
              "      <td>-0.100629</td>\n",
              "      <td>0.433434</td>\n",
              "      <td>0.310694</td>\n",
              "      <td>0.426605</td>\n",
              "      <td>0.412524</td>\n",
              "      <td>0.426556</td>\n",
              "      <td>0.507088</td>\n",
              "      <td>0.512233</td>\n",
              "      <td>0.467265</td>\n",
              "      <td>0.502174</td>\n",
              "      <td>0.536869</td>\n",
              "      <td>0.467261</td>\n",
              "      <td>0.470949</td>\n",
              "      <td>-0.601401</td>\n",
              "      <td>0.340232</td>\n",
              "      <td>0.236931</td>\n",
              "      <td>-0.165381</td>\n",
              "      <td>0.495123</td>\n",
              "      <td>0.523532</td>\n",
              "      <td>1.000000</td>\n",
              "      <td>0.480585</td>\n",
              "    </tr>\n",
              "    <tr>\n",
              "      <th>PPE</th>\n",
              "      <td>-0.372356</td>\n",
              "      <td>-0.069543</td>\n",
              "      <td>-0.340071</td>\n",
              "      <td>0.721543</td>\n",
              "      <td>0.748162</td>\n",
              "      <td>0.670999</td>\n",
              "      <td>0.769647</td>\n",
              "      <td>0.671005</td>\n",
              "      <td>0.693771</td>\n",
              "      <td>0.695058</td>\n",
              "      <td>0.645377</td>\n",
              "      <td>0.702456</td>\n",
              "      <td>0.721694</td>\n",
              "      <td>0.645389</td>\n",
              "      <td>0.552591</td>\n",
              "      <td>-0.692876</td>\n",
              "      <td>0.531039</td>\n",
              "      <td>0.545886</td>\n",
              "      <td>0.270445</td>\n",
              "      <td>0.962435</td>\n",
              "      <td>0.644711</td>\n",
              "      <td>0.480585</td>\n",
              "      <td>1.000000</td>\n",
              "    </tr>\n",
              "  </tbody>\n",
              "</table>\n",
              "</div>"
            ],
            "text/plain": [
              "                  MDVP:Fo(Hz)  MDVP:Fhi(Hz)  ...        D2       PPE\n",
              "MDVP:Fo(Hz)          1.000000      0.400985  ...  0.177980 -0.372356\n",
              "MDVP:Fhi(Hz)         0.400985      1.000000  ...  0.176323 -0.069543\n",
              "MDVP:Flo(Hz)         0.596546      0.084951  ... -0.100629 -0.340071\n",
              "MDVP:Jitter(%)      -0.118003      0.102086  ...  0.433434  0.721543\n",
              "MDVP:Jitter(Abs)    -0.382027     -0.029198  ...  0.310694  0.748162\n",
              "MDVP:RAP            -0.076194      0.097177  ...  0.426605  0.670999\n",
              "MDVP:PPQ            -0.112165      0.091126  ...  0.412524  0.769647\n",
              "Jitter:DDP          -0.076213      0.097150  ...  0.426556  0.671005\n",
              "MDVP:Shimmer        -0.098374      0.002281  ...  0.507088  0.693771\n",
              "MDVP:Shimmer(dB)    -0.073742      0.043465  ...  0.512233  0.695058\n",
              "Shimmer:APQ3        -0.094717     -0.003743  ...  0.467265  0.645377\n",
              "Shimmer:APQ5        -0.070682     -0.009997  ...  0.502174  0.702456\n",
              "MDVP:APQ            -0.077774      0.004937  ...  0.536869  0.721694\n",
              "Shimmer:DDA         -0.094732     -0.003733  ...  0.467261  0.645389\n",
              "NHR                 -0.021981      0.163766  ...  0.470949  0.552591\n",
              "HNR                  0.059144     -0.024893  ... -0.601401 -0.692876\n",
              "status              -0.383535     -0.166136  ...  0.340232  0.531039\n",
              "RPDE                -0.383894     -0.112404  ...  0.236931  0.545886\n",
              "DFA                 -0.446013     -0.343097  ... -0.165381  0.270445\n",
              "spread1             -0.413738     -0.076658  ...  0.495123  0.962435\n",
              "spread2             -0.249450     -0.002954  ...  0.523532  0.644711\n",
              "D2                   0.177980      0.176323  ...  1.000000  0.480585\n",
              "PPE                 -0.372356     -0.069543  ...  0.480585  1.000000\n",
              "\n",
              "[23 rows x 23 columns]"
            ]
          },
          "metadata": {},
          "execution_count": 8
        }
      ]
    },
    {
      "cell_type": "markdown",
      "metadata": {
        "id": "EH_OgqJtdvMj"
      },
      "source": [
        "##Visulaization"
      ]
    },
    {
      "cell_type": "code",
      "metadata": {
        "colab": {
          "base_uri": "https://localhost:8080/",
          "height": 973
        },
        "id": "vngSKnZld4ES",
        "outputId": "7298de7a-075f-43fa-9d62-cd4f7899a219"
      },
      "source": [
        "corr = df.corr()\n",
        "f,ax = plt.subplots(figsize=(15, 15))\n",
        "sns.heatmap(corr, annot=True, linewidths=.5, fmt= '.1f',ax=ax)"
      ],
      "execution_count": null,
      "outputs": [
        {
          "output_type": "execute_result",
          "data": {
            "text/plain": [
              "<matplotlib.axes._subplots.AxesSubplot at 0x7f7ea29a5b90>"
            ]
          },
          "metadata": {},
          "execution_count": 9
        },
        {
          "output_type": "display_data",
          "data": {
            "image/png": "[encoded data removed]",
            "text/plain": [
              "<Figure size 1080x1080 with 2 Axes>"
            ]
          },
          "metadata": {
            "needs_background": "light"
          }
        }
      ]
    },
    {
      "cell_type": "code",
      "metadata": {
        "colab": {
          "base_uri": "https://localhost:8080/",
          "height": 542
        },
        "id": "5HspfuHcDx7E",
        "outputId": "14e30361-64bf-45cb-bdae-54819055bc7f"
      },
      "source": [
        "fig = px.density_heatmap(df, x=\"name\", y=\"MDVP:Fo(Hz)\", marginal_x=\"rug\", marginal_y=\"histogram\")\n",
        "fig.show()"
      ],
      "execution_count": null,
      "outputs": [
        {
          "output_type": "display_data",
          "data": {
            "text/html": [
              "<html>\n",
              "<head><meta charset=\"utf-8\" /></head>\n",
              "<body>\n",
              "    <div>\n",
              "            <script src=\"https://cdnjs.cloudflare.com/ajax/libs/mathjax/2.7.5/MathJax.js?config=TeX-AMS-MML_SVG\"></script><script type=\"text/javascript\">if (window.MathJax) {MathJax.Hub.Config({SVG: {font: \"STIX-Web\"}});}</script>\n",
              "                <script type=\"text/javascript\">window.PlotlyConfig = {MathJaxConfig: 'local'};</script>\n",
              "        <script src=\"https://cdn.plot.ly/plotly-latest.min.js\"></script>    \n",
              "            <div id=\"e255b97e-f30c-42b8-9866-7ccc65623280\" class=\"plotly-graph-div\" style=\"height:525px; width:100%;\"></div>\n",
              "            <script type=\"text/javascript\">\n",
              "                \n",
              "                    window.PLOTLYENV=window.PLOTLYENV || {};\n",
              "                    \n",
              "                if (document.getElementById(\"e255b97e-f30c-42b8-9866-7ccc65623280\")) {\n",
              "                    Plotly.newPlot(\n",
              "                        'e255b97e-f30c-42b8-9866-7ccc65623280',\n",
              "                        [{\"coloraxis\": \"coloraxis\", \"hoverlabel\": {\"namelength\": 0}, \"hovertemplate\": \"name=%{x}<br>MDVP:Fo(Hz)=%{y}<br>count=%{z}\", \"name\": \"\", \"type\": \"histogram2d\", \"x\": [\"phon_R01_S01_1\", \"phon_R01_S01_2\", \"phon_R01_S01_3\", \"phon_R01_S01_4\", \"phon_R01_S01_5\", \"phon_R01_S01_6\", \"phon_R01_S02_1\", \"phon_R01_S02_2\", \"phon_R01_S02_3\", \"phon_R01_S02_4\", \"phon_R01_S02_5\", \"phon_R01_S02_6\", \"phon_R01_S04_1\", \"phon_R01_S04_2\", \"phon_R01_S04_3\", \"phon_R01_S04_4\", \"phon_R01_S04_5\", \"phon_R01_S04_6\", \"phon_R01_S05_1\", \"phon_R01_S05_2\", \"phon_R01_S05_3\", \"phon_R01_S05_4\", \"phon_R01_S05_5\", \"phon_R01_S05_6\", \"phon_R01_S06_1\", \"phon_R01_S06_2\", \"phon_R01_S06_3\", \"phon_R01_S06_4\", \"phon_R01_S06_5\", \"phon_R01_S06_6\", \"phon_R01_S07_1\", \"phon_R01_S07_2\", \"phon_R01_S07_3\", \"phon_R01_S07_4\", \"phon_R01_S07_5\", \"phon_R01_S07_6\", \"phon_R01_S08_1\", \"phon_R01_S08_2\", \"phon_R01_S08_3\", \"phon_R01_S08_4\", \"phon_R01_S08_5\", \"phon_R01_S08_6\", \"phon_R01_S10_1\", \"phon_R01_S10_2\", \"phon_R01_S10_3\", \"phon_R01_S10_4\", \"phon_R01_S10_5\", \"phon_R01_S10_6\", \"phon_R01_S13_1\", \"phon_R01_S13_2\", \"phon_R01_S13_3\", \"phon_R01_S13_4\", \"phon_R01_S13_5\", \"phon_R01_S13_6\", \"phon_R01_S16_1\", \"phon_R01_S16_2\", \"phon_R01_S16_3\", \"phon_R01_S16_4\", \"phon_R01_S16_5\", \"phon_R01_S16_6\", \"phon_R01_S17_1\", \"phon_R01_S17_2\", \"phon_R01_S17_3\", \"phon_R01_S17_4\", \"phon_R01_S17_5\", \"phon_R01_S17_6\", \"phon_R01_S18_1\", \"phon_R01_S18_2\", \"phon_R01_S18_3\", \"phon_R01_S18_4\", \"phon_R01_S18_5\", \"phon_R01_S18_6\", \"phon_R01_S19_1\", \"phon_R01_S19_2\", \"phon_R01_S19_3\", \"phon_R01_S19_4\", \"phon_R01_S19_5\", \"phon_R01_S19_6\", \"phon_R01_S20_1\", \"phon_R01_S20_2\", \"phon_R01_S20_3\", \"phon_R01_S20_4\", \"phon_R01_S20_5\", \"phon_R01_S20_6\", \"phon_R01_S21_1\", \"phon_R01_S21_2\", \"phon_R01_S21_3\", \"phon_R01_S21_4\", \"phon_R01_S21_5\", \"phon_R01_S21_6\", \"phon_R01_S21_7\", \"phon_R01_S22_1\", \"phon_R01_S22_2\", \"phon_R01_S22_3\", \"phon_R01_S22_4\", \"phon_R01_S22_5\", \"phon_R01_S22_6\", \"phon_R01_S24_1\", \"phon_R01_S24_2\", \"phon_R01_S24_3\", \"phon_R01_S24_4\", \"phon_R01_S24_5\", \"phon_R01_S24_6\", \"phon_R01_S25_1\", \"phon_R01_S25_2\", \"phon_R01_S25_3\", \"phon_R01_S25_4\", \"phon_R01_S25_5\", \"phon_R01_S25_6\", \"phon_R01_S26_1\", \"phon_R01_S26_2\", \"phon_R01_S26_3\", \"phon_R01_S26_4\", \"phon_R01_S26_5\", \"phon_R01_S26_6\", \"phon_R01_S27_1\", \"phon_R01_S27_2\", \"phon_R01_S27_3\", \"phon_R01_S27_4\", \"phon_R01_S27_5\", \"phon_R01_S27_6\", \"phon_R01_S27_7\", \"phon_R01_S31_1\", \"phon_R01_S31_2\", \"phon_R01_S31_3\", \"phon_R01_S31_4\", \"phon_R01_S31_5\", \"phon_R01_S31_6\", \"phon_R01_S32_1\", \"phon_R01_S32_2\", \"phon_R01_S32_3\", \"phon_R01_S32_4\", \"phon_R01_S32_5\", \"phon_R01_S32_6\", \"phon_R01_S33_1\", \"phon_R01_S33_2\", \"phon_R01_S33_3\", \"phon_R01_S33_4\", \"phon_R01_S33_5\", \"phon_R01_S33_6\", \"phon_R01_S34_1\", \"phon_R01_S34_2\", \"phon_R01_S34_3\", \"phon_R01_S34_4\", \"phon_R01_S34_5\", \"phon_R01_S34_6\", \"phon_R01_S35_1\", \"phon_R01_S35_2\", \"phon_R01_S35_3\", \"phon_R01_S35_4\", \"phon_R01_S35_5\", \"phon_R01_S35_6\", \"phon_R01_S35_7\", \"phon_R01_S37_1\", \"phon_R01_S37_2\", \"phon_R01_S37_3\", \"phon_R01_S37_4\", \"phon_R01_S37_5\", \"phon_R01_S37_6\", \"phon_R01_S39_1\", \"phon_R01_S39_2\", \"phon_R01_S39_3\", \"phon_R01_S39_4\", \"phon_R01_S39_5\", \"phon_R01_S39_6\", \"phon_R01_S42_1\", \"phon_R01_S42_2\", \"phon_R01_S42_3\", \"phon_R01_S42_4\", \"phon_R01_S42_5\", \"phon_R01_S42_6\", \"phon_R01_S43_1\", \"phon_R01_S43_2\", \"phon_R01_S43_3\", \"phon_R01_S43_4\", \"phon_R01_S43_5\", \"phon_R01_S43_6\", \"phon_R01_S44_1\", \"phon_R01_S44_2\", \"phon_R01_S44_3\", \"phon_R01_S44_4\", \"phon_R01_S44_5\", \"phon_R01_S44_6\", \"phon_R01_S49_1\", \"phon_R01_S49_2\", \"phon_R01_S49_3\", \"phon_R01_S49_4\", \"phon_R01_S49_5\", \"phon_R01_S49_6\", \"phon_R01_S50_1\", \"phon_R01_S50_2\", \"phon_R01_S50_3\", \"phon_R01_S50_4\", \"phon_R01_S50_5\", \"phon_R01_S50_6\"], \"xaxis\": \"x\", \"xbingroup\": \"x\", \"y\": [119.992, 122.4, 116.682, 116.676, 116.014, 120.552, 120.26700000000001, 107.33200000000001, 95.73, 95.056, 88.333, 91.904, 136.92600000000002, 139.173, 152.845, 142.167, 144.188, 168.778, 153.046, 156.405, 153.84799999999998, 153.88, 167.93, 173.917, 163.656, 104.4, 171.041, 146.845, 155.358, 162.56799999999998, 197.076, 199.22799999999998, 198.38299999999998, 202.266, 203.18400000000003, 201.46400000000003, 177.87599999999998, 176.17, 180.19799999999998, 187.733, 186.16299999999998, 184.055, 237.226, 241.40400000000002, 243.43900000000002, 242.852, 245.51, 252.455, 122.18799999999999, 122.964, 124.445, 126.344, 128.001, 129.336, 108.807, 109.86, 110.417, 117.274, 116.87899999999999, 114.84700000000001, 209.144, 223.365, 222.236, 228.832, 229.40099999999998, 228.96900000000002, 140.341, 136.969, 143.533, 148.09, 142.72899999999998, 136.358, 120.08, 112.014, 110.79299999999999, 110.70700000000001, 112.876, 110.568, 95.385, 100.77, 96.10600000000001, 95.605, 100.96, 98.804, 176.858, 180.97799999999998, 178.222, 176.28099999999998, 173.898, 179.71099999999998, 166.605, 151.955, 148.27200000000002, 152.125, 157.821, 157.447, 159.116, 125.036, 125.791, 126.512, 125.641, 128.451, 139.224, 150.25799999999998, 154.003, 149.689, 155.078, 151.884, 151.989, 193.03, 200.71400000000003, 208.519, 204.66400000000002, 210.141, 206.327, 151.872, 158.219, 170.75599999999997, 178.285, 217.11599999999999, 128.94, 176.824, 138.19, 182.018, 156.239, 145.174, 138.145, 166.888, 119.031, 120.07799999999999, 120.289, 120.256, 119.056, 118.74700000000001, 106.516, 110.45299999999999, 113.4, 113.166, 112.23899999999999, 116.15, 170.368, 208.083, 198.458, 202.805, 202.544, 223.361, 169.774, 183.52, 188.62, 202.632, 186.695, 192.81799999999998, 198.11599999999999, 121.345, 119.1, 117.87, 122.336, 117.963, 126.14399999999999, 127.93, 114.238, 115.322, 114.554, 112.15, 102.273, 236.2, 237.32299999999998, 260.105, 197.56900000000002, 240.301, 244.99, 112.54700000000001, 110.73899999999999, 113.715, 117.00399999999999, 115.38, 116.38799999999999, 151.737, 148.79, 148.143, 150.44, 148.46200000000002, 149.81799999999998, 117.226, 116.848, 116.286, 116.556, 116.34200000000001, 114.56299999999999, 201.774, 174.188, 209.516, 174.688, 198.764, 214.28900000000002], \"yaxis\": \"y\", \"ybingroup\": \"y\"}, {\"alignmentgroup\": \"True\", \"boxpoints\": \"all\", \"fillcolor\": \"rgba(255,255,255,0)\", \"hoverlabel\": {\"namelength\": 0}, \"hoveron\": \"points\", \"hovertemplate\": \"name=%{x}\", \"jitter\": 0, \"legendgroup\": \"\", \"line\": {\"color\": \"rgba(255,255,255,0)\"}, \"marker\": {\"color\": \"#0d0887\", \"symbol\": \"line-ns-open\"}, \"name\": \"\", \"offsetgroup\": \"\", \"showlegend\": false, \"type\": \"box\", \"x\": [\"phon_R01_S01_1\", \"phon_R01_S01_2\", \"phon_R01_S01_3\", \"phon_R01_S01_4\", \"phon_R01_S01_5\", \"phon_R01_S01_6\", \"phon_R01_S02_1\", \"phon_R01_S02_2\", \"phon_R01_S02_3\", \"phon_R01_S02_4\", \"phon_R01_S02_5\", \"phon_R01_S02_6\", \"phon_R01_S04_1\", \"phon_R01_S04_2\", \"phon_R01_S04_3\", \"phon_R01_S04_4\", \"phon_R01_S04_5\", \"phon_R01_S04_6\", \"phon_R01_S05_1\", \"phon_R01_S05_2\", \"phon_R01_S05_3\", \"phon_R01_S05_4\", \"phon_R01_S05_5\", \"phon_R01_S05_6\", \"phon_R01_S06_1\", \"phon_R01_S06_2\", \"phon_R01_S06_3\", \"phon_R01_S06_4\", \"phon_R01_S06_5\", \"phon_R01_S06_6\", \"phon_R01_S07_1\", \"phon_R01_S07_2\", \"phon_R01_S07_3\", \"phon_R01_S07_4\", \"phon_R01_S07_5\", \"phon_R01_S07_6\", \"phon_R01_S08_1\", \"phon_R01_S08_2\", \"phon_R01_S08_3\", \"phon_R01_S08_4\", \"phon_R01_S08_5\", \"phon_R01_S08_6\", \"phon_R01_S10_1\", \"phon_R01_S10_2\", \"phon_R01_S10_3\", \"phon_R01_S10_4\", \"phon_R01_S10_5\", \"phon_R01_S10_6\", \"phon_R01_S13_1\", \"phon_R01_S13_2\", \"phon_R01_S13_3\", \"phon_R01_S13_4\", \"phon_R01_S13_5\", \"phon_R01_S13_6\", \"phon_R01_S16_1\", \"phon_R01_S16_2\", \"phon_R01_S16_3\", \"phon_R01_S16_4\", \"phon_R01_S16_5\", \"phon_R01_S16_6\", \"phon_R01_S17_1\", \"phon_R01_S17_2\", \"phon_R01_S17_3\", \"phon_R01_S17_4\", \"phon_R01_S17_5\", \"phon_R01_S17_6\", \"phon_R01_S18_1\", \"phon_R01_S18_2\", \"phon_R01_S18_3\", \"phon_R01_S18_4\", \"phon_R01_S18_5\", \"phon_R01_S18_6\", \"phon_R01_S19_1\", \"phon_R01_S19_2\", \"phon_R01_S19_3\", \"phon_R01_S19_4\", \"phon_R01_S19_5\", \"phon_R01_S19_6\", \"phon_R01_S20_1\", \"phon_R01_S20_2\", \"phon_R01_S20_3\", \"phon_R01_S20_4\", \"phon_R01_S20_5\", \"phon_R01_S20_6\", \"phon_R01_S21_1\", \"phon_R01_S21_2\", \"phon_R01_S21_3\", \"phon_R01_S21_4\", \"phon_R01_S21_5\", \"phon_R01_S21_6\", \"phon_R01_S21_7\", \"phon_R01_S22_1\", \"phon_R01_S22_2\", \"phon_R01_S22_3\", \"phon_R01_S22_4\", \"phon_R01_S22_5\", \"phon_R01_S22_6\", \"phon_R01_S24_1\", \"phon_R01_S24_2\", \"phon_R01_S24_3\", \"phon_R01_S24_4\", \"phon_R01_S24_5\", \"phon_R01_S24_6\", \"phon_R01_S25_1\", \"phon_R01_S25_2\", \"phon_R01_S25_3\", \"phon_R01_S25_4\", \"phon_R01_S25_5\", \"phon_R01_S25_6\", \"phon_R01_S26_1\", \"phon_R01_S26_2\", \"phon_R01_S26_3\", \"phon_R01_S26_4\", \"phon_R01_S26_5\", \"phon_R01_S26_6\", \"phon_R01_S27_1\", \"phon_R01_S27_2\", \"phon_R01_S27_3\", \"phon_R01_S27_4\", \"phon_R01_S27_5\", \"phon_R01_S27_6\", \"phon_R01_S27_7\", \"phon_R01_S31_1\", \"phon_R01_S31_2\", \"phon_R01_S31_3\", \"phon_R01_S31_4\", \"phon_R01_S31_5\", \"phon_R01_S31_6\", \"phon_R01_S32_1\", \"phon_R01_S32_2\", \"phon_R01_S32_3\", \"phon_R01_S32_4\", \"phon_R01_S32_5\", \"phon_R01_S32_6\", \"phon_R01_S33_1\", \"phon_R01_S33_2\", \"phon_R01_S33_3\", \"phon_R01_S33_4\", \"phon_R01_S33_5\", \"phon_R01_S33_6\", \"phon_R01_S34_1\", \"phon_R01_S34_2\", \"phon_R01_S34_3\", \"phon_R01_S34_4\", \"phon_R01_S34_5\", \"phon_R01_S34_6\", \"phon_R01_S35_1\", \"phon_R01_S35_2\", \"phon_R01_S35_3\", \"phon_R01_S35_4\", \"phon_R01_S35_5\", \"phon_R01_S35_6\", \"phon_R01_S35_7\", \"phon_R01_S37_1\", \"phon_R01_S37_2\", \"phon_R01_S37_3\", \"phon_R01_S37_4\", \"phon_R01_S37_5\", \"phon_R01_S37_6\", \"phon_R01_S39_1\", \"phon_R01_S39_2\", \"phon_R01_S39_3\", \"phon_R01_S39_4\", \"phon_R01_S39_5\", \"phon_R01_S39_6\", \"phon_R01_S42_1\", \"phon_R01_S42_2\", \"phon_R01_S42_3\", \"phon_R01_S42_4\", \"phon_R01_S42_5\", \"phon_R01_S42_6\", \"phon_R01_S43_1\", \"phon_R01_S43_2\", \"phon_R01_S43_3\", \"phon_R01_S43_4\", \"phon_R01_S43_5\", \"phon_R01_S43_6\", \"phon_R01_S44_1\", \"phon_R01_S44_2\", \"phon_R01_S44_3\", \"phon_R01_S44_4\", \"phon_R01_S44_5\", \"phon_R01_S44_6\", \"phon_R01_S49_1\", \"phon_R01_S49_2\", \"phon_R01_S49_3\", \"phon_R01_S49_4\", \"phon_R01_S49_5\", \"phon_R01_S49_6\", \"phon_R01_S50_1\", \"phon_R01_S50_2\", \"phon_R01_S50_3\", \"phon_R01_S50_4\", \"phon_R01_S50_5\", \"phon_R01_S50_6\"], \"xaxis\": \"x3\", \"yaxis\": \"y3\"}, {\"alignmentgroup\": \"True\", \"bingroup\": \"y\", \"hoverlabel\": {\"namelength\": 0}, \"hovertemplate\": \"MDVP:Fo(Hz)=%{y}<br>count=%{x}\", \"legendgroup\": \"\", \"marker\": {\"color\": \"#0d0887\"}, \"name\": \"\", \"offsetgroup\": \"\", \"opacity\": 0.5, \"showlegend\": false, \"type\": \"histogram\", \"xaxis\": \"x2\", \"y\": [119.992, 122.4, 116.682, 116.676, 116.014, 120.552, 120.26700000000001, 107.33200000000001, 95.73, 95.056, 88.333, 91.904, 136.92600000000002, 139.173, 152.845, 142.167, 144.188, 168.778, 153.046, 156.405, 153.84799999999998, 153.88, 167.93, 173.917, 163.656, 104.4, 171.041, 146.845, 155.358, 162.56799999999998, 197.076, 199.22799999999998, 198.38299999999998, 202.266, 203.18400000000003, 201.46400000000003, 177.87599999999998, 176.17, 180.19799999999998, 187.733, 186.16299999999998, 184.055, 237.226, 241.40400000000002, 243.43900000000002, 242.852, 245.51, 252.455, 122.18799999999999, 122.964, 124.445, 126.344, 128.001, 129.336, 108.807, 109.86, 110.417, 117.274, 116.87899999999999, 114.84700000000001, 209.144, 223.365, 222.236, 228.832, 229.40099999999998, 228.96900000000002, 140.341, 136.969, 143.533, 148.09, 142.72899999999998, 136.358, 120.08, 112.014, 110.79299999999999, 110.70700000000001, 112.876, 110.568, 95.385, 100.77, 96.10600000000001, 95.605, 100.96, 98.804, 176.858, 180.97799999999998, 178.222, 176.28099999999998, 173.898, 179.71099999999998, 166.605, 151.955, 148.27200000000002, 152.125, 157.821, 157.447, 159.116, 125.036, 125.791, 126.512, 125.641, 128.451, 139.224, 150.25799999999998, 154.003, 149.689, 155.078, 151.884, 151.989, 193.03, 200.71400000000003, 208.519, 204.66400000000002, 210.141, 206.327, 151.872, 158.219, 170.75599999999997, 178.285, 217.11599999999999, 128.94, 176.824, 138.19, 182.018, 156.239, 145.174, 138.145, 166.888, 119.031, 120.07799999999999, 120.289, 120.256, 119.056, 118.74700000000001, 106.516, 110.45299999999999, 113.4, 113.166, 112.23899999999999, 116.15, 170.368, 208.083, 198.458, 202.805, 202.544, 223.361, 169.774, 183.52, 188.62, 202.632, 186.695, 192.81799999999998, 198.11599999999999, 121.345, 119.1, 117.87, 122.336, 117.963, 126.14399999999999, 127.93, 114.238, 115.322, 114.554, 112.15, 102.273, 236.2, 237.32299999999998, 260.105, 197.56900000000002, 240.301, 244.99, 112.54700000000001, 110.73899999999999, 113.715, 117.00399999999999, 115.38, 116.38799999999999, 151.737, 148.79, 148.143, 150.44, 148.46200000000002, 149.81799999999998, 117.226, 116.848, 116.286, 116.556, 116.34200000000001, 114.56299999999999, 201.774, 174.188, 209.516, 174.688, 198.764, 214.28900000000002], \"yaxis\": \"y2\"}],\n",
              "                        {\"barmode\": \"overlay\", \"coloraxis\": {\"colorbar\": {\"title\": {\"text\": \"count\"}}, \"colorscale\": [[0.0, \"#0d0887\"], [0.1111111111111111, \"#46039f\"], [0.2222222222222222, \"#7201a8\"], [0.3333333333333333, \"#9c179e\"], [0.4444444444444444, \"#bd3786\"], [0.5555555555555556, \"#d8576b\"], [0.6666666666666666, \"#ed7953\"], [0.7777777777777778, \"#fb9f3a\"], [0.8888888888888888, \"#fdca26\"], [1.0, \"#f0f921\"]]}, \"legend\": {\"tracegroupgap\": 0}, \"margin\": {\"t\": 60}, \"template\": {\"data\": {\"bar\": [{\"error_x\": {\"color\": \"#2a3f5f\"}, \"error_y\": {\"color\": \"#2a3f5f\"}, \"marker\": {\"line\": {\"color\": \"#E5ECF6\", \"width\": 0.5}}, \"type\": \"bar\"}], \"barpolar\": [{\"marker\": {\"line\": {\"color\": \"#E5ECF6\", \"width\": 0.5}}, \"type\": \"barpolar\"}], \"carpet\": [{\"aaxis\": {\"endlinecolor\": \"#2a3f5f\", \"gridcolor\": \"white\", \"linecolor\": \"white\", \"minorgridcolor\": \"white\", \"startlinecolor\": \"#2a3f5f\"}, \"baxis\": {\"endlinecolor\": \"#2a3f5f\", \"gridcolor\": \"white\", \"linecolor\": \"white\", \"minorgridcolor\": \"white\", \"startlinecolor\": \"#2a3f5f\"}, \"type\": \"carpet\"}], \"choropleth\": [{\"colorbar\": {\"outlinewidth\": 0, \"ticks\": \"\"}, \"type\": \"choropleth\"}], \"contour\": [{\"colorbar\": {\"outlinewidth\": 0, \"ticks\": \"\"}, \"colorscale\": [[0.0, \"#0d0887\"], [0.1111111111111111, \"#46039f\"], [0.2222222222222222, \"#7201a8\"], [0.3333333333333333, \"#9c179e\"], [0.4444444444444444, \"#bd3786\"], [0.5555555555555556, \"#d8576b\"], [0.6666666666666666, \"#ed7953\"], [0.7777777777777778, \"#fb9f3a\"], [0.8888888888888888, \"#fdca26\"], [1.0, \"#f0f921\"]], \"type\": \"contour\"}], \"contourcarpet\": [{\"colorbar\": {\"outlinewidth\": 0, \"ticks\": \"\"}, \"type\": \"contourcarpet\"}], \"heatmap\": [{\"colorbar\": {\"outlinewidth\": 0, \"ticks\": \"\"}, \"colorscale\": [[0.0, \"#0d0887\"], [0.1111111111111111, \"#46039f\"], [0.2222222222222222, \"#7201a8\"], [0.3333333333333333, \"#9c179e\"], [0.4444444444444444, \"#bd3786\"], [0.5555555555555556, \"#d8576b\"], [0.6666666666666666, \"#ed7953\"], [0.7777777777777778, \"#fb9f3a\"], [0.8888888888888888, \"#fdca26\"], [1.0, \"#f0f921\"]], \"type\": \"heatmap\"}], \"heatmapgl\": [{\"colorbar\": {\"outlinewidth\": 0, \"ticks\": \"\"}, \"colorscale\": [[0.0, \"#0d0887\"], [0.1111111111111111, \"#46039f\"], [0.2222222222222222, \"#7201a8\"], [0.3333333333333333, \"#9c179e\"], [0.4444444444444444, \"#bd3786\"], [0.5555555555555556, \"#d8576b\"], [0.6666666666666666, \"#ed7953\"], [0.7777777777777778, \"#fb9f3a\"], [0.8888888888888888, \"#fdca26\"], [1.0, \"#f0f921\"]], \"type\": \"heatmapgl\"}], \"histogram\": [{\"marker\": {\"colorbar\": {\"outlinewidth\": 0, \"ticks\": \"\"}}, \"type\": \"histogram\"}], \"histogram2d\": [{\"colorbar\": {\"outlinewidth\": 0, \"ticks\": \"\"}, \"colorscale\": [[0.0, \"#0d0887\"], [0.1111111111111111, \"#46039f\"], [0.2222222222222222, \"#7201a8\"], [0.3333333333333333, \"#9c179e\"], [0.4444444444444444, \"#bd3786\"], [0.5555555555555556, \"#d8576b\"], [0.6666666666666666, \"#ed7953\"], [0.7777777777777778, \"#fb9f3a\"], [0.8888888888888888, \"#fdca26\"], [1.0, \"#f0f921\"]], \"type\": \"histogram2d\"}], \"histogram2dcontour\": [{\"colorbar\": {\"outlinewidth\": 0, \"ticks\": \"\"}, \"colorscale\": [[0.0, \"#0d0887\"], [0.1111111111111111, \"#46039f\"], [0.2222222222222222, \"#7201a8\"], [0.3333333333333333, \"#9c179e\"], [0.4444444444444444, \"#bd3786\"], [0.5555555555555556, \"#d8576b\"], [0.6666666666666666, \"#ed7953\"], [0.7777777777777778, \"#fb9f3a\"], [0.8888888888888888, \"#fdca26\"], [1.0, \"#f0f921\"]], \"type\": \"histogram2dcontour\"}], \"mesh3d\": [{\"colorbar\": {\"outlinewidth\": 0, \"ticks\": \"\"}, \"type\": \"mesh3d\"}], \"parcoords\": [{\"line\": {\"colorbar\": {\"outlinewidth\": 0, \"ticks\": \"\"}}, \"type\": \"parcoords\"}], \"pie\": [{\"automargin\": true, \"type\": \"pie\"}], \"scatter\": [{\"marker\": {\"colorbar\": {\"outlinewidth\": 0, \"ticks\": \"\"}}, \"type\": \"scatter\"}], \"scatter3d\": [{\"line\": {\"colorbar\": {\"outlinewidth\": 0, \"ticks\": \"\"}}, \"marker\": {\"colorbar\": {\"outlinewidth\": 0, \"ticks\": \"\"}}, \"type\": \"scatter3d\"}], \"scattercarpet\": [{\"marker\": {\"colorbar\": {\"outlinewidth\": 0, \"ticks\": \"\"}}, \"type\": \"scattercarpet\"}], \"scattergeo\": [{\"marker\": {\"colorbar\": {\"outlinewidth\": 0, \"ticks\": \"\"}}, \"type\": \"scattergeo\"}], \"scattergl\": [{\"marker\": {\"colorbar\": {\"outlinewidth\": 0, \"ticks\": \"\"}}, \"type\": \"scattergl\"}], \"scattermapbox\": [{\"marker\": {\"colorbar\": {\"outlinewidth\": 0, \"ticks\": \"\"}}, \"type\": \"scattermapbox\"}], \"scatterpolar\": [{\"marker\": {\"colorbar\": {\"outlinewidth\": 0, \"ticks\": \"\"}}, \"type\": \"scatterpolar\"}], \"scatterpolargl\": [{\"marker\": {\"colorbar\": {\"outlinewidth\": 0, \"ticks\": \"\"}}, \"type\": \"scatterpolargl\"}], \"scatterternary\": [{\"marker\": {\"colorbar\": {\"outlinewidth\": 0, \"ticks\": \"\"}}, \"type\": \"scatterternary\"}], \"surface\": [{\"colorbar\": {\"outlinewidth\": 0, \"ticks\": \"\"}, \"colorscale\": [[0.0, \"#0d0887\"], [0.1111111111111111, \"#46039f\"], [0.2222222222222222, \"#7201a8\"], [0.3333333333333333, \"#9c179e\"], [0.4444444444444444, \"#bd3786\"], [0.5555555555555556, \"#d8576b\"], [0.6666666666666666, \"#ed7953\"], [0.7777777777777778, \"#fb9f3a\"], [0.8888888888888888, \"#fdca26\"], [1.0, \"#f0f921\"]], \"type\": \"surface\"}], \"table\": [{\"cells\": {\"fill\": {\"color\": \"#EBF0F8\"}, \"line\": {\"color\": \"white\"}}, \"header\": {\"fill\": {\"color\": \"#C8D4E3\"}, \"line\": {\"color\": \"white\"}}, \"type\": \"table\"}]}, \"layout\": {\"annotationdefaults\": {\"arrowcolor\": \"#2a3f5f\", \"arrowhead\": 0, \"arrowwidth\": 1}, \"coloraxis\": {\"colorbar\": {\"outlinewidth\": 0, \"ticks\": \"\"}}, \"colorscale\": {\"diverging\": [[0, \"#8e0152\"], [0.1, \"#c51b7d\"], [0.2, \"#de77ae\"], [0.3, \"#f1b6da\"], [0.4, \"#fde0ef\"], [0.5, \"#f7f7f7\"], [0.6, \"#e6f5d0\"], [0.7, \"#b8e186\"], [0.8, \"#7fbc41\"], [0.9, \"#4d9221\"], [1, \"#276419\"]], \"sequential\": [[0.0, \"#0d0887\"], [0.1111111111111111, \"#46039f\"], [0.2222222222222222, \"#7201a8\"], [0.3333333333333333, \"#9c179e\"], [0.4444444444444444, \"#bd3786\"], [0.5555555555555556, \"#d8576b\"], [0.6666666666666666, \"#ed7953\"], [0.7777777777777778, \"#fb9f3a\"], [0.8888888888888888, \"#fdca26\"], [1.0, \"#f0f921\"]], \"sequentialminus\": [[0.0, \"#0d0887\"], [0.1111111111111111, \"#46039f\"], [0.2222222222222222, \"#7201a8\"], [0.3333333333333333, \"#9c179e\"], [0.4444444444444444, \"#bd3786\"], [0.5555555555555556, \"#d8576b\"], [0.6666666666666666, \"#ed7953\"], [0.7777777777777778, \"#fb9f3a\"], [0.8888888888888888, \"#fdca26\"], [1.0, \"#f0f921\"]]}, \"colorway\": [\"#636efa\", \"#EF553B\", \"#00cc96\", \"#ab63fa\", \"#FFA15A\", \"#19d3f3\", \"#FF6692\", \"#B6E880\", \"#FF97FF\", \"#FECB52\"], \"font\": {\"color\": \"#2a3f5f\"}, \"geo\": {\"bgcolor\": \"white\", \"lakecolor\": \"white\", \"landcolor\": \"#E5ECF6\", \"showlakes\": true, \"showland\": true, \"subunitcolor\": \"white\"}, \"hoverlabel\": {\"align\": \"left\"}, \"hovermode\": \"closest\", \"mapbox\": {\"style\": \"light\"}, \"paper_bgcolor\": \"white\", \"plot_bgcolor\": \"#E5ECF6\", \"polar\": {\"angularaxis\": {\"gridcolor\": \"white\", \"linecolor\": \"white\", \"ticks\": \"\"}, \"bgcolor\": \"#E5ECF6\", \"radialaxis\": {\"gridcolor\": \"white\", \"linecolor\": \"white\", \"ticks\": \"\"}}, \"scene\": {\"xaxis\": {\"backgroundcolor\": \"#E5ECF6\", \"gridcolor\": \"white\", \"gridwidth\": 2, \"linecolor\": \"white\", \"showbackground\": true, \"ticks\": \"\", \"zerolinecolor\": \"white\"}, \"yaxis\": {\"backgroundcolor\": \"#E5ECF6\", \"gridcolor\": \"white\", \"gridwidth\": 2, \"linecolor\": \"white\", \"showbackground\": true, \"ticks\": \"\", \"zerolinecolor\": \"white\"}, \"zaxis\": {\"backgroundcolor\": \"#E5ECF6\", \"gridcolor\": \"white\", \"gridwidth\": 2, \"linecolor\": \"white\", \"showbackground\": true, \"ticks\": \"\", \"zerolinecolor\": \"white\"}}, \"shapedefaults\": {\"line\": {\"color\": \"#2a3f5f\"}}, \"ternary\": {\"aaxis\": {\"gridcolor\": \"white\", \"linecolor\": \"white\", \"ticks\": \"\"}, \"baxis\": {\"gridcolor\": \"white\", \"linecolor\": \"white\", \"ticks\": \"\"}, \"bgcolor\": \"#E5ECF6\", \"caxis\": {\"gridcolor\": \"white\", \"linecolor\": \"white\", \"ticks\": \"\"}}, \"title\": {\"x\": 0.05}, \"xaxis\": {\"automargin\": true, \"gridcolor\": \"white\", \"linecolor\": \"white\", \"ticks\": \"\", \"title\": {\"standoff\": 15}, \"zerolinecolor\": \"white\", \"zerolinewidth\": 2}, \"yaxis\": {\"automargin\": true, \"gridcolor\": \"white\", \"linecolor\": \"white\", \"ticks\": \"\", \"title\": {\"standoff\": 15}, \"zerolinecolor\": \"white\", \"zerolinewidth\": 2}}}, \"xaxis\": {\"anchor\": \"y\", \"domain\": [0.0, 0.7363], \"title\": {\"text\": \"name\"}}, \"xaxis2\": {\"anchor\": \"y2\", \"domain\": [0.7413, 1.0], \"matches\": \"x2\", \"showgrid\": true, \"showline\": false, \"showticklabels\": false, \"ticks\": \"\"}, \"xaxis3\": {\"anchor\": \"y3\", \"domain\": [0.0, 0.7363], \"matches\": \"x\", \"showgrid\": true, \"showticklabels\": false}, \"xaxis4\": {\"anchor\": \"y4\", \"domain\": [0.7413, 1.0], \"matches\": \"x2\", \"showgrid\": true, \"showline\": false, \"showticklabels\": false, \"ticks\": \"\"}, \"yaxis\": {\"anchor\": \"x\", \"domain\": [0.0, 0.8316], \"title\": {\"text\": \"MDVP:Fo(Hz)\"}}, \"yaxis2\": {\"anchor\": \"x2\", \"domain\": [0.0, 0.8316], \"matches\": \"y\", \"showgrid\": true, \"showticklabels\": false}, \"yaxis3\": {\"anchor\": \"x3\", \"domain\": [0.8416, 1.0], \"matches\": \"y3\", \"showgrid\": false, \"showline\": false, \"showticklabels\": false, \"ticks\": \"\"}, \"yaxis4\": {\"anchor\": \"x4\", \"domain\": [0.8416, 1.0], \"matches\": \"y3\", \"showgrid\": true, \"showline\": false, \"showticklabels\": false, \"ticks\": \"\"}},\n",
              "                        {\"responsive\": true}\n",
              "                    ).then(function(){\n",
              "                            \n",
              "var gd = document.getElementById('e255b97e-f30c-42b8-9866-7ccc65623280');\n",
              "var x = new MutationObserver(function (mutations, observer) {{\n",
              "        var display = window.getComputedStyle(gd).display;\n",
              "        if (!display || display === 'none') {{\n",
              "            console.log([gd, 'removed!']);\n",
              "            Plotly.purge(gd);\n",
              "            observer.disconnect();\n",
              "        }}\n",
              "}});\n",
              "\n",
              "// Listen for the removal of the full notebook cells\n",
              "var notebookContainer = gd.closest('#notebook-container');\n",
              "if (notebookContainer) {{\n",
              "    x.observe(notebookContainer, {childList: true});\n",
              "}}\n",
              "\n",
              "// Listen for the clearing of the current output cell\n",
              "var outputEl = gd.closest('.output');\n",
              "if (outputEl) {{\n",
              "    x.observe(outputEl, {childList: true});\n",
              "}}\n",
              "\n",
              "                        })\n",
              "                };\n",
              "                \n",
              "            </script>\n",
              "        </div>\n",
              "</body>\n",
              "</html>"
            ]
          },
          "metadata": {}
        }
      ]
    },
    {
      "cell_type": "code",
      "metadata": {
        "colab": {
          "base_uri": "https://localhost:8080/",
          "height": 542
        },
        "id": "vzPs1i46G3IJ",
        "outputId": "87c75dc9-4cbd-4de6-ef10-2ef3cb7d6acb"
      },
      "source": [
        "fig = px.density_heatmap(df, x=\"MDVP:Flo(Hz)\", y=\"MDVP:Jitter(%)\", marginal_x=\"rug\", marginal_y=\"histogram\")\n",
        "fig.show()"
      ],
      "execution_count": null,
      "outputs": [
        {
          "output_type": "display_data",
          "data": {
            "text/html": [
              "<html>\n",
              "<head><meta charset=\"utf-8\" /></head>\n",
              "<body>\n",
              "    <div>\n",
              "            <script src=\"https://cdnjs.cloudflare.com/ajax/libs/mathjax/2.7.5/MathJax.js?config=TeX-AMS-MML_SVG\"></script><script type=\"text/javascript\">if (window.MathJax) {MathJax.Hub.Config({SVG: {font: \"STIX-Web\"}});}</script>\n",
              "                <script type=\"text/javascript\">window.PlotlyConfig = {MathJaxConfig: 'local'};</script>\n",
              "        <script src=\"https://cdn.plot.ly/plotly-latest.min.js\"></script>    \n",
              "            <div id=\"96c9f0a8-77a6-43ba-ae4a-d9c2f0b561a1\" class=\"plotly-graph-div\" style=\"height:525px; width:100%;\"></div>\n",
              "            <script type=\"text/javascript\">\n",
              "                \n",
              "                    window.PLOTLYENV=window.PLOTLYENV || {};\n",
              "                    \n",
              "                if (document.getElementById(\"96c9f0a8-77a6-43ba-ae4a-d9c2f0b561a1\")) {\n",
              "                    Plotly.newPlot(\n",
              "                        '96c9f0a8-77a6-43ba-ae4a-d9c2f0b561a1',\n",
              "                        [{\"coloraxis\": \"coloraxis\", \"hoverlabel\": {\"namelength\": 0}, \"hovertemplate\": \"MDVP:Flo(Hz)=%{x}<br>MDVP:Jitter(%)=%{y}<br>count=%{z}\", \"name\": \"\", \"type\": \"histogram2d\", \"x\": [74.997, 113.819, 111.555, 111.366, 110.655, 113.787, 114.82, 104.315, 91.75399999999999, 91.226, 84.072, 86.292, 131.276, 76.556, 75.836, 83.15899999999999, 82.764, 75.60300000000001, 68.623, 142.822, 65.782, 78.128, 79.068, 86.18, 76.779, 77.968, 75.501, 81.737, 80.055, 77.63, 192.055, 192.09099999999998, 193.104, 197.079, 196.16, 195.708, 168.013, 163.564, 175.456, 173.015, 177.584, 166.977, 225.227, 232.483, 232.435, 227.91099999999997, 231.84799999999998, 182.78599999999997, 115.765, 114.676, 117.495, 112.773, 122.08, 118.604, 102.874, 104.43700000000001, 103.37, 110.402, 108.15299999999999, 104.68, 109.37899999999999, 98.664, 205.495, 223.63400000000001, 221.15599999999998, 113.20100000000001, 67.021, 66.00399999999999, 65.809, 67.343, 65.476, 65.75, 111.208, 107.024, 107.316, 105.007, 106.98100000000001, 106.821, 90.264, 85.545, 84.51, 87.54899999999999, 95.62799999999999, 87.804, 75.344, 155.495, 141.047, 125.61, 74.67699999999999, 144.878, 78.032, 147.226, 142.299, 76.596, 68.40100000000001, 149.605, 144.811, 116.18700000000001, 96.206, 99.77, 116.346, 75.632, 66.157, 75.34899999999999, 128.621, 133.608, 144.148, 133.751, 132.857, 80.297, 89.686, 199.02, 189.62099999999998, 185.25799999999998, 92.02, 69.085, 71.94800000000001, 79.032, 82.06299999999999, 93.978, 88.251, 83.961, 83.34, 79.187, 79.82, 80.637, 81.11399999999999, 79.512, 109.21600000000001, 105.667, 100.209, 104.773, 86.795, 109.836, 93.105, 105.554, 107.816, 100.67299999999999, 104.095, 109.815, 79.543, 91.802, 148.691, 86.23200000000001, 164.168, 87.63799999999999, 151.451, 161.34, 165.982, 177.25799999999998, 149.442, 168.793, 174.47799999999998, 98.25, 88.833, 95.654, 94.794, 100.757, 97.54299999999999, 112.17299999999999, 77.02199999999999, 107.802, 91.12100000000001, 97.527, 85.902, 102.137, 229.25599999999997, 237.303, 90.794, 219.783, 239.17, 105.715, 100.139, 96.913, 99.92299999999999, 108.634, 108.97, 129.859, 138.99, 135.041, 144.736, 141.998, 144.786, 106.656, 99.50299999999999, 96.98299999999999, 86.228, 94.24600000000001, 86.647, 78.22800000000001, 94.26100000000001, 89.488, 74.28699999999999, 74.904, 77.973], \"xaxis\": \"x\", \"xbingroup\": \"x\", \"y\": [0.00784, 0.00968, 0.0105, 0.00997, 0.01284, 0.00968, 0.0033299999999999996, 0.0029, 0.00551, 0.00532, 0.00505, 0.0054, 0.00293, 0.0039, 0.00294, 0.0036899999999999997, 0.0054399999999999995, 0.00718, 0.00742, 0.007679999999999999, 0.0084, 0.0048, 0.00442, 0.00476, 0.00742, 0.00633, 0.00455, 0.00496, 0.0031, 0.00502, 0.0028899999999999998, 0.0024100000000000002, 0.00212, 0.0018, 0.0017800000000000001, 0.00198, 0.00411, 0.0036899999999999997, 0.0028399999999999996, 0.00316, 0.00298, 0.0025800000000000003, 0.00298, 0.00281, 0.0021, 0.00225, 0.00235, 0.00185, 0.00524, 0.00428, 0.0043100000000000005, 0.00448, 0.00436, 0.0049, 0.00761, 0.008740000000000001, 0.00784, 0.007520000000000001, 0.00788, 0.00867, 0.00282, 0.00264, 0.00266, 0.00296, 0.00205, 0.00238, 0.00817, 0.00923, 0.011009999999999999, 0.00762, 0.00831, 0.00971, 0.00405, 0.00533, 0.00494, 0.0051600000000000005, 0.005, 0.00462, 0.0060799999999999995, 0.01038, 0.006940000000000001, 0.00702, 0.00606, 0.00432, 0.00747, 0.00406, 0.00321, 0.0052, 0.00448, 0.007090000000000001, 0.00742, 0.00419, 0.0045899999999999995, 0.0038200000000000005, 0.00358, 0.0036899999999999997, 0.0034200000000000003, 0.0128, 0.01378, 0.01936, 0.03316, 0.01551, 0.03011, 0.00248, 0.00183, 0.00257, 0.00168, 0.0025800000000000003, 0.0017399999999999998, 0.007659999999999999, 0.00621, 0.00609, 0.008409999999999999, 0.00534, 0.00495, 0.00856, 0.00476, 0.00555, 0.00462, 0.00404, 0.00581, 0.0046, 0.00704, 0.00842, 0.006940000000000001, 0.00733, 0.0054399999999999995, 0.006379999999999999, 0.0044, 0.0027, 0.00492, 0.004070000000000001, 0.00346, 0.00331, 0.00589, 0.00494, 0.00451, 0.00502, 0.00472, 0.00381, 0.00571, 0.00757, 0.0037600000000000003, 0.0037, 0.0025399999999999997, 0.00352, 0.01568, 0.01466, 0.01719, 0.01627, 0.01872, 0.03107, 0.027139999999999997, 0.006840000000000001, 0.00692, 0.00647, 0.00727, 0.01813, 0.00975, 0.00605, 0.00581, 0.00619, 0.006509999999999999, 0.00519, 0.00907, 0.00277, 0.00303, 0.00339, 0.008029999999999999, 0.00517, 0.00451, 0.00355, 0.0035600000000000002, 0.00349, 0.0035299999999999997, 0.0033200000000000005, 0.00346, 0.00314, 0.00309, 0.00392, 0.00396, 0.0039700000000000004, 0.00336, 0.00417, 0.0053100000000000005, 0.00314, 0.00496, 0.00267, 0.0032700000000000003, 0.006940000000000001, 0.0045899999999999995, 0.00564, 0.0136, 0.0074, 0.0056700000000000006], \"yaxis\": \"y\", \"ybingroup\": \"y\"}, {\"alignmentgroup\": \"True\", \"boxpoints\": \"all\", \"fillcolor\": \"rgba(255,255,255,0)\", \"hoverlabel\": {\"namelength\": 0}, \"hoveron\": \"points\", \"hovertemplate\": \"MDVP:Flo(Hz)=%{x}\", \"jitter\": 0, \"legendgroup\": \"\", \"line\": {\"color\": \"rgba(255,255,255,0)\"}, \"marker\": {\"color\": \"#0d0887\", \"symbol\": \"line-ns-open\"}, \"name\": \"\", \"offsetgroup\": \"\", \"showlegend\": false, \"type\": \"box\", \"x\": [74.997, 113.819, 111.555, 111.366, 110.655, 113.787, 114.82, 104.315, 91.75399999999999, 91.226, 84.072, 86.292, 131.276, 76.556, 75.836, 83.15899999999999, 82.764, 75.60300000000001, 68.623, 142.822, 65.782, 78.128, 79.068, 86.18, 76.779, 77.968, 75.501, 81.737, 80.055, 77.63, 192.055, 192.09099999999998, 193.104, 197.079, 196.16, 195.708, 168.013, 163.564, 175.456, 173.015, 177.584, 166.977, 225.227, 232.483, 232.435, 227.91099999999997, 231.84799999999998, 182.78599999999997, 115.765, 114.676, 117.495, 112.773, 122.08, 118.604, 102.874, 104.43700000000001, 103.37, 110.402, 108.15299999999999, 104.68, 109.37899999999999, 98.664, 205.495, 223.63400000000001, 221.15599999999998, 113.20100000000001, 67.021, 66.00399999999999, 65.809, 67.343, 65.476, 65.75, 111.208, 107.024, 107.316, 105.007, 106.98100000000001, 106.821, 90.264, 85.545, 84.51, 87.54899999999999, 95.62799999999999, 87.804, 75.344, 155.495, 141.047, 125.61, 74.67699999999999, 144.878, 78.032, 147.226, 142.299, 76.596, 68.40100000000001, 149.605, 144.811, 116.18700000000001, 96.206, 99.77, 116.346, 75.632, 66.157, 75.34899999999999, 128.621, 133.608, 144.148, 133.751, 132.857, 80.297, 89.686, 199.02, 189.62099999999998, 185.25799999999998, 92.02, 69.085, 71.94800000000001, 79.032, 82.06299999999999, 93.978, 88.251, 83.961, 83.34, 79.187, 79.82, 80.637, 81.11399999999999, 79.512, 109.21600000000001, 105.667, 100.209, 104.773, 86.795, 109.836, 93.105, 105.554, 107.816, 100.67299999999999, 104.095, 109.815, 79.543, 91.802, 148.691, 86.23200000000001, 164.168, 87.63799999999999, 151.451, 161.34, 165.982, 177.25799999999998, 149.442, 168.793, 174.47799999999998, 98.25, 88.833, 95.654, 94.794, 100.757, 97.54299999999999, 112.17299999999999, 77.02199999999999, 107.802, 91.12100000000001, 97.527, 85.902, 102.137, 229.25599999999997, 237.303, 90.794, 219.783, 239.17, 105.715, 100.139, 96.913, 99.92299999999999, 108.634, 108.97, 129.859, 138.99, 135.041, 144.736, 141.998, 144.786, 106.656, 99.50299999999999, 96.98299999999999, 86.228, 94.24600000000001, 86.647, 78.22800000000001, 94.26100000000001, 89.488, 74.28699999999999, 74.904, 77.973], \"xaxis\": \"x3\", \"yaxis\": \"y3\"}, {\"alignmentgroup\": \"True\", \"bingroup\": \"y\", \"hoverlabel\": {\"namelength\": 0}, \"hovertemplate\": \"MDVP:Jitter(%)=%{y}<br>count=%{x}\", \"legendgroup\": \"\", \"marker\": {\"color\": \"#0d0887\"}, \"name\": \"\", \"offsetgroup\": \"\", \"opacity\": 0.5, \"showlegend\": false, \"type\": \"histogram\", \"xaxis\": \"x2\", \"y\": [0.00784, 0.00968, 0.0105, 0.00997, 0.01284, 0.00968, 0.0033299999999999996, 0.0029, 0.00551, 0.00532, 0.00505, 0.0054, 0.00293, 0.0039, 0.00294, 0.0036899999999999997, 0.0054399999999999995, 0.00718, 0.00742, 0.007679999999999999, 0.0084, 0.0048, 0.00442, 0.00476, 0.00742, 0.00633, 0.00455, 0.00496, 0.0031, 0.00502, 0.0028899999999999998, 0.0024100000000000002, 0.00212, 0.0018, 0.0017800000000000001, 0.00198, 0.00411, 0.0036899999999999997, 0.0028399999999999996, 0.00316, 0.00298, 0.0025800000000000003, 0.00298, 0.00281, 0.0021, 0.00225, 0.00235, 0.00185, 0.00524, 0.00428, 0.0043100000000000005, 0.00448, 0.00436, 0.0049, 0.00761, 0.008740000000000001, 0.00784, 0.007520000000000001, 0.00788, 0.00867, 0.00282, 0.00264, 0.00266, 0.00296, 0.00205, 0.00238, 0.00817, 0.00923, 0.011009999999999999, 0.00762, 0.00831, 0.00971, 0.00405, 0.00533, 0.00494, 0.0051600000000000005, 0.005, 0.00462, 0.0060799999999999995, 0.01038, 0.006940000000000001, 0.00702, 0.00606, 0.00432, 0.00747, 0.00406, 0.00321, 0.0052, 0.00448, 0.007090000000000001, 0.00742, 0.00419, 0.0045899999999999995, 0.0038200000000000005, 0.00358, 0.0036899999999999997, 0.0034200000000000003, 0.0128, 0.01378, 0.01936, 0.03316, 0.01551, 0.03011, 0.00248, 0.00183, 0.00257, 0.00168, 0.0025800000000000003, 0.0017399999999999998, 0.007659999999999999, 0.00621, 0.00609, 0.008409999999999999, 0.00534, 0.00495, 0.00856, 0.00476, 0.00555, 0.00462, 0.00404, 0.00581, 0.0046, 0.00704, 0.00842, 0.006940000000000001, 0.00733, 0.0054399999999999995, 0.006379999999999999, 0.0044, 0.0027, 0.00492, 0.004070000000000001, 0.00346, 0.00331, 0.00589, 0.00494, 0.00451, 0.00502, 0.00472, 0.00381, 0.00571, 0.00757, 0.0037600000000000003, 0.0037, 0.0025399999999999997, 0.00352, 0.01568, 0.01466, 0.01719, 0.01627, 0.01872, 0.03107, 0.027139999999999997, 0.006840000000000001, 0.00692, 0.00647, 0.00727, 0.01813, 0.00975, 0.00605, 0.00581, 0.00619, 0.006509999999999999, 0.00519, 0.00907, 0.00277, 0.00303, 0.00339, 0.008029999999999999, 0.00517, 0.00451, 0.00355, 0.0035600000000000002, 0.00349, 0.0035299999999999997, 0.0033200000000000005, 0.00346, 0.00314, 0.00309, 0.00392, 0.00396, 0.0039700000000000004, 0.00336, 0.00417, 0.0053100000000000005, 0.00314, 0.00496, 0.00267, 0.0032700000000000003, 0.006940000000000001, 0.0045899999999999995, 0.00564, 0.0136, 0.0074, 0.0056700000000000006], \"yaxis\": \"y2\"}],\n",
              "                        {\"barmode\": \"overlay\", \"coloraxis\": {\"colorbar\": {\"title\": {\"text\": \"count\"}}, \"colorscale\": [[0.0, \"#0d0887\"], [0.1111111111111111, \"#46039f\"], [0.2222222222222222, \"#7201a8\"], [0.3333333333333333, \"#9c179e\"], [0.4444444444444444, \"#bd3786\"], [0.5555555555555556, \"#d8576b\"], [0.6666666666666666, \"#ed7953\"], [0.7777777777777778, \"#fb9f3a\"], [0.8888888888888888, \"#fdca26\"], [1.0, \"#f0f921\"]]}, \"legend\": {\"tracegroupgap\": 0}, \"margin\": {\"t\": 60}, \"template\": {\"data\": {\"bar\": [{\"error_x\": {\"color\": \"#2a3f5f\"}, \"error_y\": {\"color\": \"#2a3f5f\"}, \"marker\": {\"line\": {\"color\": \"#E5ECF6\", \"width\": 0.5}}, \"type\": \"bar\"}], \"barpolar\": [{\"marker\": {\"line\": {\"color\": \"#E5ECF6\", \"width\": 0.5}}, \"type\": \"barpolar\"}], \"carpet\": [{\"aaxis\": {\"endlinecolor\": \"#2a3f5f\", \"gridcolor\": \"white\", \"linecolor\": \"white\", \"minorgridcolor\": \"white\", \"startlinecolor\": \"#2a3f5f\"}, \"baxis\": {\"endlinecolor\": \"#2a3f5f\", \"gridcolor\": \"white\", \"linecolor\": \"white\", \"minorgridcolor\": \"white\", \"startlinecolor\": \"#2a3f5f\"}, \"type\": \"carpet\"}], \"choropleth\": [{\"colorbar\": {\"outlinewidth\": 0, \"ticks\": \"\"}, \"type\": \"choropleth\"}], \"contour\": [{\"colorbar\": {\"outlinewidth\": 0, \"ticks\": \"\"}, \"colorscale\": [[0.0, \"#0d0887\"], [0.1111111111111111, \"#46039f\"], [0.2222222222222222, \"#7201a8\"], [0.3333333333333333, \"#9c179e\"], [0.4444444444444444, \"#bd3786\"], [0.5555555555555556, \"#d8576b\"], [0.6666666666666666, \"#ed7953\"], [0.7777777777777778, \"#fb9f3a\"], [0.8888888888888888, \"#fdca26\"], [1.0, \"#f0f921\"]], \"type\": \"contour\"}], \"contourcarpet\": [{\"colorbar\": {\"outlinewidth\": 0, \"ticks\": \"\"}, \"type\": \"contourcarpet\"}], \"heatmap\": [{\"colorbar\": {\"outlinewidth\": 0, \"ticks\": \"\"}, \"colorscale\": [[0.0, \"#0d0887\"], [0.1111111111111111, \"#46039f\"], [0.2222222222222222, \"#7201a8\"], [0.3333333333333333, \"#9c179e\"], [0.4444444444444444, \"#bd3786\"], [0.5555555555555556, \"#d8576b\"], [0.6666666666666666, \"#ed7953\"], [0.7777777777777778, \"#fb9f3a\"], [0.8888888888888888, \"#fdca26\"], [1.0, \"#f0f921\"]], \"type\": \"heatmap\"}], \"heatmapgl\": [{\"colorbar\": {\"outlinewidth\": 0, \"ticks\": \"\"}, \"colorscale\": [[0.0, \"#0d0887\"], [0.1111111111111111, \"#46039f\"], [0.2222222222222222, \"#7201a8\"], [0.3333333333333333, \"#9c179e\"], [0.4444444444444444, \"#bd3786\"], [0.5555555555555556, \"#d8576b\"], [0.6666666666666666, \"#ed7953\"], [0.7777777777777778, \"#fb9f3a\"], [0.8888888888888888, \"#fdca26\"], [1.0, \"#f0f921\"]], \"type\": \"heatmapgl\"}], \"histogram\": [{\"marker\": {\"colorbar\": {\"outlinewidth\": 0, \"ticks\": \"\"}}, \"type\": \"histogram\"}], \"histogram2d\": [{\"colorbar\": {\"outlinewidth\": 0, \"ticks\": \"\"}, \"colorscale\": [[0.0, \"#0d0887\"], [0.1111111111111111, \"#46039f\"], [0.2222222222222222, \"#7201a8\"], [0.3333333333333333, \"#9c179e\"], [0.4444444444444444, \"#bd3786\"], [0.5555555555555556, \"#d8576b\"], [0.6666666666666666, \"#ed7953\"], [0.7777777777777778, \"#fb9f3a\"], [0.8888888888888888, \"#fdca26\"], [1.0, \"#f0f921\"]], \"type\": \"histogram2d\"}], \"histogram2dcontour\": [{\"colorbar\": {\"outlinewidth\": 0, \"ticks\": \"\"}, \"colorscale\": [[0.0, \"#0d0887\"], [0.1111111111111111, \"#46039f\"], [0.2222222222222222, \"#7201a8\"], [0.3333333333333333, \"#9c179e\"], [0.4444444444444444, \"#bd3786\"], [0.5555555555555556, \"#d8576b\"], [0.6666666666666666, \"#ed7953\"], [0.7777777777777778, \"#fb9f3a\"], [0.8888888888888888, \"#fdca26\"], [1.0, \"#f0f921\"]], \"type\": \"histogram2dcontour\"}], \"mesh3d\": [{\"colorbar\": {\"outlinewidth\": 0, \"ticks\": \"\"}, \"type\": \"mesh3d\"}], \"parcoords\": [{\"line\": {\"colorbar\": {\"outlinewidth\": 0, \"ticks\": \"\"}}, \"type\": \"parcoords\"}], \"pie\": [{\"automargin\": true, \"type\": \"pie\"}], \"scatter\": [{\"marker\": {\"colorbar\": {\"outlinewidth\": 0, \"ticks\": \"\"}}, \"type\": \"scatter\"}], \"scatter3d\": [{\"line\": {\"colorbar\": {\"outlinewidth\": 0, \"ticks\": \"\"}}, \"marker\": {\"colorbar\": {\"outlinewidth\": 0, \"ticks\": \"\"}}, \"type\": \"scatter3d\"}], \"scattercarpet\": [{\"marker\": {\"colorbar\": {\"outlinewidth\": 0, \"ticks\": \"\"}}, \"type\": \"scattercarpet\"}], \"scattergeo\": [{\"marker\": {\"colorbar\": {\"outlinewidth\": 0, \"ticks\": \"\"}}, \"type\": \"scattergeo\"}], \"scattergl\": [{\"marker\": {\"colorbar\": {\"outlinewidth\": 0, \"ticks\": \"\"}}, \"type\": \"scattergl\"}], \"scattermapbox\": [{\"marker\": {\"colorbar\": {\"outlinewidth\": 0, \"ticks\": \"\"}}, \"type\": \"scattermapbox\"}], \"scatterpolar\": [{\"marker\": {\"colorbar\": {\"outlinewidth\": 0, \"ticks\": \"\"}}, \"type\": \"scatterpolar\"}], \"scatterpolargl\": [{\"marker\": {\"colorbar\": {\"outlinewidth\": 0, \"ticks\": \"\"}}, \"type\": \"scatterpolargl\"}], \"scatterternary\": [{\"marker\": {\"colorbar\": {\"outlinewidth\": 0, \"ticks\": \"\"}}, \"type\": \"scatterternary\"}], \"surface\": [{\"colorbar\": {\"outlinewidth\": 0, \"ticks\": \"\"}, \"colorscale\": [[0.0, \"#0d0887\"], [0.1111111111111111, \"#46039f\"], [0.2222222222222222, \"#7201a8\"], [0.3333333333333333, \"#9c179e\"], [0.4444444444444444, \"#bd3786\"], [0.5555555555555556, \"#d8576b\"], [0.6666666666666666, \"#ed7953\"], [0.7777777777777778, \"#fb9f3a\"], [0.8888888888888888, \"#fdca26\"], [1.0, \"#f0f921\"]], \"type\": \"surface\"}], \"table\": [{\"cells\": {\"fill\": {\"color\": \"#EBF0F8\"}, \"line\": {\"color\": \"white\"}}, \"header\": {\"fill\": {\"color\": \"#C8D4E3\"}, \"line\": {\"color\": \"white\"}}, \"type\": \"table\"}]}, \"layout\": {\"annotationdefaults\": {\"arrowcolor\": \"#2a3f5f\", \"arrowhead\": 0, \"arrowwidth\": 1}, \"coloraxis\": {\"colorbar\": {\"outlinewidth\": 0, \"ticks\": \"\"}}, \"colorscale\": {\"diverging\": [[0, \"#8e0152\"], [0.1, \"#c51b7d\"], [0.2, \"#de77ae\"], [0.3, \"#f1b6da\"], [0.4, \"#fde0ef\"], [0.5, \"#f7f7f7\"], [0.6, \"#e6f5d0\"], [0.7, \"#b8e186\"], [0.8, \"#7fbc41\"], [0.9, \"#4d9221\"], [1, \"#276419\"]], \"sequential\": [[0.0, \"#0d0887\"], [0.1111111111111111, \"#46039f\"], [0.2222222222222222, \"#7201a8\"], [0.3333333333333333, \"#9c179e\"], [0.4444444444444444, \"#bd3786\"], [0.5555555555555556, \"#d8576b\"], [0.6666666666666666, \"#ed7953\"], [0.7777777777777778, \"#fb9f3a\"], [0.8888888888888888, \"#fdca26\"], [1.0, \"#f0f921\"]], \"sequentialminus\": [[0.0, \"#0d0887\"], [0.1111111111111111, \"#46039f\"], [0.2222222222222222, \"#7201a8\"], [0.3333333333333333, \"#9c179e\"], [0.4444444444444444, \"#bd3786\"], [0.5555555555555556, \"#d8576b\"], [0.6666666666666666, \"#ed7953\"], [0.7777777777777778, \"#fb9f3a\"], [0.8888888888888888, \"#fdca26\"], [1.0, \"#f0f921\"]]}, \"colorway\": [\"#636efa\", \"#EF553B\", \"#00cc96\", \"#ab63fa\", \"#FFA15A\", \"#19d3f3\", \"#FF6692\", \"#B6E880\", \"#FF97FF\", \"#FECB52\"], \"font\": {\"color\": \"#2a3f5f\"}, \"geo\": {\"bgcolor\": \"white\", \"lakecolor\": \"white\", \"landcolor\": \"#E5ECF6\", \"showlakes\": true, \"showland\": true, \"subunitcolor\": \"white\"}, \"hoverlabel\": {\"align\": \"left\"}, \"hovermode\": \"closest\", \"mapbox\": {\"style\": \"light\"}, \"paper_bgcolor\": \"white\", \"plot_bgcolor\": \"#E5ECF6\", \"polar\": {\"angularaxis\": {\"gridcolor\": \"white\", \"linecolor\": \"white\", \"ticks\": \"\"}, \"bgcolor\": \"#E5ECF6\", \"radialaxis\": {\"gridcolor\": \"white\", \"linecolor\": \"white\", \"ticks\": \"\"}}, \"scene\": {\"xaxis\": {\"backgroundcolor\": \"#E5ECF6\", \"gridcolor\": \"white\", \"gridwidth\": 2, \"linecolor\": \"white\", \"showbackground\": true, \"ticks\": \"\", \"zerolinecolor\": \"white\"}, \"yaxis\": {\"backgroundcolor\": \"#E5ECF6\", \"gridcolor\": \"white\", \"gridwidth\": 2, \"linecolor\": \"white\", \"showbackground\": true, \"ticks\": \"\", \"zerolinecolor\": \"white\"}, \"zaxis\": {\"backgroundcolor\": \"#E5ECF6\", \"gridcolor\": \"white\", \"gridwidth\": 2, \"linecolor\": \"white\", \"showbackground\": true, \"ticks\": \"\", \"zerolinecolor\": \"white\"}}, \"shapedefaults\": {\"line\": {\"color\": \"#2a3f5f\"}}, \"ternary\": {\"aaxis\": {\"gridcolor\": \"white\", \"linecolor\": \"white\", \"ticks\": \"\"}, \"baxis\": {\"gridcolor\": \"white\", \"linecolor\": \"white\", \"ticks\": \"\"}, \"bgcolor\": \"#E5ECF6\", \"caxis\": {\"gridcolor\": \"white\", \"linecolor\": \"white\", \"ticks\": \"\"}}, \"title\": {\"x\": 0.05}, \"xaxis\": {\"automargin\": true, \"gridcolor\": \"white\", \"linecolor\": \"white\", \"ticks\": \"\", \"title\": {\"standoff\": 15}, \"zerolinecolor\": \"white\", \"zerolinewidth\": 2}, \"yaxis\": {\"automargin\": true, \"gridcolor\": \"white\", \"linecolor\": \"white\", \"ticks\": \"\", \"title\": {\"standoff\": 15}, \"zerolinecolor\": \"white\", \"zerolinewidth\": 2}}}, \"xaxis\": {\"anchor\": \"y\", \"domain\": [0.0, 0.7363], \"title\": {\"text\": \"MDVP:Flo(Hz)\"}}, \"xaxis2\": {\"anchor\": \"y2\", \"domain\": [0.7413, 1.0], \"matches\": \"x2\", \"showgrid\": true, \"showline\": false, \"showticklabels\": false, \"ticks\": \"\"}, \"xaxis3\": {\"anchor\": \"y3\", \"domain\": [0.0, 0.7363], \"matches\": \"x\", \"showgrid\": true, \"showticklabels\": false}, \"xaxis4\": {\"anchor\": \"y4\", \"domain\": [0.7413, 1.0], \"matches\": \"x2\", \"showgrid\": true, \"showline\": false, \"showticklabels\": false, \"ticks\": \"\"}, \"yaxis\": {\"anchor\": \"x\", \"domain\": [0.0, 0.8316], \"title\": {\"text\": \"MDVP:Jitter(%)\"}}, \"yaxis2\": {\"anchor\": \"x2\", \"domain\": [0.0, 0.8316], \"matches\": \"y\", \"showgrid\": true, \"showticklabels\": false}, \"yaxis3\": {\"anchor\": \"x3\", \"domain\": [0.8416, 1.0], \"matches\": \"y3\", \"showgrid\": false, \"showline\": false, \"showticklabels\": false, \"ticks\": \"\"}, \"yaxis4\": {\"anchor\": \"x4\", \"domain\": [0.8416, 1.0], \"matches\": \"y3\", \"showgrid\": true, \"showline\": false, \"showticklabels\": false, \"ticks\": \"\"}},\n",
              "                        {\"responsive\": true}\n",
              "                    ).then(function(){\n",
              "                            \n",
              "var gd = document.getElementById('96c9f0a8-77a6-43ba-ae4a-d9c2f0b561a1');\n",
              "var x = new MutationObserver(function (mutations, observer) {{\n",
              "        var display = window.getComputedStyle(gd).display;\n",
              "        if (!display || display === 'none') {{\n",
              "            console.log([gd, 'removed!']);\n",
              "            Plotly.purge(gd);\n",
              "            observer.disconnect();\n",
              "        }}\n",
              "}});\n",
              "\n",
              "// Listen for the removal of the full notebook cells\n",
              "var notebookContainer = gd.closest('#notebook-container');\n",
              "if (notebookContainer) {{\n",
              "    x.observe(notebookContainer, {childList: true});\n",
              "}}\n",
              "\n",
              "// Listen for the clearing of the current output cell\n",
              "var outputEl = gd.closest('.output');\n",
              "if (outputEl) {{\n",
              "    x.observe(outputEl, {childList: true});\n",
              "}}\n",
              "\n",
              "                        })\n",
              "                };\n",
              "                \n",
              "            </script>\n",
              "        </div>\n",
              "</body>\n",
              "</html>"
            ]
          },
          "metadata": {}
        }
      ]
    },
    {
      "cell_type": "code",
      "metadata": {
        "id": "oak4grvjQR8Y",
        "colab": {
          "base_uri": "https://localhost:8080/",
          "height": 542
        },
        "outputId": "f92dfaf6-1658-4455-9347-335a05777d9c"
      },
      "source": [
        "fig = px.density_heatmap(df, x=\"MDVP:RAP\", y=\"MDVP:Jitter(Abs)\", marginal_x=\"rug\", marginal_y=\"histogram\")\n",
        "fig.show()"
      ],
      "execution_count": null,
      "outputs": [
        {
          "output_type": "display_data",
          "data": {
            "text/html": [
              "<html>\n",
              "<head><meta charset=\"utf-8\" /></head>\n",
              "<body>\n",
              "    <div>\n",
              "            <script src=\"https://cdnjs.cloudflare.com/ajax/libs/mathjax/2.7.5/MathJax.js?config=TeX-AMS-MML_SVG\"></script><script type=\"text/javascript\">if (window.MathJax) {MathJax.Hub.Config({SVG: {font: \"STIX-Web\"}});}</script>\n",
              "                <script type=\"text/javascript\">window.PlotlyConfig = {MathJaxConfig: 'local'};</script>\n",
              "        <script src=\"https://cdn.plot.ly/plotly-latest.min.js\"></script>    \n",
              "            <div id=\"7f046aa8-ed86-430a-b295-d757fee2e64e\" class=\"plotly-graph-div\" style=\"height:525px; width:100%;\"></div>\n",
              "            <script type=\"text/javascript\">\n",
              "                \n",
              "                    window.PLOTLYENV=window.PLOTLYENV || {};\n",
              "                    \n",
              "                if (document.getElementById(\"7f046aa8-ed86-430a-b295-d757fee2e64e\")) {\n",
              "                    Plotly.newPlot(\n",
              "                        '7f046aa8-ed86-430a-b295-d757fee2e64e',\n",
              "                        [{\"coloraxis\": \"coloraxis\", \"hoverlabel\": {\"namelength\": 0}, \"hovertemplate\": \"MDVP:RAP=%{x}<br>MDVP:Jitter(Abs)=%{y}<br>count=%{z}\", \"name\": \"\", \"type\": \"histogram2d\", \"x\": [0.0037, 0.00465, 0.0054399999999999995, 0.00502, 0.00655, 0.00463, 0.00155, 0.00144, 0.00293, 0.00268, 0.0025399999999999997, 0.00281, 0.00118, 0.00165, 0.00121, 0.00157, 0.0021100000000000003, 0.0028399999999999996, 0.00364, 0.00372, 0.00428, 0.00232, 0.0022, 0.00221, 0.0038, 0.00316, 0.0025, 0.0025, 0.00159, 0.0028, 0.0016600000000000002, 0.00134, 0.0011300000000000001, 0.00093, 0.0009400000000000001, 0.00105, 0.00233, 0.00205, 0.0015300000000000001, 0.00168, 0.00165, 0.00134, 0.0016899999999999999, 0.00157, 0.00109, 0.00117, 0.0012699999999999999, 0.0009199999999999999, 0.0016899999999999999, 0.00124, 0.00141, 0.00131, 0.00137, 0.00165, 0.00349, 0.00398, 0.00352, 0.00299, 0.0033399999999999997, 0.00373, 0.00147, 0.0015400000000000001, 0.0015199999999999999, 0.00175, 0.00114, 0.0013599999999999999, 0.0043, 0.00507, 0.00647, 0.0046700000000000005, 0.00469, 0.00534, 0.0018, 0.00268, 0.0026, 0.00277, 0.0027, 0.0022600000000000003, 0.00331, 0.006220000000000001, 0.00389, 0.00428, 0.00351, 0.00247, 0.00418, 0.0022, 0.0016300000000000002, 0.0028699999999999997, 0.00237, 0.00391, 0.00387, 0.00224, 0.0025, 0.0019100000000000002, 0.00196, 0.00201, 0.0017800000000000001, 0.00743, 0.00826, 0.011590000000000001, 0.02144, 0.00905, 0.01854, 0.00105, 0.0007599999999999999, 0.00116, 0.0006799999999999999, 0.00115, 0.00075, 0.0045, 0.00371, 0.0036799999999999997, 0.00502, 0.00321, 0.00302, 0.00404, 0.00214, 0.00244, 0.00157, 0.0012699999999999999, 0.0024100000000000002, 0.00209, 0.00406, 0.00506, 0.00403, 0.00414, 0.00294, 0.0036799999999999997, 0.00214, 0.00116, 0.0026899999999999997, 0.00224, 0.0016899999999999999, 0.00168, 0.0029100000000000003, 0.00244, 0.0021899999999999997, 0.00257, 0.00238, 0.0018100000000000002, 0.00232, 0.00428, 0.00182, 0.0018899999999999998, 0.001, 0.0016899999999999999, 0.00863, 0.008490000000000001, 0.00996, 0.00919, 0.01075, 0.018000000000000002, 0.01568, 0.0038799999999999998, 0.0039299999999999995, 0.0035600000000000002, 0.00415, 0.011170000000000001, 0.0059299999999999995, 0.00321, 0.00299, 0.00352, 0.00366, 0.0029100000000000003, 0.0049299999999999995, 0.0015400000000000001, 0.00173, 0.00205, 0.0049, 0.00316, 0.00279, 0.0016600000000000002, 0.0017, 0.0017100000000000001, 0.00176, 0.0016, 0.0016899999999999999, 0.00135, 0.0015199999999999999, 0.0020399999999999997, 0.00206, 0.00202, 0.0017399999999999998, 0.00186, 0.0026, 0.00134, 0.0025399999999999997, 0.00115, 0.00146, 0.00412, 0.00263, 0.00331, 0.00624, 0.0037, 0.00295], \"xaxis\": \"x\", \"xbingroup\": \"x\", \"y\": [7e-05, 8e-05, 9e-05, 9e-05, 0.00011, 8e-05, 2.9999999999999997e-05, 2.9999999999999997e-05, 5.9999999999999995e-05, 5.9999999999999995e-05, 5.9999999999999995e-05, 5.9999999999999995e-05, 2e-05, 2.9999999999999997e-05, 2e-05, 2.9999999999999997e-05, 4e-05, 4e-05, 5e-05, 5e-05, 5e-05, 2.9999999999999997e-05, 2.9999999999999997e-05, 2.9999999999999997e-05, 5e-05, 5.9999999999999995e-05, 2.9999999999999997e-05, 2.9999999999999997e-05, 2e-05, 2.9999999999999997e-05, 1e-05, 1e-05, 1e-05, 9e-06, 9e-06, 1e-05, 2e-05, 2e-05, 2e-05, 2e-05, 2e-05, 1e-05, 1e-05, 1e-05, 9e-06, 9e-06, 1e-05, 7.000000000000001e-06, 4e-05, 2.9999999999999997e-05, 2.9999999999999997e-05, 4e-05, 2.9999999999999997e-05, 4e-05, 7e-05, 8e-05, 7e-05, 5.9999999999999995e-05, 7e-05, 8e-05, 1e-05, 1e-05, 1e-05, 1e-05, 9e-06, 1e-05, 5.9999999999999995e-05, 7e-05, 8e-05, 5e-05, 5.9999999999999995e-05, 7e-05, 2.9999999999999997e-05, 5e-05, 4e-05, 5e-05, 4e-05, 4e-05, 5.9999999999999995e-05, 0.0001, 7e-05, 7e-05, 5.9999999999999995e-05, 4e-05, 4e-05, 2e-05, 2e-05, 2.9999999999999997e-05, 2.9999999999999997e-05, 4e-05, 4e-05, 2.9999999999999997e-05, 2.9999999999999997e-05, 2.9999999999999997e-05, 2e-05, 2e-05, 2e-05, 0.0001, 0.00011, 0.00015, 0.00026000000000000003, 0.00011999999999999999, 0.00022, 2e-05, 1e-05, 2e-05, 1e-05, 2e-05, 1e-05, 4e-05, 2.9999999999999997e-05, 2.9999999999999997e-05, 4e-05, 2.9999999999999997e-05, 2e-05, 5.9999999999999995e-05, 2.9999999999999997e-05, 2.9999999999999997e-05, 2.9999999999999997e-05, 2e-05, 5e-05, 2.9999999999999997e-05, 5e-05, 5e-05, 4e-05, 5e-05, 4e-05, 4e-05, 4e-05, 2e-05, 4e-05, 2.9999999999999997e-05, 2.9999999999999997e-05, 2.9999999999999997e-05, 5.9999999999999995e-05, 4e-05, 4e-05, 4e-05, 4e-05, 2.9999999999999997e-05, 2.9999999999999997e-05, 4e-05, 2e-05, 2e-05, 1e-05, 2e-05, 9e-05, 8e-05, 9e-05, 8e-05, 0.0001, 0.00016, 0.00014, 5.9999999999999995e-05, 5.9999999999999995e-05, 5e-05, 5.9999999999999995e-05, 0.00015, 8e-05, 5e-05, 5e-05, 5e-05, 5.9999999999999995e-05, 5e-05, 9e-05, 1e-05, 1e-05, 1e-05, 4e-05, 2e-05, 2e-05, 2.9999999999999997e-05, 2.9999999999999997e-05, 2.9999999999999997e-05, 2.9999999999999997e-05, 2.9999999999999997e-05, 2.9999999999999997e-05, 2e-05, 2e-05, 2.9999999999999997e-05, 2.9999999999999997e-05, 2.9999999999999997e-05, 2e-05, 4e-05, 5e-05, 2.9999999999999997e-05, 4e-05, 2e-05, 2.9999999999999997e-05, 2.9999999999999997e-05, 2.9999999999999997e-05, 2.9999999999999997e-05, 8e-05, 4e-05, 2.9999999999999997e-05], \"yaxis\": \"y\", \"ybingroup\": \"y\"}, {\"alignmentgroup\": \"True\", \"boxpoints\": \"all\", \"fillcolor\": \"rgba(255,255,255,0)\", \"hoverlabel\": {\"namelength\": 0}, \"hoveron\": \"points\", \"hovertemplate\": \"MDVP:RAP=%{x}\", \"jitter\": 0, \"legendgroup\": \"\", \"line\": {\"color\": \"rgba(255,255,255,0)\"}, \"marker\": {\"color\": \"#0d0887\", \"symbol\": \"line-ns-open\"}, \"name\": \"\", \"offsetgroup\": \"\", \"showlegend\": false, \"type\": \"box\", \"x\": [0.0037, 0.00465, 0.0054399999999999995, 0.00502, 0.00655, 0.00463, 0.00155, 0.00144, 0.00293, 0.00268, 0.0025399999999999997, 0.00281, 0.00118, 0.00165, 0.00121, 0.00157, 0.0021100000000000003, 0.0028399999999999996, 0.00364, 0.00372, 0.00428, 0.00232, 0.0022, 0.00221, 0.0038, 0.00316, 0.0025, 0.0025, 0.00159, 0.0028, 0.0016600000000000002, 0.00134, 0.0011300000000000001, 0.00093, 0.0009400000000000001, 0.00105, 0.00233, 0.00205, 0.0015300000000000001, 0.00168, 0.00165, 0.00134, 0.0016899999999999999, 0.00157, 0.00109, 0.00117, 0.0012699999999999999, 0.0009199999999999999, 0.0016899999999999999, 0.00124, 0.00141, 0.00131, 0.00137, 0.00165, 0.00349, 0.00398, 0.00352, 0.00299, 0.0033399999999999997, 0.00373, 0.00147, 0.0015400000000000001, 0.0015199999999999999, 0.00175, 0.00114, 0.0013599999999999999, 0.0043, 0.00507, 0.00647, 0.0046700000000000005, 0.00469, 0.00534, 0.0018, 0.00268, 0.0026, 0.00277, 0.0027, 0.0022600000000000003, 0.00331, 0.006220000000000001, 0.00389, 0.00428, 0.00351, 0.00247, 0.00418, 0.0022, 0.0016300000000000002, 0.0028699999999999997, 0.00237, 0.00391, 0.00387, 0.00224, 0.0025, 0.0019100000000000002, 0.00196, 0.00201, 0.0017800000000000001, 0.00743, 0.00826, 0.011590000000000001, 0.02144, 0.00905, 0.01854, 0.00105, 0.0007599999999999999, 0.00116, 0.0006799999999999999, 0.00115, 0.00075, 0.0045, 0.00371, 0.0036799999999999997, 0.00502, 0.00321, 0.00302, 0.00404, 0.00214, 0.00244, 0.00157, 0.0012699999999999999, 0.0024100000000000002, 0.00209, 0.00406, 0.00506, 0.00403, 0.00414, 0.00294, 0.0036799999999999997, 0.00214, 0.00116, 0.0026899999999999997, 0.00224, 0.0016899999999999999, 0.00168, 0.0029100000000000003, 0.00244, 0.0021899999999999997, 0.00257, 0.00238, 0.0018100000000000002, 0.00232, 0.00428, 0.00182, 0.0018899999999999998, 0.001, 0.0016899999999999999, 0.00863, 0.008490000000000001, 0.00996, 0.00919, 0.01075, 0.018000000000000002, 0.01568, 0.0038799999999999998, 0.0039299999999999995, 0.0035600000000000002, 0.00415, 0.011170000000000001, 0.0059299999999999995, 0.00321, 0.00299, 0.00352, 0.00366, 0.0029100000000000003, 0.0049299999999999995, 0.0015400000000000001, 0.00173, 0.00205, 0.0049, 0.00316, 0.00279, 0.0016600000000000002, 0.0017, 0.0017100000000000001, 0.00176, 0.0016, 0.0016899999999999999, 0.00135, 0.0015199999999999999, 0.0020399999999999997, 0.00206, 0.00202, 0.0017399999999999998, 0.00186, 0.0026, 0.00134, 0.0025399999999999997, 0.00115, 0.00146, 0.00412, 0.00263, 0.00331, 0.00624, 0.0037, 0.00295], \"xaxis\": \"x3\", \"yaxis\": \"y3\"}, {\"alignmentgroup\": \"True\", \"bingroup\": \"y\", \"hoverlabel\": {\"namelength\": 0}, \"hovertemplate\": \"MDVP:Jitter(Abs)=%{y}<br>count=%{x}\", \"legendgroup\": \"\", \"marker\": {\"color\": \"#0d0887\"}, \"name\": \"\", \"offsetgroup\": \"\", \"opacity\": 0.5, \"showlegend\": false, \"type\": \"histogram\", \"xaxis\": \"x2\", \"y\": [7e-05, 8e-05, 9e-05, 9e-05, 0.00011, 8e-05, 2.9999999999999997e-05, 2.9999999999999997e-05, 5.9999999999999995e-05, 5.9999999999999995e-05, 5.9999999999999995e-05, 5.9999999999999995e-05, 2e-05, 2.9999999999999997e-05, 2e-05, 2.9999999999999997e-05, 4e-05, 4e-05, 5e-05, 5e-05, 5e-05, 2.9999999999999997e-05, 2.9999999999999997e-05, 2.9999999999999997e-05, 5e-05, 5.9999999999999995e-05, 2.9999999999999997e-05, 2.9999999999999997e-05, 2e-05, 2.9999999999999997e-05, 1e-05, 1e-05, 1e-05, 9e-06, 9e-06, 1e-05, 2e-05, 2e-05, 2e-05, 2e-05, 2e-05, 1e-05, 1e-05, 1e-05, 9e-06, 9e-06, 1e-05, 7.000000000000001e-06, 4e-05, 2.9999999999999997e-05, 2.9999999999999997e-05, 4e-05, 2.9999999999999997e-05, 4e-05, 7e-05, 8e-05, 7e-05, 5.9999999999999995e-05, 7e-05, 8e-05, 1e-05, 1e-05, 1e-05, 1e-05, 9e-06, 1e-05, 5.9999999999999995e-05, 7e-05, 8e-05, 5e-05, 5.9999999999999995e-05, 7e-05, 2.9999999999999997e-05, 5e-05, 4e-05, 5e-05, 4e-05, 4e-05, 5.9999999999999995e-05, 0.0001, 7e-05, 7e-05, 5.9999999999999995e-05, 4e-05, 4e-05, 2e-05, 2e-05, 2.9999999999999997e-05, 2.9999999999999997e-05, 4e-05, 4e-05, 2.9999999999999997e-05, 2.9999999999999997e-05, 2.9999999999999997e-05, 2e-05, 2e-05, 2e-05, 0.0001, 0.00011, 0.00015, 0.00026000000000000003, 0.00011999999999999999, 0.00022, 2e-05, 1e-05, 2e-05, 1e-05, 2e-05, 1e-05, 4e-05, 2.9999999999999997e-05, 2.9999999999999997e-05, 4e-05, 2.9999999999999997e-05, 2e-05, 5.9999999999999995e-05, 2.9999999999999997e-05, 2.9999999999999997e-05, 2.9999999999999997e-05, 2e-05, 5e-05, 2.9999999999999997e-05, 5e-05, 5e-05, 4e-05, 5e-05, 4e-05, 4e-05, 4e-05, 2e-05, 4e-05, 2.9999999999999997e-05, 2.9999999999999997e-05, 2.9999999999999997e-05, 5.9999999999999995e-05, 4e-05, 4e-05, 4e-05, 4e-05, 2.9999999999999997e-05, 2.9999999999999997e-05, 4e-05, 2e-05, 2e-05, 1e-05, 2e-05, 9e-05, 8e-05, 9e-05, 8e-05, 0.0001, 0.00016, 0.00014, 5.9999999999999995e-05, 5.9999999999999995e-05, 5e-05, 5.9999999999999995e-05, 0.00015, 8e-05, 5e-05, 5e-05, 5e-05, 5.9999999999999995e-05, 5e-05, 9e-05, 1e-05, 1e-05, 1e-05, 4e-05, 2e-05, 2e-05, 2.9999999999999997e-05, 2.9999999999999997e-05, 2.9999999999999997e-05, 2.9999999999999997e-05, 2.9999999999999997e-05, 2.9999999999999997e-05, 2e-05, 2e-05, 2.9999999999999997e-05, 2.9999999999999997e-05, 2.9999999999999997e-05, 2e-05, 4e-05, 5e-05, 2.9999999999999997e-05, 4e-05, 2e-05, 2.9999999999999997e-05, 2.9999999999999997e-05, 2.9999999999999997e-05, 2.9999999999999997e-05, 8e-05, 4e-05, 2.9999999999999997e-05], \"yaxis\": \"y2\"}],\n",
              "                        {\"barmode\": \"overlay\", \"coloraxis\": {\"colorbar\": {\"title\": {\"text\": \"count\"}}, \"colorscale\": [[0.0, \"#0d0887\"], [0.1111111111111111, \"#46039f\"], [0.2222222222222222, \"#7201a8\"], [0.3333333333333333, \"#9c179e\"], [0.4444444444444444, \"#bd3786\"], [0.5555555555555556, \"#d8576b\"], [0.6666666666666666, \"#ed7953\"], [0.7777777777777778, \"#fb9f3a\"], [0.8888888888888888, \"#fdca26\"], [1.0, \"#f0f921\"]]}, \"legend\": {\"tracegroupgap\": 0}, \"margin\": {\"t\": 60}, \"template\": {\"data\": {\"bar\": [{\"error_x\": {\"color\": \"#2a3f5f\"}, \"error_y\": {\"color\": \"#2a3f5f\"}, \"marker\": {\"line\": {\"color\": \"#E5ECF6\", \"width\": 0.5}}, \"type\": \"bar\"}], \"barpolar\": [{\"marker\": {\"line\": {\"color\": \"#E5ECF6\", \"width\": 0.5}}, \"type\": \"barpolar\"}], \"carpet\": [{\"aaxis\": {\"endlinecolor\": \"#2a3f5f\", \"gridcolor\": \"white\", \"linecolor\": \"white\", \"minorgridcolor\": \"white\", \"startlinecolor\": \"#2a3f5f\"}, \"baxis\": {\"endlinecolor\": \"#2a3f5f\", \"gridcolor\": \"white\", \"linecolor\": \"white\", \"minorgridcolor\": \"white\", \"startlinecolor\": \"#2a3f5f\"}, \"type\": \"carpet\"}], \"choropleth\": [{\"colorbar\": {\"outlinewidth\": 0, \"ticks\": \"\"}, \"type\": \"choropleth\"}], \"contour\": [{\"colorbar\": {\"outlinewidth\": 0, \"ticks\": \"\"}, \"colorscale\": [[0.0, \"#0d0887\"], [0.1111111111111111, \"#46039f\"], [0.2222222222222222, \"#7201a8\"], [0.3333333333333333, \"#9c179e\"], [0.4444444444444444, \"#bd3786\"], [0.5555555555555556, \"#d8576b\"], [0.6666666666666666, \"#ed7953\"], [0.7777777777777778, \"#fb9f3a\"], [0.8888888888888888, \"#fdca26\"], [1.0, \"#f0f921\"]], \"type\": \"contour\"}], \"contourcarpet\": [{\"colorbar\": {\"outlinewidth\": 0, \"ticks\": \"\"}, \"type\": \"contourcarpet\"}], \"heatmap\": [{\"colorbar\": {\"outlinewidth\": 0, \"ticks\": \"\"}, \"colorscale\": [[0.0, \"#0d0887\"], [0.1111111111111111, \"#46039f\"], [0.2222222222222222, \"#7201a8\"], [0.3333333333333333, \"#9c179e\"], [0.4444444444444444, \"#bd3786\"], [0.5555555555555556, \"#d8576b\"], [0.6666666666666666, \"#ed7953\"], [0.7777777777777778, \"#fb9f3a\"], [0.8888888888888888, \"#fdca26\"], [1.0, \"#f0f921\"]], \"type\": \"heatmap\"}], \"heatmapgl\": [{\"colorbar\": {\"outlinewidth\": 0, \"ticks\": \"\"}, \"colorscale\": [[0.0, \"#0d0887\"], [0.1111111111111111, \"#46039f\"], [0.2222222222222222, \"#7201a8\"], [0.3333333333333333, \"#9c179e\"], [0.4444444444444444, \"#bd3786\"], [0.5555555555555556, \"#d8576b\"], [0.6666666666666666, \"#ed7953\"], [0.7777777777777778, \"#fb9f3a\"], [0.8888888888888888, \"#fdca26\"], [1.0, \"#f0f921\"]], \"type\": \"heatmapgl\"}], \"histogram\": [{\"marker\": {\"colorbar\": {\"outlinewidth\": 0, \"ticks\": \"\"}}, \"type\": \"histogram\"}], \"histogram2d\": [{\"colorbar\": {\"outlinewidth\": 0, \"ticks\": \"\"}, \"colorscale\": [[0.0, \"#0d0887\"], [0.1111111111111111, \"#46039f\"], [0.2222222222222222, \"#7201a8\"], [0.3333333333333333, \"#9c179e\"], [0.4444444444444444, \"#bd3786\"], [0.5555555555555556, \"#d8576b\"], [0.6666666666666666, \"#ed7953\"], [0.7777777777777778, \"#fb9f3a\"], [0.8888888888888888, \"#fdca26\"], [1.0, \"#f0f921\"]], \"type\": \"histogram2d\"}], \"histogram2dcontour\": [{\"colorbar\": {\"outlinewidth\": 0, \"ticks\": \"\"}, \"colorscale\": [[0.0, \"#0d0887\"], [0.1111111111111111, \"#46039f\"], [0.2222222222222222, \"#7201a8\"], [0.3333333333333333, \"#9c179e\"], [0.4444444444444444, \"#bd3786\"], [0.5555555555555556, \"#d8576b\"], [0.6666666666666666, \"#ed7953\"], [0.7777777777777778, \"#fb9f3a\"], [0.8888888888888888, \"#fdca26\"], [1.0, \"#f0f921\"]], \"type\": \"histogram2dcontour\"}], \"mesh3d\": [{\"colorbar\": {\"outlinewidth\": 0, \"ticks\": \"\"}, \"type\": \"mesh3d\"}], \"parcoords\": [{\"line\": {\"colorbar\": {\"outlinewidth\": 0, \"ticks\": \"\"}}, \"type\": \"parcoords\"}], \"pie\": [{\"automargin\": true, \"type\": \"pie\"}], \"scatter\": [{\"marker\": {\"colorbar\": {\"outlinewidth\": 0, \"ticks\": \"\"}}, \"type\": \"scatter\"}], \"scatter3d\": [{\"line\": {\"colorbar\": {\"outlinewidth\": 0, \"ticks\": \"\"}}, \"marker\": {\"colorbar\": {\"outlinewidth\": 0, \"ticks\": \"\"}}, \"type\": \"scatter3d\"}], \"scattercarpet\": [{\"marker\": {\"colorbar\": {\"outlinewidth\": 0, \"ticks\": \"\"}}, \"type\": \"scattercarpet\"}], \"scattergeo\": [{\"marker\": {\"colorbar\": {\"outlinewidth\": 0, \"ticks\": \"\"}}, \"type\": \"scattergeo\"}], \"scattergl\": [{\"marker\": {\"colorbar\": {\"outlinewidth\": 0, \"ticks\": \"\"}}, \"type\": \"scattergl\"}], \"scattermapbox\": [{\"marker\": {\"colorbar\": {\"outlinewidth\": 0, \"ticks\": \"\"}}, \"type\": \"scattermapbox\"}], \"scatterpolar\": [{\"marker\": {\"colorbar\": {\"outlinewidth\": 0, \"ticks\": \"\"}}, \"type\": \"scatterpolar\"}], \"scatterpolargl\": [{\"marker\": {\"colorbar\": {\"outlinewidth\": 0, \"ticks\": \"\"}}, \"type\": \"scatterpolargl\"}], \"scatterternary\": [{\"marker\": {\"colorbar\": {\"outlinewidth\": 0, \"ticks\": \"\"}}, \"type\": \"scatterternary\"}], \"surface\": [{\"colorbar\": {\"outlinewidth\": 0, \"ticks\": \"\"}, \"colorscale\": [[0.0, \"#0d0887\"], [0.1111111111111111, \"#46039f\"], [0.2222222222222222, \"#7201a8\"], [0.3333333333333333, \"#9c179e\"], [0.4444444444444444, \"#bd3786\"], [0.5555555555555556, \"#d8576b\"], [0.6666666666666666, \"#ed7953\"], [0.7777777777777778, \"#fb9f3a\"], [0.8888888888888888, \"#fdca26\"], [1.0, \"#f0f921\"]], \"type\": \"surface\"}], \"table\": [{\"cells\": {\"fill\": {\"color\": \"#EBF0F8\"}, \"line\": {\"color\": \"white\"}}, \"header\": {\"fill\": {\"color\": \"#C8D4E3\"}, \"line\": {\"color\": \"white\"}}, \"type\": \"table\"}]}, \"layout\": {\"annotationdefaults\": {\"arrowcolor\": \"#2a3f5f\", \"arrowhead\": 0, \"arrowwidth\": 1}, \"coloraxis\": {\"colorbar\": {\"outlinewidth\": 0, \"ticks\": \"\"}}, \"colorscale\": {\"diverging\": [[0, \"#8e0152\"], [0.1, \"#c51b7d\"], [0.2, \"#de77ae\"], [0.3, \"#f1b6da\"], [0.4, \"#fde0ef\"], [0.5, \"#f7f7f7\"], [0.6, \"#e6f5d0\"], [0.7, \"#b8e186\"], [0.8, \"#7fbc41\"], [0.9, \"#4d9221\"], [1, \"#276419\"]], \"sequential\": [[0.0, \"#0d0887\"], [0.1111111111111111, \"#46039f\"], [0.2222222222222222, \"#7201a8\"], [0.3333333333333333, \"#9c179e\"], [0.4444444444444444, \"#bd3786\"], [0.5555555555555556, \"#d8576b\"], [0.6666666666666666, \"#ed7953\"], [0.7777777777777778, \"#fb9f3a\"], [0.8888888888888888, \"#fdca26\"], [1.0, \"#f0f921\"]], \"sequentialminus\": [[0.0, \"#0d0887\"], [0.1111111111111111, \"#46039f\"], [0.2222222222222222, \"#7201a8\"], [0.3333333333333333, \"#9c179e\"], [0.4444444444444444, \"#bd3786\"], [0.5555555555555556, \"#d8576b\"], [0.6666666666666666, \"#ed7953\"], [0.7777777777777778, \"#fb9f3a\"], [0.8888888888888888, \"#fdca26\"], [1.0, \"#f0f921\"]]}, \"colorway\": [\"#636efa\", \"#EF553B\", \"#00cc96\", \"#ab63fa\", \"#FFA15A\", \"#19d3f3\", \"#FF6692\", \"#B6E880\", \"#FF97FF\", \"#FECB52\"], \"font\": {\"color\": \"#2a3f5f\"}, \"geo\": {\"bgcolor\": \"white\", \"lakecolor\": \"white\", \"landcolor\": \"#E5ECF6\", \"showlakes\": true, \"showland\": true, \"subunitcolor\": \"white\"}, \"hoverlabel\": {\"align\": \"left\"}, \"hovermode\": \"closest\", \"mapbox\": {\"style\": \"light\"}, \"paper_bgcolor\": \"white\", \"plot_bgcolor\": \"#E5ECF6\", \"polar\": {\"angularaxis\": {\"gridcolor\": \"white\", \"linecolor\": \"white\", \"ticks\": \"\"}, \"bgcolor\": \"#E5ECF6\", \"radialaxis\": {\"gridcolor\": \"white\", \"linecolor\": \"white\", \"ticks\": \"\"}}, \"scene\": {\"xaxis\": {\"backgroundcolor\": \"#E5ECF6\", \"gridcolor\": \"white\", \"gridwidth\": 2, \"linecolor\": \"white\", \"showbackground\": true, \"ticks\": \"\", \"zerolinecolor\": \"white\"}, \"yaxis\": {\"backgroundcolor\": \"#E5ECF6\", \"gridcolor\": \"white\", \"gridwidth\": 2, \"linecolor\": \"white\", \"showbackground\": true, \"ticks\": \"\", \"zerolinecolor\": \"white\"}, \"zaxis\": {\"backgroundcolor\": \"#E5ECF6\", \"gridcolor\": \"white\", \"gridwidth\": 2, \"linecolor\": \"white\", \"showbackground\": true, \"ticks\": \"\", \"zerolinecolor\": \"white\"}}, \"shapedefaults\": {\"line\": {\"color\": \"#2a3f5f\"}}, \"ternary\": {\"aaxis\": {\"gridcolor\": \"white\", \"linecolor\": \"white\", \"ticks\": \"\"}, \"baxis\": {\"gridcolor\": \"white\", \"linecolor\": \"white\", \"ticks\": \"\"}, \"bgcolor\": \"#E5ECF6\", \"caxis\": {\"gridcolor\": \"white\", \"linecolor\": \"white\", \"ticks\": \"\"}}, \"title\": {\"x\": 0.05}, \"xaxis\": {\"automargin\": true, \"gridcolor\": \"white\", \"linecolor\": \"white\", \"ticks\": \"\", \"title\": {\"standoff\": 15}, \"zerolinecolor\": \"white\", \"zerolinewidth\": 2}, \"yaxis\": {\"automargin\": true, \"gridcolor\": \"white\", \"linecolor\": \"white\", \"ticks\": \"\", \"title\": {\"standoff\": 15}, \"zerolinecolor\": \"white\", \"zerolinewidth\": 2}}}, \"xaxis\": {\"anchor\": \"y\", \"domain\": [0.0, 0.7363], \"title\": {\"text\": \"MDVP:RAP\"}}, \"xaxis2\": {\"anchor\": \"y2\", \"domain\": [0.7413, 1.0], \"matches\": \"x2\", \"showgrid\": true, \"showline\": false, \"showticklabels\": false, \"ticks\": \"\"}, \"xaxis3\": {\"anchor\": \"y3\", \"domain\": [0.0, 0.7363], \"matches\": \"x\", \"showgrid\": true, \"showticklabels\": false}, \"xaxis4\": {\"anchor\": \"y4\", \"domain\": [0.7413, 1.0], \"matches\": \"x2\", \"showgrid\": true, \"showline\": false, \"showticklabels\": false, \"ticks\": \"\"}, \"yaxis\": {\"anchor\": \"x\", \"domain\": [0.0, 0.8316], \"title\": {\"text\": \"MDVP:Jitter(Abs)\"}}, \"yaxis2\": {\"anchor\": \"x2\", \"domain\": [0.0, 0.8316], \"matches\": \"y\", \"showgrid\": true, \"showticklabels\": false}, \"yaxis3\": {\"anchor\": \"x3\", \"domain\": [0.8416, 1.0], \"matches\": \"y3\", \"showgrid\": false, \"showline\": false, \"showticklabels\": false, \"ticks\": \"\"}, \"yaxis4\": {\"anchor\": \"x4\", \"domain\": [0.8416, 1.0], \"matches\": \"y3\", \"showgrid\": true, \"showline\": false, \"showticklabels\": false, \"ticks\": \"\"}},\n",
              "                        {\"responsive\": true}\n",
              "                    ).then(function(){\n",
              "                            \n",
              "var gd = document.getElementById('7f046aa8-ed86-430a-b295-d757fee2e64e');\n",
              "var x = new MutationObserver(function (mutations, observer) {{\n",
              "        var display = window.getComputedStyle(gd).display;\n",
              "        if (!display || display === 'none') {{\n",
              "            console.log([gd, 'removed!']);\n",
              "            Plotly.purge(gd);\n",
              "            observer.disconnect();\n",
              "        }}\n",
              "}});\n",
              "\n",
              "// Listen for the removal of the full notebook cells\n",
              "var notebookContainer = gd.closest('#notebook-container');\n",
              "if (notebookContainer) {{\n",
              "    x.observe(notebookContainer, {childList: true});\n",
              "}}\n",
              "\n",
              "// Listen for the clearing of the current output cell\n",
              "var outputEl = gd.closest('.output');\n",
              "if (outputEl) {{\n",
              "    x.observe(outputEl, {childList: true});\n",
              "}}\n",
              "\n",
              "                        })\n",
              "                };\n",
              "                \n",
              "            </script>\n",
              "        </div>\n",
              "</body>\n",
              "</html>"
            ]
          },
          "metadata": {}
        }
      ]
    },
    {
      "cell_type": "code",
      "metadata": {
        "id": "Tr8TsquDQR1E",
        "colab": {
          "base_uri": "https://localhost:8080/",
          "height": 542
        },
        "outputId": "0506ddbc-826d-49b6-81d3-c3599b80b846"
      },
      "source": [
        "fig = px.density_heatmap(df, x=\"MDVP:PPQ\", y=\"Jitter:DDP\", marginal_x=\"rug\", marginal_y=\"histogram\")\n",
        "fig.show()"
      ],
      "execution_count": null,
      "outputs": [
        {
          "output_type": "display_data",
          "data": {
            "text/html": [
              "<html>\n",
              "<head><meta charset=\"utf-8\" /></head>\n",
              "<body>\n",
              "    <div>\n",
              "            <script src=\"https://cdnjs.cloudflare.com/ajax/libs/mathjax/2.7.5/MathJax.js?config=TeX-AMS-MML_SVG\"></script><script type=\"text/javascript\">if (window.MathJax) {MathJax.Hub.Config({SVG: {font: \"STIX-Web\"}});}</script>\n",
              "                <script type=\"text/javascript\">window.PlotlyConfig = {MathJaxConfig: 'local'};</script>\n",
              "        <script src=\"https://cdn.plot.ly/plotly-latest.min.js\"></script>    \n",
              "            <div id=\"db6fc355-86f3-418f-96d1-94ee00c5c773\" class=\"plotly-graph-div\" style=\"height:525px; width:100%;\"></div>\n",
              "            <script type=\"text/javascript\">\n",
              "                \n",
              "                    window.PLOTLYENV=window.PLOTLYENV || {};\n",
              "                    \n",
              "                if (document.getElementById(\"db6fc355-86f3-418f-96d1-94ee00c5c773\")) {\n",
              "                    Plotly.newPlot(\n",
              "                        'db6fc355-86f3-418f-96d1-94ee00c5c773',\n",
              "                        [{\"coloraxis\": \"coloraxis\", \"hoverlabel\": {\"namelength\": 0}, \"hovertemplate\": \"MDVP:PPQ=%{x}<br>Jitter:DDP=%{y}<br>count=%{z}\", \"name\": \"\", \"type\": \"histogram2d\", \"x\": [0.00554, 0.006959999999999999, 0.007809999999999999, 0.00698, 0.00908, 0.0075, 0.00202, 0.00182, 0.0033200000000000005, 0.0033200000000000005, 0.0033, 0.00336, 0.0015300000000000001, 0.0020800000000000003, 0.00149, 0.00203, 0.00292, 0.00387, 0.00432, 0.00399, 0.0045, 0.00267, 0.00247, 0.0025800000000000003, 0.0039, 0.00375, 0.00234, 0.00275, 0.00176, 0.00253, 0.00168, 0.0013800000000000002, 0.00135, 0.00107, 0.00106, 0.00115, 0.0024100000000000002, 0.00218, 0.0016600000000000002, 0.00182, 0.00175, 0.00147, 0.00182, 0.00173, 0.00137, 0.00139, 0.00148, 0.0011300000000000001, 0.00203, 0.00155, 0.0016699999999999998, 0.0016899999999999999, 0.0016600000000000002, 0.00183, 0.00486, 0.00539, 0.00514, 0.00469, 0.0049299999999999995, 0.0052, 0.0015199999999999999, 0.00151, 0.00144, 0.00155, 0.0011300000000000001, 0.0014, 0.0044, 0.00463, 0.0046700000000000005, 0.0035399999999999997, 0.00419, 0.0047799999999999995, 0.0022, 0.00329, 0.00283, 0.0028899999999999998, 0.0028899999999999998, 0.0028, 0.0033200000000000005, 0.00576, 0.00415, 0.00371, 0.0034799999999999996, 0.0025800000000000003, 0.0042, 0.00244, 0.0019399999999999999, 0.00312, 0.0025399999999999997, 0.00419, 0.004529999999999999, 0.00227, 0.00256, 0.0022600000000000003, 0.00196, 0.00197, 0.0018399999999999998, 0.006229999999999999, 0.00655, 0.0099, 0.01522, 0.00909, 0.016280000000000003, 0.0013599999999999999, 0.001, 0.00134, 0.0009199999999999999, 0.00122, 0.0009599999999999999, 0.00389, 0.00337, 0.00339, 0.00485, 0.0028, 0.00246, 0.00385, 0.00207, 0.0026100000000000003, 0.0019399999999999999, 0.00128, 0.00314, 0.00221, 0.00398, 0.00449, 0.00395, 0.004220000000000001, 0.0032700000000000003, 0.00351, 0.0019199999999999998, 0.00135, 0.00238, 0.00205, 0.0017, 0.0017100000000000001, 0.0031899999999999997, 0.00315, 0.00283, 0.00312, 0.0029, 0.00232, 0.0026899999999999997, 0.00428, 0.00215, 0.0021100000000000003, 0.00133, 0.0018800000000000002, 0.00946, 0.008190000000000001, 0.01027, 0.00963, 0.01154, 0.01958, 0.01699, 0.0033200000000000005, 0.003, 0.003, 0.00339, 0.00718, 0.00454, 0.00318, 0.00316, 0.00329, 0.0034, 0.0028399999999999996, 0.00461, 0.0015300000000000001, 0.00159, 0.00186, 0.00448, 0.00283, 0.00237, 0.0019, 0.002, 0.00203, 0.00218, 0.00199, 0.00213, 0.00162, 0.00186, 0.00231, 0.00233, 0.00235, 0.00198, 0.0027, 0.00346, 0.0019199999999999998, 0.00263, 0.00148, 0.0018399999999999998, 0.00396, 0.00259, 0.00292, 0.00564, 0.0039, 0.00317], \"xaxis\": \"x\", \"xbingroup\": \"x\", \"y\": [0.011090000000000001, 0.013940000000000001, 0.01633, 0.01505, 0.01966, 0.013880000000000002, 0.00466, 0.0043100000000000005, 0.0088, 0.008029999999999999, 0.00763, 0.008440000000000001, 0.00355, 0.00496, 0.00364, 0.00471, 0.00632, 0.00853, 0.010920000000000001, 0.01116, 0.01285, 0.006959999999999999, 0.0066099999999999996, 0.00663, 0.0114, 0.00948, 0.0075, 0.007490000000000001, 0.00476, 0.008409999999999999, 0.00498, 0.00402, 0.00339, 0.00278, 0.00283, 0.00314, 0.006999999999999999, 0.0061600000000000005, 0.0045899999999999995, 0.00504, 0.00496, 0.00403, 0.00507, 0.0047, 0.0032700000000000003, 0.0035, 0.0038, 0.0027600000000000003, 0.00507, 0.00373, 0.004220000000000001, 0.0039299999999999995, 0.00411, 0.00495, 0.010459999999999999, 0.01193, 0.01056, 0.00898, 0.010029999999999999, 0.0112, 0.00442, 0.00461, 0.00457, 0.00526, 0.0034200000000000003, 0.004079999999999999, 0.01289, 0.0152, 0.01941, 0.013999999999999999, 0.01407, 0.01601, 0.0054, 0.00805, 0.0078, 0.00831, 0.0081, 0.00677, 0.009940000000000001, 0.01865, 0.01168, 0.012830000000000001, 0.01053, 0.00742, 0.01254, 0.00659, 0.00488, 0.008620000000000001, 0.0071, 0.01172, 0.011609999999999999, 0.00672, 0.0075, 0.0057399999999999994, 0.00587, 0.00602, 0.00535, 0.02228, 0.02478, 0.03476, 0.06433, 0.027160000000000004, 0.05563, 0.00315, 0.00229, 0.00349, 0.0020399999999999997, 0.00346, 0.00225, 0.01351, 0.01112, 0.01105, 0.015059999999999999, 0.009640000000000001, 0.00905, 0.01211, 0.00642, 0.00731, 0.00472, 0.00381, 0.0072299999999999994, 0.00628, 0.01218, 0.01517, 0.01209, 0.01242, 0.00883, 0.011040000000000001, 0.006409999999999999, 0.00349, 0.00808, 0.00671, 0.0050799999999999994, 0.00504, 0.00873, 0.00731, 0.00658, 0.00772, 0.00715, 0.00542, 0.006959999999999999, 0.01285, 0.0054600000000000004, 0.005679999999999999, 0.00301, 0.00506, 0.025889999999999996, 0.02546, 0.029869999999999997, 0.02756, 0.03225, 0.05401, 0.04705, 0.011640000000000001, 0.01179, 0.01067, 0.012459999999999999, 0.033510000000000005, 0.01778, 0.00962, 0.00896, 0.01057, 0.01097, 0.00873, 0.0148, 0.00462, 0.00519, 0.0061600000000000005, 0.0147, 0.00949, 0.00837, 0.00499, 0.0051, 0.00514, 0.00528, 0.0048, 0.00507, 0.00406, 0.00456, 0.0061200000000000004, 0.00619, 0.00605, 0.00521, 0.00558, 0.0078, 0.00403, 0.00762, 0.00345, 0.00439, 0.01235, 0.0079, 0.009940000000000001, 0.01873, 0.011090000000000001, 0.00885], \"yaxis\": \"y\", \"ybingroup\": \"y\"}, {\"alignmentgroup\": \"True\", \"boxpoints\": \"all\", \"fillcolor\": \"rgba(255,255,255,0)\", \"hoverlabel\": {\"namelength\": 0}, \"hoveron\": \"points\", \"hovertemplate\": \"MDVP:PPQ=%{x}\", \"jitter\": 0, \"legendgroup\": \"\", \"line\": {\"color\": \"rgba(255,255,255,0)\"}, \"marker\": {\"color\": \"#0d0887\", \"symbol\": \"line-ns-open\"}, \"name\": \"\", \"offsetgroup\": \"\", \"showlegend\": false, \"type\": \"box\", \"x\": [0.00554, 0.006959999999999999, 0.007809999999999999, 0.00698, 0.00908, 0.0075, 0.00202, 0.00182, 0.0033200000000000005, 0.0033200000000000005, 0.0033, 0.00336, 0.0015300000000000001, 0.0020800000000000003, 0.00149, 0.00203, 0.00292, 0.00387, 0.00432, 0.00399, 0.0045, 0.00267, 0.00247, 0.0025800000000000003, 0.0039, 0.00375, 0.00234, 0.00275, 0.00176, 0.00253, 0.00168, 0.0013800000000000002, 0.00135, 0.00107, 0.00106, 0.00115, 0.0024100000000000002, 0.00218, 0.0016600000000000002, 0.00182, 0.00175, 0.00147, 0.00182, 0.00173, 0.00137, 0.00139, 0.00148, 0.0011300000000000001, 0.00203, 0.00155, 0.0016699999999999998, 0.0016899999999999999, 0.0016600000000000002, 0.00183, 0.00486, 0.00539, 0.00514, 0.00469, 0.0049299999999999995, 0.0052, 0.0015199999999999999, 0.00151, 0.00144, 0.00155, 0.0011300000000000001, 0.0014, 0.0044, 0.00463, 0.0046700000000000005, 0.0035399999999999997, 0.00419, 0.0047799999999999995, 0.0022, 0.00329, 0.00283, 0.0028899999999999998, 0.0028899999999999998, 0.0028, 0.0033200000000000005, 0.00576, 0.00415, 0.00371, 0.0034799999999999996, 0.0025800000000000003, 0.0042, 0.00244, 0.0019399999999999999, 0.00312, 0.0025399999999999997, 0.00419, 0.004529999999999999, 0.00227, 0.00256, 0.0022600000000000003, 0.00196, 0.00197, 0.0018399999999999998, 0.006229999999999999, 0.00655, 0.0099, 0.01522, 0.00909, 0.016280000000000003, 0.0013599999999999999, 0.001, 0.00134, 0.0009199999999999999, 0.00122, 0.0009599999999999999, 0.00389, 0.00337, 0.00339, 0.00485, 0.0028, 0.00246, 0.00385, 0.00207, 0.0026100000000000003, 0.0019399999999999999, 0.00128, 0.00314, 0.00221, 0.00398, 0.00449, 0.00395, 0.004220000000000001, 0.0032700000000000003, 0.00351, 0.0019199999999999998, 0.00135, 0.00238, 0.00205, 0.0017, 0.0017100000000000001, 0.0031899999999999997, 0.00315, 0.00283, 0.00312, 0.0029, 0.00232, 0.0026899999999999997, 0.00428, 0.00215, 0.0021100000000000003, 0.00133, 0.0018800000000000002, 0.00946, 0.008190000000000001, 0.01027, 0.00963, 0.01154, 0.01958, 0.01699, 0.0033200000000000005, 0.003, 0.003, 0.00339, 0.00718, 0.00454, 0.00318, 0.00316, 0.00329, 0.0034, 0.0028399999999999996, 0.00461, 0.0015300000000000001, 0.00159, 0.00186, 0.00448, 0.00283, 0.00237, 0.0019, 0.002, 0.00203, 0.00218, 0.00199, 0.00213, 0.00162, 0.00186, 0.00231, 0.00233, 0.00235, 0.00198, 0.0027, 0.00346, 0.0019199999999999998, 0.00263, 0.00148, 0.0018399999999999998, 0.00396, 0.00259, 0.00292, 0.00564, 0.0039, 0.00317], \"xaxis\": \"x3\", \"yaxis\": \"y3\"}, {\"alignmentgroup\": \"True\", \"bingroup\": \"y\", \"hoverlabel\": {\"namelength\": 0}, \"hovertemplate\": \"Jitter:DDP=%{y}<br>count=%{x}\", \"legendgroup\": \"\", \"marker\": {\"color\": \"#0d0887\"}, \"name\": \"\", \"offsetgroup\": \"\", \"opacity\": 0.5, \"showlegend\": false, \"type\": \"histogram\", \"xaxis\": \"x2\", \"y\": [0.011090000000000001, 0.013940000000000001, 0.01633, 0.01505, 0.01966, 0.013880000000000002, 0.00466, 0.0043100000000000005, 0.0088, 0.008029999999999999, 0.00763, 0.008440000000000001, 0.00355, 0.00496, 0.00364, 0.00471, 0.00632, 0.00853, 0.010920000000000001, 0.01116, 0.01285, 0.006959999999999999, 0.0066099999999999996, 0.00663, 0.0114, 0.00948, 0.0075, 0.007490000000000001, 0.00476, 0.008409999999999999, 0.00498, 0.00402, 0.00339, 0.00278, 0.00283, 0.00314, 0.006999999999999999, 0.0061600000000000005, 0.0045899999999999995, 0.00504, 0.00496, 0.00403, 0.00507, 0.0047, 0.0032700000000000003, 0.0035, 0.0038, 0.0027600000000000003, 0.00507, 0.00373, 0.004220000000000001, 0.0039299999999999995, 0.00411, 0.00495, 0.010459999999999999, 0.01193, 0.01056, 0.00898, 0.010029999999999999, 0.0112, 0.00442, 0.00461, 0.00457, 0.00526, 0.0034200000000000003, 0.004079999999999999, 0.01289, 0.0152, 0.01941, 0.013999999999999999, 0.01407, 0.01601, 0.0054, 0.00805, 0.0078, 0.00831, 0.0081, 0.00677, 0.009940000000000001, 0.01865, 0.01168, 0.012830000000000001, 0.01053, 0.00742, 0.01254, 0.00659, 0.00488, 0.008620000000000001, 0.0071, 0.01172, 0.011609999999999999, 0.00672, 0.0075, 0.0057399999999999994, 0.00587, 0.00602, 0.00535, 0.02228, 0.02478, 0.03476, 0.06433, 0.027160000000000004, 0.05563, 0.00315, 0.00229, 0.00349, 0.0020399999999999997, 0.00346, 0.00225, 0.01351, 0.01112, 0.01105, 0.015059999999999999, 0.009640000000000001, 0.00905, 0.01211, 0.00642, 0.00731, 0.00472, 0.00381, 0.0072299999999999994, 0.00628, 0.01218, 0.01517, 0.01209, 0.01242, 0.00883, 0.011040000000000001, 0.006409999999999999, 0.00349, 0.00808, 0.00671, 0.0050799999999999994, 0.00504, 0.00873, 0.00731, 0.00658, 0.00772, 0.00715, 0.00542, 0.006959999999999999, 0.01285, 0.0054600000000000004, 0.005679999999999999, 0.00301, 0.00506, 0.025889999999999996, 0.02546, 0.029869999999999997, 0.02756, 0.03225, 0.05401, 0.04705, 0.011640000000000001, 0.01179, 0.01067, 0.012459999999999999, 0.033510000000000005, 0.01778, 0.00962, 0.00896, 0.01057, 0.01097, 0.00873, 0.0148, 0.00462, 0.00519, 0.0061600000000000005, 0.0147, 0.00949, 0.00837, 0.00499, 0.0051, 0.00514, 0.00528, 0.0048, 0.00507, 0.00406, 0.00456, 0.0061200000000000004, 0.00619, 0.00605, 0.00521, 0.00558, 0.0078, 0.00403, 0.00762, 0.00345, 0.00439, 0.01235, 0.0079, 0.009940000000000001, 0.01873, 0.011090000000000001, 0.00885], \"yaxis\": \"y2\"}],\n",
              "                        {\"barmode\": \"overlay\", \"coloraxis\": {\"colorbar\": {\"title\": {\"text\": \"count\"}}, \"colorscale\": [[0.0, \"#0d0887\"], [0.1111111111111111, \"#46039f\"], [0.2222222222222222, \"#7201a8\"], [0.3333333333333333, \"#9c179e\"], [0.4444444444444444, \"#bd3786\"], [0.5555555555555556, \"#d8576b\"], [0.6666666666666666, \"#ed7953\"], [0.7777777777777778, \"#fb9f3a\"], [0.8888888888888888, \"#fdca26\"], [1.0, \"#f0f921\"]]}, \"legend\": {\"tracegroupgap\": 0}, \"margin\": {\"t\": 60}, \"template\": {\"data\": {\"bar\": [{\"error_x\": {\"color\": \"#2a3f5f\"}, \"error_y\": {\"color\": \"#2a3f5f\"}, \"marker\": {\"line\": {\"color\": \"#E5ECF6\", \"width\": 0.5}}, \"type\": \"bar\"}], \"barpolar\": [{\"marker\": {\"line\": {\"color\": \"#E5ECF6\", \"width\": 0.5}}, \"type\": \"barpolar\"}], \"carpet\": [{\"aaxis\": {\"endlinecolor\": \"#2a3f5f\", \"gridcolor\": \"white\", \"linecolor\": \"white\", \"minorgridcolor\": \"white\", \"startlinecolor\": \"#2a3f5f\"}, \"baxis\": {\"endlinecolor\": \"#2a3f5f\", \"gridcolor\": \"white\", \"linecolor\": \"white\", \"minorgridcolor\": \"white\", \"startlinecolor\": \"#2a3f5f\"}, \"type\": \"carpet\"}], \"choropleth\": [{\"colorbar\": {\"outlinewidth\": 0, \"ticks\": \"\"}, \"type\": \"choropleth\"}], \"contour\": [{\"colorbar\": {\"outlinewidth\": 0, \"ticks\": \"\"}, \"colorscale\": [[0.0, \"#0d0887\"], [0.1111111111111111, \"#46039f\"], [0.2222222222222222, \"#7201a8\"], [0.3333333333333333, \"#9c179e\"], [0.4444444444444444, \"#bd3786\"], [0.5555555555555556, \"#d8576b\"], [0.6666666666666666, \"#ed7953\"], [0.7777777777777778, \"#fb9f3a\"], [0.8888888888888888, \"#fdca26\"], [1.0, \"#f0f921\"]], \"type\": \"contour\"}], \"contourcarpet\": [{\"colorbar\": {\"outlinewidth\": 0, \"ticks\": \"\"}, \"type\": \"contourcarpet\"}], \"heatmap\": [{\"colorbar\": {\"outlinewidth\": 0, \"ticks\": \"\"}, \"colorscale\": [[0.0, \"#0d0887\"], [0.1111111111111111, \"#46039f\"], [0.2222222222222222, \"#7201a8\"], [0.3333333333333333, \"#9c179e\"], [0.4444444444444444, \"#bd3786\"], [0.5555555555555556, \"#d8576b\"], [0.6666666666666666, \"#ed7953\"], [0.7777777777777778, \"#fb9f3a\"], [0.8888888888888888, \"#fdca26\"], [1.0, \"#f0f921\"]], \"type\": \"heatmap\"}], \"heatmapgl\": [{\"colorbar\": {\"outlinewidth\": 0, \"ticks\": \"\"}, \"colorscale\": [[0.0, \"#0d0887\"], [0.1111111111111111, \"#46039f\"], [0.2222222222222222, \"#7201a8\"], [0.3333333333333333, \"#9c179e\"], [0.4444444444444444, \"#bd3786\"], [0.5555555555555556, \"#d8576b\"], [0.6666666666666666, \"#ed7953\"], [0.7777777777777778, \"#fb9f3a\"], [0.8888888888888888, \"#fdca26\"], [1.0, \"#f0f921\"]], \"type\": \"heatmapgl\"}], \"histogram\": [{\"marker\": {\"colorbar\": {\"outlinewidth\": 0, \"ticks\": \"\"}}, \"type\": \"histogram\"}], \"histogram2d\": [{\"colorbar\": {\"outlinewidth\": 0, \"ticks\": \"\"}, \"colorscale\": [[0.0, \"#0d0887\"], [0.1111111111111111, \"#46039f\"], [0.2222222222222222, \"#7201a8\"], [0.3333333333333333, \"#9c179e\"], [0.4444444444444444, \"#bd3786\"], [0.5555555555555556, \"#d8576b\"], [0.6666666666666666, \"#ed7953\"], [0.7777777777777778, \"#fb9f3a\"], [0.8888888888888888, \"#fdca26\"], [1.0, \"#f0f921\"]], \"type\": \"histogram2d\"}], \"histogram2dcontour\": [{\"colorbar\": {\"outlinewidth\": 0, \"ticks\": \"\"}, \"colorscale\": [[0.0, \"#0d0887\"], [0.1111111111111111, \"#46039f\"], [0.2222222222222222, \"#7201a8\"], [0.3333333333333333, \"#9c179e\"], [0.4444444444444444, \"#bd3786\"], [0.5555555555555556, \"#d8576b\"], [0.6666666666666666, \"#ed7953\"], [0.7777777777777778, \"#fb9f3a\"], [0.8888888888888888, \"#fdca26\"], [1.0, \"#f0f921\"]], \"type\": \"histogram2dcontour\"}], \"mesh3d\": [{\"colorbar\": {\"outlinewidth\": 0, \"ticks\": \"\"}, \"type\": \"mesh3d\"}], \"parcoords\": [{\"line\": {\"colorbar\": {\"outlinewidth\": 0, \"ticks\": \"\"}}, \"type\": \"parcoords\"}], \"pie\": [{\"automargin\": true, \"type\": \"pie\"}], \"scatter\": [{\"marker\": {\"colorbar\": {\"outlinewidth\": 0, \"ticks\": \"\"}}, \"type\": \"scatter\"}], \"scatter3d\": [{\"line\": {\"colorbar\": {\"outlinewidth\": 0, \"ticks\": \"\"}}, \"marker\": {\"colorbar\": {\"outlinewidth\": 0, \"ticks\": \"\"}}, \"type\": \"scatter3d\"}], \"scattercarpet\": [{\"marker\": {\"colorbar\": {\"outlinewidth\": 0, \"ticks\": \"\"}}, \"type\": \"scattercarpet\"}], \"scattergeo\": [{\"marker\": {\"colorbar\": {\"outlinewidth\": 0, \"ticks\": \"\"}}, \"type\": \"scattergeo\"}], \"scattergl\": [{\"marker\": {\"colorbar\": {\"outlinewidth\": 0, \"ticks\": \"\"}}, \"type\": \"scattergl\"}], \"scattermapbox\": [{\"marker\": {\"colorbar\": {\"outlinewidth\": 0, \"ticks\": \"\"}}, \"type\": \"scattermapbox\"}], \"scatterpolar\": [{\"marker\": {\"colorbar\": {\"outlinewidth\": 0, \"ticks\": \"\"}}, \"type\": \"scatterpolar\"}], \"scatterpolargl\": [{\"marker\": {\"colorbar\": {\"outlinewidth\": 0, \"ticks\": \"\"}}, \"type\": \"scatterpolargl\"}], \"scatterternary\": [{\"marker\": {\"colorbar\": {\"outlinewidth\": 0, \"ticks\": \"\"}}, \"type\": \"scatterternary\"}], \"surface\": [{\"colorbar\": {\"outlinewidth\": 0, \"ticks\": \"\"}, \"colorscale\": [[0.0, \"#0d0887\"], [0.1111111111111111, \"#46039f\"], [0.2222222222222222, \"#7201a8\"], [0.3333333333333333, \"#9c179e\"], [0.4444444444444444, \"#bd3786\"], [0.5555555555555556, \"#d8576b\"], [0.6666666666666666, \"#ed7953\"], [0.7777777777777778, \"#fb9f3a\"], [0.8888888888888888, \"#fdca26\"], [1.0, \"#f0f921\"]], \"type\": \"surface\"}], \"table\": [{\"cells\": {\"fill\": {\"color\": \"#EBF0F8\"}, \"line\": {\"color\": \"white\"}}, \"header\": {\"fill\": {\"color\": \"#C8D4E3\"}, \"line\": {\"color\": \"white\"}}, \"type\": \"table\"}]}, \"layout\": {\"annotationdefaults\": {\"arrowcolor\": \"#2a3f5f\", \"arrowhead\": 0, \"arrowwidth\": 1}, \"coloraxis\": {\"colorbar\": {\"outlinewidth\": 0, \"ticks\": \"\"}}, \"colorscale\": {\"diverging\": [[0, \"#8e0152\"], [0.1, \"#c51b7d\"], [0.2, \"#de77ae\"], [0.3, \"#f1b6da\"], [0.4, \"#fde0ef\"], [0.5, \"#f7f7f7\"], [0.6, \"#e6f5d0\"], [0.7, \"#b8e186\"], [0.8, \"#7fbc41\"], [0.9, \"#4d9221\"], [1, \"#276419\"]], \"sequential\": [[0.0, \"#0d0887\"], [0.1111111111111111, \"#46039f\"], [0.2222222222222222, \"#7201a8\"], [0.3333333333333333, \"#9c179e\"], [0.4444444444444444, \"#bd3786\"], [0.5555555555555556, \"#d8576b\"], [0.6666666666666666, \"#ed7953\"], [0.7777777777777778, \"#fb9f3a\"], [0.8888888888888888, \"#fdca26\"], [1.0, \"#f0f921\"]], \"sequentialminus\": [[0.0, \"#0d0887\"], [0.1111111111111111, \"#46039f\"], [0.2222222222222222, \"#7201a8\"], [0.3333333333333333, \"#9c179e\"], [0.4444444444444444, \"#bd3786\"], [0.5555555555555556, \"#d8576b\"], [0.6666666666666666, \"#ed7953\"], [0.7777777777777778, \"#fb9f3a\"], [0.8888888888888888, \"#fdca26\"], [1.0, \"#f0f921\"]]}, \"colorway\": [\"#636efa\", \"#EF553B\", \"#00cc96\", \"#ab63fa\", \"#FFA15A\", \"#19d3f3\", \"#FF6692\", \"#B6E880\", \"#FF97FF\", \"#FECB52\"], \"font\": {\"color\": \"#2a3f5f\"}, \"geo\": {\"bgcolor\": \"white\", \"lakecolor\": \"white\", \"landcolor\": \"#E5ECF6\", \"showlakes\": true, \"showland\": true, \"subunitcolor\": \"white\"}, \"hoverlabel\": {\"align\": \"left\"}, \"hovermode\": \"closest\", \"mapbox\": {\"style\": \"light\"}, \"paper_bgcolor\": \"white\", \"plot_bgcolor\": \"#E5ECF6\", \"polar\": {\"angularaxis\": {\"gridcolor\": \"white\", \"linecolor\": \"white\", \"ticks\": \"\"}, \"bgcolor\": \"#E5ECF6\", \"radialaxis\": {\"gridcolor\": \"white\", \"linecolor\": \"white\", \"ticks\": \"\"}}, \"scene\": {\"xaxis\": {\"backgroundcolor\": \"#E5ECF6\", \"gridcolor\": \"white\", \"gridwidth\": 2, \"linecolor\": \"white\", \"showbackground\": true, \"ticks\": \"\", \"zerolinecolor\": \"white\"}, \"yaxis\": {\"backgroundcolor\": \"#E5ECF6\", \"gridcolor\": \"white\", \"gridwidth\": 2, \"linecolor\": \"white\", \"showbackground\": true, \"ticks\": \"\", \"zerolinecolor\": \"white\"}, \"zaxis\": {\"backgroundcolor\": \"#E5ECF6\", \"gridcolor\": \"white\", \"gridwidth\": 2, \"linecolor\": \"white\", \"showbackground\": true, \"ticks\": \"\", \"zerolinecolor\": \"white\"}}, \"shapedefaults\": {\"line\": {\"color\": \"#2a3f5f\"}}, \"ternary\": {\"aaxis\": {\"gridcolor\": \"white\", \"linecolor\": \"white\", \"ticks\": \"\"}, \"baxis\": {\"gridcolor\": \"white\", \"linecolor\": \"white\", \"ticks\": \"\"}, \"bgcolor\": \"#E5ECF6\", \"caxis\": {\"gridcolor\": \"white\", \"linecolor\": \"white\", \"ticks\": \"\"}}, \"title\": {\"x\": 0.05}, \"xaxis\": {\"automargin\": true, \"gridcolor\": \"white\", \"linecolor\": \"white\", \"ticks\": \"\", \"title\": {\"standoff\": 15}, \"zerolinecolor\": \"white\", \"zerolinewidth\": 2}, \"yaxis\": {\"automargin\": true, \"gridcolor\": \"white\", \"linecolor\": \"white\", \"ticks\": \"\", \"title\": {\"standoff\": 15}, \"zerolinecolor\": \"white\", \"zerolinewidth\": 2}}}, \"xaxis\": {\"anchor\": \"y\", \"domain\": [0.0, 0.7363], \"title\": {\"text\": \"MDVP:PPQ\"}}, \"xaxis2\": {\"anchor\": \"y2\", \"domain\": [0.7413, 1.0], \"matches\": \"x2\", \"showgrid\": true, \"showline\": false, \"showticklabels\": false, \"ticks\": \"\"}, \"xaxis3\": {\"anchor\": \"y3\", \"domain\": [0.0, 0.7363], \"matches\": \"x\", \"showgrid\": true, \"showticklabels\": false}, \"xaxis4\": {\"anchor\": \"y4\", \"domain\": [0.7413, 1.0], \"matches\": \"x2\", \"showgrid\": true, \"showline\": false, \"showticklabels\": false, \"ticks\": \"\"}, \"yaxis\": {\"anchor\": \"x\", \"domain\": [0.0, 0.8316], \"title\": {\"text\": \"Jitter:DDP\"}}, \"yaxis2\": {\"anchor\": \"x2\", \"domain\": [0.0, 0.8316], \"matches\": \"y\", \"showgrid\": true, \"showticklabels\": false}, \"yaxis3\": {\"anchor\": \"x3\", \"domain\": [0.8416, 1.0], \"matches\": \"y3\", \"showgrid\": false, \"showline\": false, \"showticklabels\": false, \"ticks\": \"\"}, \"yaxis4\": {\"anchor\": \"x4\", \"domain\": [0.8416, 1.0], \"matches\": \"y3\", \"showgrid\": true, \"showline\": false, \"showticklabels\": false, \"ticks\": \"\"}},\n",
              "                        {\"responsive\": true}\n",
              "                    ).then(function(){\n",
              "                            \n",
              "var gd = document.getElementById('db6fc355-86f3-418f-96d1-94ee00c5c773');\n",
              "var x = new MutationObserver(function (mutations, observer) {{\n",
              "        var display = window.getComputedStyle(gd).display;\n",
              "        if (!display || display === 'none') {{\n",
              "            console.log([gd, 'removed!']);\n",
              "            Plotly.purge(gd);\n",
              "            observer.disconnect();\n",
              "        }}\n",
              "}});\n",
              "\n",
              "// Listen for the removal of the full notebook cells\n",
              "var notebookContainer = gd.closest('#notebook-container');\n",
              "if (notebookContainer) {{\n",
              "    x.observe(notebookContainer, {childList: true});\n",
              "}}\n",
              "\n",
              "// Listen for the clearing of the current output cell\n",
              "var outputEl = gd.closest('.output');\n",
              "if (outputEl) {{\n",
              "    x.observe(outputEl, {childList: true});\n",
              "}}\n",
              "\n",
              "                        })\n",
              "                };\n",
              "                \n",
              "            </script>\n",
              "        </div>\n",
              "</body>\n",
              "</html>"
            ]
          },
          "metadata": {}
        }
      ]
    },
    {
      "cell_type": "code",
      "metadata": {
        "id": "N2-B11EYQRtj",
        "colab": {
          "base_uri": "https://localhost:8080/",
          "height": 542
        },
        "outputId": "c552bb75-706a-48e1-c357-36edfcda9b03"
      },
      "source": [
        "fig = px.density_heatmap(df, x=\"MDVP:Shimmer\", y=\"MDVP:Shimmer(dB)\", marginal_x=\"rug\", marginal_y=\"histogram\")\n",
        "fig.show()"
      ],
      "execution_count": null,
      "outputs": [
        {
          "output_type": "display_data",
          "data": {
            "text/html": [
              "<html>\n",
              "<head><meta charset=\"utf-8\" /></head>\n",
              "<body>\n",
              "    <div>\n",
              "            <script src=\"https://cdnjs.cloudflare.com/ajax/libs/mathjax/2.7.5/MathJax.js?config=TeX-AMS-MML_SVG\"></script><script type=\"text/javascript\">if (window.MathJax) {MathJax.Hub.Config({SVG: {font: \"STIX-Web\"}});}</script>\n",
              "                <script type=\"text/javascript\">window.PlotlyConfig = {MathJaxConfig: 'local'};</script>\n",
              "        <script src=\"https://cdn.plot.ly/plotly-latest.min.js\"></script>    \n",
              "            <div id=\"89d26a97-29f5-4f34-9b47-42fa1cff8cb4\" class=\"plotly-graph-div\" style=\"height:525px; width:100%;\"></div>\n",
              "            <script type=\"text/javascript\">\n",
              "                \n",
              "                    window.PLOTLYENV=window.PLOTLYENV || {};\n",
              "                    \n",
              "                if (document.getElementById(\"89d26a97-29f5-4f34-9b47-42fa1cff8cb4\")) {\n",
              "                    Plotly.newPlot(\n",
              "                        '89d26a97-29f5-4f34-9b47-42fa1cff8cb4',\n",
              "                        [{\"coloraxis\": \"coloraxis\", \"hoverlabel\": {\"namelength\": 0}, \"hovertemplate\": \"MDVP:Shimmer=%{x}<br>MDVP:Shimmer(dB)=%{y}<br>count=%{z}\", \"name\": \"\", \"type\": \"histogram2d\", \"x\": [0.04374, 0.06134, 0.052329999999999995, 0.054920000000000004, 0.06425, 0.04701, 0.01608, 0.01567, 0.02093, 0.028380000000000002, 0.02143, 0.02752, 0.01259, 0.01642, 0.01828, 0.015030000000000002, 0.02047, 0.03327, 0.055170000000000004, 0.03995, 0.0381, 0.04137, 0.04351, 0.04192, 0.01659, 0.03767, 0.01966, 0.019190000000000002, 0.01718, 0.01791, 0.01098, 0.01015, 0.012629999999999999, 0.00954, 0.00958, 0.011940000000000001, 0.02126, 0.01851, 0.01444, 0.016630000000000002, 0.01495, 0.01463, 0.017519999999999997, 0.0176, 0.014190000000000001, 0.01494, 0.01608, 0.01152, 0.016130000000000002, 0.01681, 0.021840000000000002, 0.02033, 0.022969999999999997, 0.024980000000000002, 0.02719, 0.03209, 0.03715, 0.022930000000000002, 0.02645, 0.03225, 0.018609999999999998, 0.01906, 0.01643, 0.01644, 0.01457, 0.01745, 0.03198, 0.031110000000000002, 0.05384, 0.054279999999999995, 0.03485, 0.04978, 0.01706, 0.024480000000000002, 0.024419999999999997, 0.02215, 0.03999, 0.02199, 0.03202, 0.03121, 0.04024, 0.031560000000000005, 0.02427, 0.02223, 0.04795, 0.03852, 0.03759, 0.06511, 0.06727000000000001, 0.04313, 0.0664, 0.07959, 0.0419, 0.05925, 0.037160000000000006, 0.03272, 0.03381, 0.038860000000000006, 0.04689, 0.06734, 0.09178, 0.0617, 0.09419, 0.011309999999999999, 0.0103, 0.01346, 0.01064, 0.0145, 0.01024, 0.03044, 0.02286, 0.01761, 0.023780000000000003, 0.0168, 0.02105, 0.018430000000000002, 0.014580000000000001, 0.01725, 0.012790000000000001, 0.01299, 0.02008, 0.01169, 0.044789999999999996, 0.02503, 0.02343, 0.02362, 0.02791, 0.028569999999999998, 0.010329999999999999, 0.01022, 0.014119999999999999, 0.01516, 0.01201, 0.01043, 0.049319999999999996, 0.041280000000000004, 0.04879, 0.05279, 0.056429999999999994, 0.030260000000000002, 0.03273, 0.06725, 0.035269999999999996, 0.019969999999999998, 0.026619999999999998, 0.02536, 0.08143, 0.0605, 0.07118, 0.0717, 0.0583, 0.11907999999999999, 0.08684, 0.02534, 0.02682, 0.030869999999999998, 0.022930000000000002, 0.04912, 0.02852, 0.03235, 0.04009, 0.03273, 0.03658, 0.01756, 0.02814, 0.024480000000000002, 0.01242, 0.0203, 0.021769999999999998, 0.02018, 0.018969999999999997, 0.013580000000000002, 0.01484, 0.014719999999999999, 0.016569999999999998, 0.015030000000000002, 0.01725, 0.01469, 0.01574, 0.0145, 0.025509999999999998, 0.01831, 0.02145, 0.01909, 0.01795, 0.01564, 0.0166, 0.013000000000000001, 0.01185, 0.02574, 0.04087, 0.027510000000000003, 0.02308, 0.022959999999999998, 0.01884], \"xaxis\": \"x\", \"xbingroup\": \"x\", \"y\": [0.426, 0.626, 0.48200000000000004, 0.517, 0.584, 0.456, 0.14, 0.134, 0.191, 0.255, 0.19699999999999998, 0.249, 0.11199999999999999, 0.154, 0.158, 0.126, 0.192, 0.348, 0.542, 0.348, 0.32799999999999996, 0.37, 0.377, 0.364, 0.16399999999999998, 0.381, 0.18600000000000003, 0.198, 0.161, 0.168, 0.09699999999999999, 0.08900000000000001, 0.111, 0.085, 0.085, 0.107, 0.18899999999999997, 0.168, 0.131, 0.151, 0.135, 0.132, 0.16399999999999998, 0.154, 0.126, 0.134, 0.141, 0.10300000000000001, 0.14300000000000002, 0.154, 0.19699999999999998, 0.185, 0.21, 0.228, 0.255, 0.307, 0.33399999999999996, 0.221, 0.265, 0.35, 0.17, 0.165, 0.145, 0.145, 0.129, 0.154, 0.313, 0.308, 0.478, 0.49700000000000005, 0.365, 0.483, 0.152, 0.226, 0.21600000000000003, 0.20600000000000002, 0.35, 0.19699999999999998, 0.263, 0.361, 0.364, 0.29600000000000004, 0.21600000000000003, 0.20199999999999999, 0.435, 0.331, 0.327, 0.58, 0.65, 0.442, 0.634, 0.772, 0.38299999999999995, 0.637, 0.307, 0.28300000000000003, 0.307, 0.342, 0.42200000000000004, 0.659, 0.8909999999999999, 0.584, 0.93, 0.107, 0.094, 0.126, 0.09699999999999999, 0.13699999999999998, 0.09300000000000001, 0.275, 0.207, 0.155, 0.21, 0.149, 0.209, 0.235, 0.14800000000000002, 0.175, 0.129, 0.124, 0.221, 0.11699999999999999, 0.441, 0.231, 0.22399999999999998, 0.233, 0.24600000000000002, 0.257, 0.098, 0.09, 0.125, 0.138, 0.106, 0.099, 0.441, 0.379, 0.431, 0.47600000000000003, 0.517, 0.267, 0.281, 0.5710000000000001, 0.297, 0.18, 0.228, 0.225, 0.821, 0.618, 0.722, 0.833, 0.784, 1.3019999999999998, 1.018, 0.24100000000000002, 0.23600000000000002, 0.276, 0.223, 0.43799999999999994, 0.266, 0.33899999999999997, 0.406, 0.325, 0.369, 0.155, 0.272, 0.217, 0.11599999999999999, 0.19699999999999998, 0.18899999999999997, 0.212, 0.18100000000000002, 0.129, 0.133, 0.133, 0.145, 0.13699999999999998, 0.155, 0.132, 0.142, 0.131, 0.237, 0.163, 0.198, 0.171, 0.163, 0.136, 0.154, 0.11699999999999999, 0.106, 0.255, 0.405, 0.263, 0.256, 0.24100000000000002, 0.19], \"yaxis\": \"y\", \"ybingroup\": \"y\"}, {\"alignmentgroup\": \"True\", \"boxpoints\": \"all\", \"fillcolor\": \"rgba(255,255,255,0)\", \"hoverlabel\": {\"namelength\": 0}, \"hoveron\": \"points\", \"hovertemplate\": \"MDVP:Shimmer=%{x}\", \"jitter\": 0, \"legendgroup\": \"\", \"line\": {\"color\": \"rgba(255,255,255,0)\"}, \"marker\": {\"color\": \"#0d0887\", \"symbol\": \"line-ns-open\"}, \"name\": \"\", \"offsetgroup\": \"\", \"showlegend\": false, \"type\": \"box\", \"x\": [0.04374, 0.06134, 0.052329999999999995, 0.054920000000000004, 0.06425, 0.04701, 0.01608, 0.01567, 0.02093, 0.028380000000000002, 0.02143, 0.02752, 0.01259, 0.01642, 0.01828, 0.015030000000000002, 0.02047, 0.03327, 0.055170000000000004, 0.03995, 0.0381, 0.04137, 0.04351, 0.04192, 0.01659, 0.03767, 0.01966, 0.019190000000000002, 0.01718, 0.01791, 0.01098, 0.01015, 0.012629999999999999, 0.00954, 0.00958, 0.011940000000000001, 0.02126, 0.01851, 0.01444, 0.016630000000000002, 0.01495, 0.01463, 0.017519999999999997, 0.0176, 0.014190000000000001, 0.01494, 0.01608, 0.01152, 0.016130000000000002, 0.01681, 0.021840000000000002, 0.02033, 0.022969999999999997, 0.024980000000000002, 0.02719, 0.03209, 0.03715, 0.022930000000000002, 0.02645, 0.03225, 0.018609999999999998, 0.01906, 0.01643, 0.01644, 0.01457, 0.01745, 0.03198, 0.031110000000000002, 0.05384, 0.054279999999999995, 0.03485, 0.04978, 0.01706, 0.024480000000000002, 0.024419999999999997, 0.02215, 0.03999, 0.02199, 0.03202, 0.03121, 0.04024, 0.031560000000000005, 0.02427, 0.02223, 0.04795, 0.03852, 0.03759, 0.06511, 0.06727000000000001, 0.04313, 0.0664, 0.07959, 0.0419, 0.05925, 0.037160000000000006, 0.03272, 0.03381, 0.038860000000000006, 0.04689, 0.06734, 0.09178, 0.0617, 0.09419, 0.011309999999999999, 0.0103, 0.01346, 0.01064, 0.0145, 0.01024, 0.03044, 0.02286, 0.01761, 0.023780000000000003, 0.0168, 0.02105, 0.018430000000000002, 0.014580000000000001, 0.01725, 0.012790000000000001, 0.01299, 0.02008, 0.01169, 0.044789999999999996, 0.02503, 0.02343, 0.02362, 0.02791, 0.028569999999999998, 0.010329999999999999, 0.01022, 0.014119999999999999, 0.01516, 0.01201, 0.01043, 0.049319999999999996, 0.041280000000000004, 0.04879, 0.05279, 0.056429999999999994, 0.030260000000000002, 0.03273, 0.06725, 0.035269999999999996, 0.019969999999999998, 0.026619999999999998, 0.02536, 0.08143, 0.0605, 0.07118, 0.0717, 0.0583, 0.11907999999999999, 0.08684, 0.02534, 0.02682, 0.030869999999999998, 0.022930000000000002, 0.04912, 0.02852, 0.03235, 0.04009, 0.03273, 0.03658, 0.01756, 0.02814, 0.024480000000000002, 0.01242, 0.0203, 0.021769999999999998, 0.02018, 0.018969999999999997, 0.013580000000000002, 0.01484, 0.014719999999999999, 0.016569999999999998, 0.015030000000000002, 0.01725, 0.01469, 0.01574, 0.0145, 0.025509999999999998, 0.01831, 0.02145, 0.01909, 0.01795, 0.01564, 0.0166, 0.013000000000000001, 0.01185, 0.02574, 0.04087, 0.027510000000000003, 0.02308, 0.022959999999999998, 0.01884], \"xaxis\": \"x3\", \"yaxis\": \"y3\"}, {\"alignmentgroup\": \"True\", \"bingroup\": \"y\", \"hoverlabel\": {\"namelength\": 0}, \"hovertemplate\": \"MDVP:Shimmer(dB)=%{y}<br>count=%{x}\", \"legendgroup\": \"\", \"marker\": {\"color\": \"#0d0887\"}, \"name\": \"\", \"offsetgroup\": \"\", \"opacity\": 0.5, \"showlegend\": false, \"type\": \"histogram\", \"xaxis\": \"x2\", \"y\": [0.426, 0.626, 0.48200000000000004, 0.517, 0.584, 0.456, 0.14, 0.134, 0.191, 0.255, 0.19699999999999998, 0.249, 0.11199999999999999, 0.154, 0.158, 0.126, 0.192, 0.348, 0.542, 0.348, 0.32799999999999996, 0.37, 0.377, 0.364, 0.16399999999999998, 0.381, 0.18600000000000003, 0.198, 0.161, 0.168, 0.09699999999999999, 0.08900000000000001, 0.111, 0.085, 0.085, 0.107, 0.18899999999999997, 0.168, 0.131, 0.151, 0.135, 0.132, 0.16399999999999998, 0.154, 0.126, 0.134, 0.141, 0.10300000000000001, 0.14300000000000002, 0.154, 0.19699999999999998, 0.185, 0.21, 0.228, 0.255, 0.307, 0.33399999999999996, 0.221, 0.265, 0.35, 0.17, 0.165, 0.145, 0.145, 0.129, 0.154, 0.313, 0.308, 0.478, 0.49700000000000005, 0.365, 0.483, 0.152, 0.226, 0.21600000000000003, 0.20600000000000002, 0.35, 0.19699999999999998, 0.263, 0.361, 0.364, 0.29600000000000004, 0.21600000000000003, 0.20199999999999999, 0.435, 0.331, 0.327, 0.58, 0.65, 0.442, 0.634, 0.772, 0.38299999999999995, 0.637, 0.307, 0.28300000000000003, 0.307, 0.342, 0.42200000000000004, 0.659, 0.8909999999999999, 0.584, 0.93, 0.107, 0.094, 0.126, 0.09699999999999999, 0.13699999999999998, 0.09300000000000001, 0.275, 0.207, 0.155, 0.21, 0.149, 0.209, 0.235, 0.14800000000000002, 0.175, 0.129, 0.124, 0.221, 0.11699999999999999, 0.441, 0.231, 0.22399999999999998, 0.233, 0.24600000000000002, 0.257, 0.098, 0.09, 0.125, 0.138, 0.106, 0.099, 0.441, 0.379, 0.431, 0.47600000000000003, 0.517, 0.267, 0.281, 0.5710000000000001, 0.297, 0.18, 0.228, 0.225, 0.821, 0.618, 0.722, 0.833, 0.784, 1.3019999999999998, 1.018, 0.24100000000000002, 0.23600000000000002, 0.276, 0.223, 0.43799999999999994, 0.266, 0.33899999999999997, 0.406, 0.325, 0.369, 0.155, 0.272, 0.217, 0.11599999999999999, 0.19699999999999998, 0.18899999999999997, 0.212, 0.18100000000000002, 0.129, 0.133, 0.133, 0.145, 0.13699999999999998, 0.155, 0.132, 0.142, 0.131, 0.237, 0.163, 0.198, 0.171, 0.163, 0.136, 0.154, 0.11699999999999999, 0.106, 0.255, 0.405, 0.263, 0.256, 0.24100000000000002, 0.19], \"yaxis\": \"y2\"}],\n",
              "                        {\"barmode\": \"overlay\", \"coloraxis\": {\"colorbar\": {\"title\": {\"text\": \"count\"}}, \"colorscale\": [[0.0, \"#0d0887\"], [0.1111111111111111, \"#46039f\"], [0.2222222222222222, \"#7201a8\"], [0.3333333333333333, \"#9c179e\"], [0.4444444444444444, \"#bd3786\"], [0.5555555555555556, \"#d8576b\"], [0.6666666666666666, \"#ed7953\"], [0.7777777777777778, \"#fb9f3a\"], [0.8888888888888888, \"#fdca26\"], [1.0, \"#f0f921\"]]}, \"legend\": {\"tracegroupgap\": 0}, \"margin\": {\"t\": 60}, \"template\": {\"data\": {\"bar\": [{\"error_x\": {\"color\": \"#2a3f5f\"}, \"error_y\": {\"color\": \"#2a3f5f\"}, \"marker\": {\"line\": {\"color\": \"#E5ECF6\", \"width\": 0.5}}, \"type\": \"bar\"}], \"barpolar\": [{\"marker\": {\"line\": {\"color\": \"#E5ECF6\", \"width\": 0.5}}, \"type\": \"barpolar\"}], \"carpet\": [{\"aaxis\": {\"endlinecolor\": \"#2a3f5f\", \"gridcolor\": \"white\", \"linecolor\": \"white\", \"minorgridcolor\": \"white\", \"startlinecolor\": \"#2a3f5f\"}, \"baxis\": {\"endlinecolor\": \"#2a3f5f\", \"gridcolor\": \"white\", \"linecolor\": \"white\", \"minorgridcolor\": \"white\", \"startlinecolor\": \"#2a3f5f\"}, \"type\": \"carpet\"}], \"choropleth\": [{\"colorbar\": {\"outlinewidth\": 0, \"ticks\": \"\"}, \"type\": \"choropleth\"}], \"contour\": [{\"colorbar\": {\"outlinewidth\": 0, \"ticks\": \"\"}, \"colorscale\": [[0.0, \"#0d0887\"], [0.1111111111111111, \"#46039f\"], [0.2222222222222222, \"#7201a8\"], [0.3333333333333333, \"#9c179e\"], [0.4444444444444444, \"#bd3786\"], [0.5555555555555556, \"#d8576b\"], [0.6666666666666666, \"#ed7953\"], [0.7777777777777778, \"#fb9f3a\"], [0.8888888888888888, \"#fdca26\"], [1.0, \"#f0f921\"]], \"type\": \"contour\"}], \"contourcarpet\": [{\"colorbar\": {\"outlinewidth\": 0, \"ticks\": \"\"}, \"type\": \"contourcarpet\"}], \"heatmap\": [{\"colorbar\": {\"outlinewidth\": 0, \"ticks\": \"\"}, \"colorscale\": [[0.0, \"#0d0887\"], [0.1111111111111111, \"#46039f\"], [0.2222222222222222, \"#7201a8\"], [0.3333333333333333, \"#9c179e\"], [0.4444444444444444, \"#bd3786\"], [0.5555555555555556, \"#d8576b\"], [0.6666666666666666, \"#ed7953\"], [0.7777777777777778, \"#fb9f3a\"], [0.8888888888888888, \"#fdca26\"], [1.0, \"#f0f921\"]], \"type\": \"heatmap\"}], \"heatmapgl\": [{\"colorbar\": {\"outlinewidth\": 0, \"ticks\": \"\"}, \"colorscale\": [[0.0, \"#0d0887\"], [0.1111111111111111, \"#46039f\"], [0.2222222222222222, \"#7201a8\"], [0.3333333333333333, \"#9c179e\"], [0.4444444444444444, \"#bd3786\"], [0.5555555555555556, \"#d8576b\"], [0.6666666666666666, \"#ed7953\"], [0.7777777777777778, \"#fb9f3a\"], [0.8888888888888888, \"#fdca26\"], [1.0, \"#f0f921\"]], \"type\": \"heatmapgl\"}], \"histogram\": [{\"marker\": {\"colorbar\": {\"outlinewidth\": 0, \"ticks\": \"\"}}, \"type\": \"histogram\"}], \"histogram2d\": [{\"colorbar\": {\"outlinewidth\": 0, \"ticks\": \"\"}, \"colorscale\": [[0.0, \"#0d0887\"], [0.1111111111111111, \"#46039f\"], [0.2222222222222222, \"#7201a8\"], [0.3333333333333333, \"#9c179e\"], [0.4444444444444444, \"#bd3786\"], [0.5555555555555556, \"#d8576b\"], [0.6666666666666666, \"#ed7953\"], [0.7777777777777778, \"#fb9f3a\"], [0.8888888888888888, \"#fdca26\"], [1.0, \"#f0f921\"]], \"type\": \"histogram2d\"}], \"histogram2dcontour\": [{\"colorbar\": {\"outlinewidth\": 0, \"ticks\": \"\"}, \"colorscale\": [[0.0, \"#0d0887\"], [0.1111111111111111, \"#46039f\"], [0.2222222222222222, \"#7201a8\"], [0.3333333333333333, \"#9c179e\"], [0.4444444444444444, \"#bd3786\"], [0.5555555555555556, \"#d8576b\"], [0.6666666666666666, \"#ed7953\"], [0.7777777777777778, \"#fb9f3a\"], [0.8888888888888888, \"#fdca26\"], [1.0, \"#f0f921\"]], \"type\": \"histogram2dcontour\"}], \"mesh3d\": [{\"colorbar\": {\"outlinewidth\": 0, \"ticks\": \"\"}, \"type\": \"mesh3d\"}], \"parcoords\": [{\"line\": {\"colorbar\": {\"outlinewidth\": 0, \"ticks\": \"\"}}, \"type\": \"parcoords\"}], \"pie\": [{\"automargin\": true, \"type\": \"pie\"}], \"scatter\": [{\"marker\": {\"colorbar\": {\"outlinewidth\": 0, \"ticks\": \"\"}}, \"type\": \"scatter\"}], \"scatter3d\": [{\"line\": {\"colorbar\": {\"outlinewidth\": 0, \"ticks\": \"\"}}, \"marker\": {\"colorbar\": {\"outlinewidth\": 0, \"ticks\": \"\"}}, \"type\": \"scatter3d\"}], \"scattercarpet\": [{\"marker\": {\"colorbar\": {\"outlinewidth\": 0, \"ticks\": \"\"}}, \"type\": \"scattercarpet\"}], \"scattergeo\": [{\"marker\": {\"colorbar\": {\"outlinewidth\": 0, \"ticks\": \"\"}}, \"type\": \"scattergeo\"}], \"scattergl\": [{\"marker\": {\"colorbar\": {\"outlinewidth\": 0, \"ticks\": \"\"}}, \"type\": \"scattergl\"}], \"scattermapbox\": [{\"marker\": {\"colorbar\": {\"outlinewidth\": 0, \"ticks\": \"\"}}, \"type\": \"scattermapbox\"}], \"scatterpolar\": [{\"marker\": {\"colorbar\": {\"outlinewidth\": 0, \"ticks\": \"\"}}, \"type\": \"scatterpolar\"}], \"scatterpolargl\": [{\"marker\": {\"colorbar\": {\"outlinewidth\": 0, \"ticks\": \"\"}}, \"type\": \"scatterpolargl\"}], \"scatterternary\": [{\"marker\": {\"colorbar\": {\"outlinewidth\": 0, \"ticks\": \"\"}}, \"type\": \"scatterternary\"}], \"surface\": [{\"colorbar\": {\"outlinewidth\": 0, \"ticks\": \"\"}, \"colorscale\": [[0.0, \"#0d0887\"], [0.1111111111111111, \"#46039f\"], [0.2222222222222222, \"#7201a8\"], [0.3333333333333333, \"#9c179e\"], [0.4444444444444444, \"#bd3786\"], [0.5555555555555556, \"#d8576b\"], [0.6666666666666666, \"#ed7953\"], [0.7777777777777778, \"#fb9f3a\"], [0.8888888888888888, \"#fdca26\"], [1.0, \"#f0f921\"]], \"type\": \"surface\"}], \"table\": [{\"cells\": {\"fill\": {\"color\": \"#EBF0F8\"}, \"line\": {\"color\": \"white\"}}, \"header\": {\"fill\": {\"color\": \"#C8D4E3\"}, \"line\": {\"color\": \"white\"}}, \"type\": \"table\"}]}, \"layout\": {\"annotationdefaults\": {\"arrowcolor\": \"#2a3f5f\", \"arrowhead\": 0, \"arrowwidth\": 1}, \"coloraxis\": {\"colorbar\": {\"outlinewidth\": 0, \"ticks\": \"\"}}, \"colorscale\": {\"diverging\": [[0, \"#8e0152\"], [0.1, \"#c51b7d\"], [0.2, \"#de77ae\"], [0.3, \"#f1b6da\"], [0.4, \"#fde0ef\"], [0.5, \"#f7f7f7\"], [0.6, \"#e6f5d0\"], [0.7, \"#b8e186\"], [0.8, \"#7fbc41\"], [0.9, \"#4d9221\"], [1, \"#276419\"]], \"sequential\": [[0.0, \"#0d0887\"], [0.1111111111111111, \"#46039f\"], [0.2222222222222222, \"#7201a8\"], [0.3333333333333333, \"#9c179e\"], [0.4444444444444444, \"#bd3786\"], [0.5555555555555556, \"#d8576b\"], [0.6666666666666666, \"#ed7953\"], [0.7777777777777778, \"#fb9f3a\"], [0.8888888888888888, \"#fdca26\"], [1.0, \"#f0f921\"]], \"sequentialminus\": [[0.0, \"#0d0887\"], [0.1111111111111111, \"#46039f\"], [0.2222222222222222, \"#7201a8\"], [0.3333333333333333, \"#9c179e\"], [0.4444444444444444, \"#bd3786\"], [0.5555555555555556, \"#d8576b\"], [0.6666666666666666, \"#ed7953\"], [0.7777777777777778, \"#fb9f3a\"], [0.8888888888888888, \"#fdca26\"], [1.0, \"#f0f921\"]]}, \"colorway\": [\"#636efa\", \"#EF553B\", \"#00cc96\", \"#ab63fa\", \"#FFA15A\", \"#19d3f3\", \"#FF6692\", \"#B6E880\", \"#FF97FF\", \"#FECB52\"], \"font\": {\"color\": \"#2a3f5f\"}, \"geo\": {\"bgcolor\": \"white\", \"lakecolor\": \"white\", \"landcolor\": \"#E5ECF6\", \"showlakes\": true, \"showland\": true, \"subunitcolor\": \"white\"}, \"hoverlabel\": {\"align\": \"left\"}, \"hovermode\": \"closest\", \"mapbox\": {\"style\": \"light\"}, \"paper_bgcolor\": \"white\", \"plot_bgcolor\": \"#E5ECF6\", \"polar\": {\"angularaxis\": {\"gridcolor\": \"white\", \"linecolor\": \"white\", \"ticks\": \"\"}, \"bgcolor\": \"#E5ECF6\", \"radialaxis\": {\"gridcolor\": \"white\", \"linecolor\": \"white\", \"ticks\": \"\"}}, \"scene\": {\"xaxis\": {\"backgroundcolor\": \"#E5ECF6\", \"gridcolor\": \"white\", \"gridwidth\": 2, \"linecolor\": \"white\", \"showbackground\": true, \"ticks\": \"\", \"zerolinecolor\": \"white\"}, \"yaxis\": {\"backgroundcolor\": \"#E5ECF6\", \"gridcolor\": \"white\", \"gridwidth\": 2, \"linecolor\": \"white\", \"showbackground\": true, \"ticks\": \"\", \"zerolinecolor\": \"white\"}, \"zaxis\": {\"backgroundcolor\": \"#E5ECF6\", \"gridcolor\": \"white\", \"gridwidth\": 2, \"linecolor\": \"white\", \"showbackground\": true, \"ticks\": \"\", \"zerolinecolor\": \"white\"}}, \"shapedefaults\": {\"line\": {\"color\": \"#2a3f5f\"}}, \"ternary\": {\"aaxis\": {\"gridcolor\": \"white\", \"linecolor\": \"white\", \"ticks\": \"\"}, \"baxis\": {\"gridcolor\": \"white\", \"linecolor\": \"white\", \"ticks\": \"\"}, \"bgcolor\": \"#E5ECF6\", \"caxis\": {\"gridcolor\": \"white\", \"linecolor\": \"white\", \"ticks\": \"\"}}, \"title\": {\"x\": 0.05}, \"xaxis\": {\"automargin\": true, \"gridcolor\": \"white\", \"linecolor\": \"white\", \"ticks\": \"\", \"title\": {\"standoff\": 15}, \"zerolinecolor\": \"white\", \"zerolinewidth\": 2}, \"yaxis\": {\"automargin\": true, \"gridcolor\": \"white\", \"linecolor\": \"white\", \"ticks\": \"\", \"title\": {\"standoff\": 15}, \"zerolinecolor\": \"white\", \"zerolinewidth\": 2}}}, \"xaxis\": {\"anchor\": \"y\", \"domain\": [0.0, 0.7363], \"title\": {\"text\": \"MDVP:Shimmer\"}}, \"xaxis2\": {\"anchor\": \"y2\", \"domain\": [0.7413, 1.0], \"matches\": \"x2\", \"showgrid\": true, \"showline\": false, \"showticklabels\": false, \"ticks\": \"\"}, \"xaxis3\": {\"anchor\": \"y3\", \"domain\": [0.0, 0.7363], \"matches\": \"x\", \"showgrid\": true, \"showticklabels\": false}, \"xaxis4\": {\"anchor\": \"y4\", \"domain\": [0.7413, 1.0], \"matches\": \"x2\", \"showgrid\": true, \"showline\": false, \"showticklabels\": false, \"ticks\": \"\"}, \"yaxis\": {\"anchor\": \"x\", \"domain\": [0.0, 0.8316], \"title\": {\"text\": \"MDVP:Shimmer(dB)\"}}, \"yaxis2\": {\"anchor\": \"x2\", \"domain\": [0.0, 0.8316], \"matches\": \"y\", \"showgrid\": true, \"showticklabels\": false}, \"yaxis3\": {\"anchor\": \"x3\", \"domain\": [0.8416, 1.0], \"matches\": \"y3\", \"showgrid\": false, \"showline\": false, \"showticklabels\": false, \"ticks\": \"\"}, \"yaxis4\": {\"anchor\": \"x4\", \"domain\": [0.8416, 1.0], \"matches\": \"y3\", \"showgrid\": true, \"showline\": false, \"showticklabels\": false, \"ticks\": \"\"}},\n",
              "                        {\"responsive\": true}\n",
              "                    ).then(function(){\n",
              "                            \n",
              "var gd = document.getElementById('89d26a97-29f5-4f34-9b47-42fa1cff8cb4');\n",
              "var x = new MutationObserver(function (mutations, observer) {{\n",
              "        var display = window.getComputedStyle(gd).display;\n",
              "        if (!display || display === 'none') {{\n",
              "            console.log([gd, 'removed!']);\n",
              "            Plotly.purge(gd);\n",
              "            observer.disconnect();\n",
              "        }}\n",
              "}});\n",
              "\n",
              "// Listen for the removal of the full notebook cells\n",
              "var notebookContainer = gd.closest('#notebook-container');\n",
              "if (notebookContainer) {{\n",
              "    x.observe(notebookContainer, {childList: true});\n",
              "}}\n",
              "\n",
              "// Listen for the clearing of the current output cell\n",
              "var outputEl = gd.closest('.output');\n",
              "if (outputEl) {{\n",
              "    x.observe(outputEl, {childList: true});\n",
              "}}\n",
              "\n",
              "                        })\n",
              "                };\n",
              "                \n",
              "            </script>\n",
              "        </div>\n",
              "</body>\n",
              "</html>"
            ]
          },
          "metadata": {}
        }
      ]
    },
    {
      "cell_type": "code",
      "metadata": {
        "id": "NmUwsU7cQRmf",
        "colab": {
          "base_uri": "https://localhost:8080/",
          "height": 542
        },
        "outputId": "a5d30c48-b866-4f9d-b006-692e1c603dc2"
      },
      "source": [
        "fig = px.density_heatmap(df, x=\"Shimmer:APQ3\", y=\"Shimmer:APQ5\", marginal_x=\"rug\", marginal_y=\"histogram\")\n",
        "fig.show()\n",
        "\t"
      ],
      "execution_count": null,
      "outputs": [
        {
          "output_type": "display_data",
          "data": {
            "text/html": [
              "<html>\n",
              "<head><meta charset=\"utf-8\" /></head>\n",
              "<body>\n",
              "    <div>\n",
              "            <script src=\"https://cdnjs.cloudflare.com/ajax/libs/mathjax/2.7.5/MathJax.js?config=TeX-AMS-MML_SVG\"></script><script type=\"text/javascript\">if (window.MathJax) {MathJax.Hub.Config({SVG: {font: \"STIX-Web\"}});}</script>\n",
              "                <script type=\"text/javascript\">window.PlotlyConfig = {MathJaxConfig: 'local'};</script>\n",
              "        <script src=\"https://cdn.plot.ly/plotly-latest.min.js\"></script>    \n",
              "            <div id=\"f5c51ebe-3604-4cfe-815a-1acf9fe82a74\" class=\"plotly-graph-div\" style=\"height:525px; width:100%;\"></div>\n",
              "            <script type=\"text/javascript\">\n",
              "                \n",
              "                    window.PLOTLYENV=window.PLOTLYENV || {};\n",
              "                    \n",
              "                if (document.getElementById(\"f5c51ebe-3604-4cfe-815a-1acf9fe82a74\")) {\n",
              "                    Plotly.newPlot(\n",
              "                        'f5c51ebe-3604-4cfe-815a-1acf9fe82a74',\n",
              "                        [{\"coloraxis\": \"coloraxis\", \"hoverlabel\": {\"namelength\": 0}, \"hovertemplate\": \"Shimmer:APQ3=%{x}<br>Shimmer:APQ5=%{y}<br>count=%{z}\", \"name\": \"\", \"type\": \"histogram2d\", \"x\": [0.02182, 0.03134, 0.027569999999999997, 0.02924, 0.0349, 0.023280000000000002, 0.007790000000000001, 0.00829, 0.01073, 0.01441, 0.010790000000000001, 0.014240000000000001, 0.00656, 0.00728, 0.01064, 0.00772, 0.00969, 0.01441, 0.02471, 0.01721, 0.016669999999999997, 0.02021, 0.02228, 0.02187, 0.007379999999999999, 0.01732, 0.00889, 0.00883, 0.007690000000000001, 0.00793, 0.00563, 0.00504, 0.0064, 0.00469, 0.00468, 0.00586, 0.01154, 0.00938, 0.007259999999999999, 0.00829, 0.00774, 0.00742, 0.01035, 0.01006, 0.00777, 0.00847, 0.009059999999999999, 0.00614, 0.00855, 0.0093, 0.01241, 0.01143, 0.01323, 0.01396, 0.014830000000000001, 0.01789, 0.020319999999999998, 0.011890000000000001, 0.013940000000000001, 0.01805, 0.00975, 0.01013, 0.00867, 0.00882, 0.007690000000000001, 0.00942, 0.0183, 0.016380000000000002, 0.03152, 0.033569999999999996, 0.018680000000000002, 0.027489999999999997, 0.00974, 0.013730000000000001, 0.01432, 0.01284, 0.024130000000000002, 0.01284, 0.01803, 0.017730000000000003, 0.02266, 0.01792, 0.01371, 0.01277, 0.026789999999999998, 0.02107, 0.020730000000000002, 0.03671, 0.037880000000000004, 0.022969999999999997, 0.0365, 0.04421, 0.02383, 0.03341, 0.02062, 0.01813, 0.01806, 0.02135, 0.025419999999999998, 0.03611, 0.053579999999999996, 0.03223, 0.055510000000000004, 0.005220000000000001, 0.00469, 0.0066, 0.005220000000000001, 0.00633, 0.00455, 0.01771, 0.01192, 0.00952, 0.01277, 0.00861, 0.01107, 0.00796, 0.00606, 0.00757, 0.00617, 0.006790000000000001, 0.008490000000000001, 0.00534, 0.025869999999999997, 0.01372, 0.01289, 0.01235, 0.01484, 0.01547, 0.005379999999999999, 0.00476, 0.00703, 0.007209999999999999, 0.00633, 0.0049, 0.02683, 0.02229, 0.02385, 0.028960000000000003, 0.0307, 0.01514, 0.017130000000000003, 0.04016, 0.02055, 0.011170000000000001, 0.01475, 0.01379, 0.03804, 0.02865, 0.03474, 0.03515, 0.026989999999999997, 0.056470000000000006, 0.042839999999999996, 0.0134, 0.01484, 0.01659, 0.01205, 0.0261, 0.015, 0.0136, 0.015790000000000002, 0.01644, 0.01864, 0.00967, 0.015790000000000002, 0.0141, 0.006959999999999999, 0.011859999999999999, 0.012790000000000001, 0.01176, 0.01084, 0.006640000000000001, 0.007540000000000001, 0.00748, 0.00881, 0.00812, 0.008740000000000001, 0.00728, 0.00839, 0.00725, 0.01321, 0.0095, 0.01155, 0.00864, 0.0081, 0.006670000000000001, 0.0082, 0.0063100000000000005, 0.00557, 0.01454, 0.02336, 0.016040000000000002, 0.01268, 0.01265, 0.01026], \"xaxis\": \"x\", \"xbingroup\": \"x\", \"y\": [0.0313, 0.04518, 0.03858, 0.04005, 0.04825, 0.03526, 0.00937, 0.00946, 0.01277, 0.01725, 0.01342, 0.01641, 0.00717, 0.00932, 0.00972, 0.008879999999999999, 0.012, 0.018930000000000002, 0.03572, 0.02374, 0.02383, 0.025910000000000002, 0.0254, 0.0247, 0.00948, 0.02245, 0.01169, 0.01144, 0.01012, 0.01057, 0.0068, 0.006409999999999999, 0.00825, 0.00606, 0.0061, 0.0076, 0.01347, 0.0116, 0.00885, 0.010029999999999999, 0.00941, 0.009009999999999999, 0.01024, 0.01038, 0.00898, 0.008790000000000001, 0.009770000000000001, 0.0073, 0.0077599999999999995, 0.008020000000000001, 0.01024, 0.009590000000000001, 0.01072, 0.012190000000000001, 0.01609, 0.01992, 0.02302, 0.01459, 0.01625, 0.01974, 0.01258, 0.01296, 0.01108, 0.01075, 0.00957, 0.0116, 0.0181, 0.01759, 0.02422, 0.02494, 0.01906, 0.024659999999999998, 0.00925, 0.01375, 0.01325, 0.012190000000000001, 0.02231, 0.01199, 0.01886, 0.017830000000000002, 0.02451, 0.01841, 0.014209999999999999, 0.013430000000000001, 0.03022, 0.02493, 0.02415, 0.041589999999999995, 0.042539999999999994, 0.02768, 0.04282, 0.04962, 0.02521, 0.037939999999999995, 0.023209999999999998, 0.01909, 0.02024, 0.02174, 0.0263, 0.03963, 0.04791, 0.036719999999999996, 0.05005, 0.00659, 0.0058200000000000005, 0.00818, 0.00632, 0.00788, 0.00576, 0.01815, 0.01439, 0.010579999999999999, 0.014830000000000001, 0.01017, 0.01284, 0.008320000000000001, 0.00747, 0.00971, 0.00744, 0.0063100000000000005, 0.011170000000000001, 0.0063, 0.02567, 0.0158, 0.0142, 0.01495, 0.01805, 0.01859, 0.0057, 0.00588, 0.0082, 0.00815, 0.00701, 0.00621, 0.03112, 0.02592, 0.02973, 0.03347, 0.0353, 0.018119999999999997, 0.01964, 0.04003, 0.02076, 0.011770000000000001, 0.015580000000000002, 0.014780000000000001, 0.05426, 0.041010000000000005, 0.0458, 0.04265, 0.03714, 0.0794, 0.055560000000000005, 0.01399, 0.01405, 0.01804, 0.01289, 0.02161, 0.01581, 0.0165, 0.01994, 0.01722, 0.0194, 0.010329999999999999, 0.01553, 0.01426, 0.00747, 0.0123, 0.01272, 0.011909999999999999, 0.01121, 0.007859999999999999, 0.0095, 0.00905, 0.010620000000000001, 0.00933, 0.010209999999999999, 0.00886, 0.009559999999999999, 0.008759999999999999, 0.01574, 0.01103, 0.01341, 0.01223, 0.01144, 0.0099, 0.00972, 0.007890000000000001, 0.007209999999999999, 0.015819999999999997, 0.024980000000000002, 0.016569999999999998, 0.01365, 0.01321, 0.011609999999999999], \"yaxis\": \"y\", \"ybingroup\": \"y\"}, {\"alignmentgroup\": \"True\", \"boxpoints\": \"all\", \"fillcolor\": \"rgba(255,255,255,0)\", \"hoverlabel\": {\"namelength\": 0}, \"hoveron\": \"points\", \"hovertemplate\": \"Shimmer:APQ3=%{x}\", \"jitter\": 0, \"legendgroup\": \"\", \"line\": {\"color\": \"rgba(255,255,255,0)\"}, \"marker\": {\"color\": \"#0d0887\", \"symbol\": \"line-ns-open\"}, \"name\": \"\", \"offsetgroup\": \"\", \"showlegend\": false, \"type\": \"box\", \"x\": [0.02182, 0.03134, 0.027569999999999997, 0.02924, 0.0349, 0.023280000000000002, 0.007790000000000001, 0.00829, 0.01073, 0.01441, 0.010790000000000001, 0.014240000000000001, 0.00656, 0.00728, 0.01064, 0.00772, 0.00969, 0.01441, 0.02471, 0.01721, 0.016669999999999997, 0.02021, 0.02228, 0.02187, 0.007379999999999999, 0.01732, 0.00889, 0.00883, 0.007690000000000001, 0.00793, 0.00563, 0.00504, 0.0064, 0.00469, 0.00468, 0.00586, 0.01154, 0.00938, 0.007259999999999999, 0.00829, 0.00774, 0.00742, 0.01035, 0.01006, 0.00777, 0.00847, 0.009059999999999999, 0.00614, 0.00855, 0.0093, 0.01241, 0.01143, 0.01323, 0.01396, 0.014830000000000001, 0.01789, 0.020319999999999998, 0.011890000000000001, 0.013940000000000001, 0.01805, 0.00975, 0.01013, 0.00867, 0.00882, 0.007690000000000001, 0.00942, 0.0183, 0.016380000000000002, 0.03152, 0.033569999999999996, 0.018680000000000002, 0.027489999999999997, 0.00974, 0.013730000000000001, 0.01432, 0.01284, 0.024130000000000002, 0.01284, 0.01803, 0.017730000000000003, 0.02266, 0.01792, 0.01371, 0.01277, 0.026789999999999998, 0.02107, 0.020730000000000002, 0.03671, 0.037880000000000004, 0.022969999999999997, 0.0365, 0.04421, 0.02383, 0.03341, 0.02062, 0.01813, 0.01806, 0.02135, 0.025419999999999998, 0.03611, 0.053579999999999996, 0.03223, 0.055510000000000004, 0.005220000000000001, 0.00469, 0.0066, 0.005220000000000001, 0.00633, 0.00455, 0.01771, 0.01192, 0.00952, 0.01277, 0.00861, 0.01107, 0.00796, 0.00606, 0.00757, 0.00617, 0.006790000000000001, 0.008490000000000001, 0.00534, 0.025869999999999997, 0.01372, 0.01289, 0.01235, 0.01484, 0.01547, 0.005379999999999999, 0.00476, 0.00703, 0.007209999999999999, 0.00633, 0.0049, 0.02683, 0.02229, 0.02385, 0.028960000000000003, 0.0307, 0.01514, 0.017130000000000003, 0.04016, 0.02055, 0.011170000000000001, 0.01475, 0.01379, 0.03804, 0.02865, 0.03474, 0.03515, 0.026989999999999997, 0.056470000000000006, 0.042839999999999996, 0.0134, 0.01484, 0.01659, 0.01205, 0.0261, 0.015, 0.0136, 0.015790000000000002, 0.01644, 0.01864, 0.00967, 0.015790000000000002, 0.0141, 0.006959999999999999, 0.011859999999999999, 0.012790000000000001, 0.01176, 0.01084, 0.006640000000000001, 0.007540000000000001, 0.00748, 0.00881, 0.00812, 0.008740000000000001, 0.00728, 0.00839, 0.00725, 0.01321, 0.0095, 0.01155, 0.00864, 0.0081, 0.006670000000000001, 0.0082, 0.0063100000000000005, 0.00557, 0.01454, 0.02336, 0.016040000000000002, 0.01268, 0.01265, 0.01026], \"xaxis\": \"x3\", \"yaxis\": \"y3\"}, {\"alignmentgroup\": \"True\", \"bingroup\": \"y\", \"hoverlabel\": {\"namelength\": 0}, \"hovertemplate\": \"Shimmer:APQ5=%{y}<br>count=%{x}\", \"legendgroup\": \"\", \"marker\": {\"color\": \"#0d0887\"}, \"name\": \"\", \"offsetgroup\": \"\", \"opacity\": 0.5, \"showlegend\": false, \"type\": \"histogram\", \"xaxis\": \"x2\", \"y\": [0.0313, 0.04518, 0.03858, 0.04005, 0.04825, 0.03526, 0.00937, 0.00946, 0.01277, 0.01725, 0.01342, 0.01641, 0.00717, 0.00932, 0.00972, 0.008879999999999999, 0.012, 0.018930000000000002, 0.03572, 0.02374, 0.02383, 0.025910000000000002, 0.0254, 0.0247, 0.00948, 0.02245, 0.01169, 0.01144, 0.01012, 0.01057, 0.0068, 0.006409999999999999, 0.00825, 0.00606, 0.0061, 0.0076, 0.01347, 0.0116, 0.00885, 0.010029999999999999, 0.00941, 0.009009999999999999, 0.01024, 0.01038, 0.00898, 0.008790000000000001, 0.009770000000000001, 0.0073, 0.0077599999999999995, 0.008020000000000001, 0.01024, 0.009590000000000001, 0.01072, 0.012190000000000001, 0.01609, 0.01992, 0.02302, 0.01459, 0.01625, 0.01974, 0.01258, 0.01296, 0.01108, 0.01075, 0.00957, 0.0116, 0.0181, 0.01759, 0.02422, 0.02494, 0.01906, 0.024659999999999998, 0.00925, 0.01375, 0.01325, 0.012190000000000001, 0.02231, 0.01199, 0.01886, 0.017830000000000002, 0.02451, 0.01841, 0.014209999999999999, 0.013430000000000001, 0.03022, 0.02493, 0.02415, 0.041589999999999995, 0.042539999999999994, 0.02768, 0.04282, 0.04962, 0.02521, 0.037939999999999995, 0.023209999999999998, 0.01909, 0.02024, 0.02174, 0.0263, 0.03963, 0.04791, 0.036719999999999996, 0.05005, 0.00659, 0.0058200000000000005, 0.00818, 0.00632, 0.00788, 0.00576, 0.01815, 0.01439, 0.010579999999999999, 0.014830000000000001, 0.01017, 0.01284, 0.008320000000000001, 0.00747, 0.00971, 0.00744, 0.0063100000000000005, 0.011170000000000001, 0.0063, 0.02567, 0.0158, 0.0142, 0.01495, 0.01805, 0.01859, 0.0057, 0.00588, 0.0082, 0.00815, 0.00701, 0.00621, 0.03112, 0.02592, 0.02973, 0.03347, 0.0353, 0.018119999999999997, 0.01964, 0.04003, 0.02076, 0.011770000000000001, 0.015580000000000002, 0.014780000000000001, 0.05426, 0.041010000000000005, 0.0458, 0.04265, 0.03714, 0.0794, 0.055560000000000005, 0.01399, 0.01405, 0.01804, 0.01289, 0.02161, 0.01581, 0.0165, 0.01994, 0.01722, 0.0194, 0.010329999999999999, 0.01553, 0.01426, 0.00747, 0.0123, 0.01272, 0.011909999999999999, 0.01121, 0.007859999999999999, 0.0095, 0.00905, 0.010620000000000001, 0.00933, 0.010209999999999999, 0.00886, 0.009559999999999999, 0.008759999999999999, 0.01574, 0.01103, 0.01341, 0.01223, 0.01144, 0.0099, 0.00972, 0.007890000000000001, 0.007209999999999999, 0.015819999999999997, 0.024980000000000002, 0.016569999999999998, 0.01365, 0.01321, 0.011609999999999999], \"yaxis\": \"y2\"}],\n",
              "                        {\"barmode\": \"overlay\", \"coloraxis\": {\"colorbar\": {\"title\": {\"text\": \"count\"}}, \"colorscale\": [[0.0, \"#0d0887\"], [0.1111111111111111, \"#46039f\"], [0.2222222222222222, \"#7201a8\"], [0.3333333333333333, \"#9c179e\"], [0.4444444444444444, \"#bd3786\"], [0.5555555555555556, \"#d8576b\"], [0.6666666666666666, \"#ed7953\"], [0.7777777777777778, \"#fb9f3a\"], [0.8888888888888888, \"#fdca26\"], [1.0, \"#f0f921\"]]}, \"legend\": {\"tracegroupgap\": 0}, \"margin\": {\"t\": 60}, \"template\": {\"data\": {\"bar\": [{\"error_x\": {\"color\": \"#2a3f5f\"}, \"error_y\": {\"color\": \"#2a3f5f\"}, \"marker\": {\"line\": {\"color\": \"#E5ECF6\", \"width\": 0.5}}, \"type\": \"bar\"}], \"barpolar\": [{\"marker\": {\"line\": {\"color\": \"#E5ECF6\", \"width\": 0.5}}, \"type\": \"barpolar\"}], \"carpet\": [{\"aaxis\": {\"endlinecolor\": \"#2a3f5f\", \"gridcolor\": \"white\", \"linecolor\": \"white\", \"minorgridcolor\": \"white\", \"startlinecolor\": \"#2a3f5f\"}, \"baxis\": {\"endlinecolor\": \"#2a3f5f\", \"gridcolor\": \"white\", \"linecolor\": \"white\", \"minorgridcolor\": \"white\", \"startlinecolor\": \"#2a3f5f\"}, \"type\": \"carpet\"}], \"choropleth\": [{\"colorbar\": {\"outlinewidth\": 0, \"ticks\": \"\"}, \"type\": \"choropleth\"}], \"contour\": [{\"colorbar\": {\"outlinewidth\": 0, \"ticks\": \"\"}, \"colorscale\": [[0.0, \"#0d0887\"], [0.1111111111111111, \"#46039f\"], [0.2222222222222222, \"#7201a8\"], [0.3333333333333333, \"#9c179e\"], [0.4444444444444444, \"#bd3786\"], [0.5555555555555556, \"#d8576b\"], [0.6666666666666666, \"#ed7953\"], [0.7777777777777778, \"#fb9f3a\"], [0.8888888888888888, \"#fdca26\"], [1.0, \"#f0f921\"]], \"type\": \"contour\"}], \"contourcarpet\": [{\"colorbar\": {\"outlinewidth\": 0, \"ticks\": \"\"}, \"type\": \"contourcarpet\"}], \"heatmap\": [{\"colorbar\": {\"outlinewidth\": 0, \"ticks\": \"\"}, \"colorscale\": [[0.0, \"#0d0887\"], [0.1111111111111111, \"#46039f\"], [0.2222222222222222, \"#7201a8\"], [0.3333333333333333, \"#9c179e\"], [0.4444444444444444, \"#bd3786\"], [0.5555555555555556, \"#d8576b\"], [0.6666666666666666, \"#ed7953\"], [0.7777777777777778, \"#fb9f3a\"], [0.8888888888888888, \"#fdca26\"], [1.0, \"#f0f921\"]], \"type\": \"heatmap\"}], \"heatmapgl\": [{\"colorbar\": {\"outlinewidth\": 0, \"ticks\": \"\"}, \"colorscale\": [[0.0, \"#0d0887\"], [0.1111111111111111, \"#46039f\"], [0.2222222222222222, \"#7201a8\"], [0.3333333333333333, \"#9c179e\"], [0.4444444444444444, \"#bd3786\"], [0.5555555555555556, \"#d8576b\"], [0.6666666666666666, \"#ed7953\"], [0.7777777777777778, \"#fb9f3a\"], [0.8888888888888888, \"#fdca26\"], [1.0, \"#f0f921\"]], \"type\": \"heatmapgl\"}], \"histogram\": [{\"marker\": {\"colorbar\": {\"outlinewidth\": 0, \"ticks\": \"\"}}, \"type\": \"histogram\"}], \"histogram2d\": [{\"colorbar\": {\"outlinewidth\": 0, \"ticks\": \"\"}, \"colorscale\": [[0.0, \"#0d0887\"], [0.1111111111111111, \"#46039f\"], [0.2222222222222222, \"#7201a8\"], [0.3333333333333333, \"#9c179e\"], [0.4444444444444444, \"#bd3786\"], [0.5555555555555556, \"#d8576b\"], [0.6666666666666666, \"#ed7953\"], [0.7777777777777778, \"#fb9f3a\"], [0.8888888888888888, \"#fdca26\"], [1.0, \"#f0f921\"]], \"type\": \"histogram2d\"}], \"histogram2dcontour\": [{\"colorbar\": {\"outlinewidth\": 0, \"ticks\": \"\"}, \"colorscale\": [[0.0, \"#0d0887\"], [0.1111111111111111, \"#46039f\"], [0.2222222222222222, \"#7201a8\"], [0.3333333333333333, \"#9c179e\"], [0.4444444444444444, \"#bd3786\"], [0.5555555555555556, \"#d8576b\"], [0.6666666666666666, \"#ed7953\"], [0.7777777777777778, \"#fb9f3a\"], [0.8888888888888888, \"#fdca26\"], [1.0, \"#f0f921\"]], \"type\": \"histogram2dcontour\"}], \"mesh3d\": [{\"colorbar\": {\"outlinewidth\": 0, \"ticks\": \"\"}, \"type\": \"mesh3d\"}], \"parcoords\": [{\"line\": {\"colorbar\": {\"outlinewidth\": 0, \"ticks\": \"\"}}, \"type\": \"parcoords\"}], \"pie\": [{\"automargin\": true, \"type\": \"pie\"}], \"scatter\": [{\"marker\": {\"colorbar\": {\"outlinewidth\": 0, \"ticks\": \"\"}}, \"type\": \"scatter\"}], \"scatter3d\": [{\"line\": {\"colorbar\": {\"outlinewidth\": 0, \"ticks\": \"\"}}, \"marker\": {\"colorbar\": {\"outlinewidth\": 0, \"ticks\": \"\"}}, \"type\": \"scatter3d\"}], \"scattercarpet\": [{\"marker\": {\"colorbar\": {\"outlinewidth\": 0, \"ticks\": \"\"}}, \"type\": \"scattercarpet\"}], \"scattergeo\": [{\"marker\": {\"colorbar\": {\"outlinewidth\": 0, \"ticks\": \"\"}}, \"type\": \"scattergeo\"}], \"scattergl\": [{\"marker\": {\"colorbar\": {\"outlinewidth\": 0, \"ticks\": \"\"}}, \"type\": \"scattergl\"}], \"scattermapbox\": [{\"marker\": {\"colorbar\": {\"outlinewidth\": 0, \"ticks\": \"\"}}, \"type\": \"scattermapbox\"}], \"scatterpolar\": [{\"marker\": {\"colorbar\": {\"outlinewidth\": 0, \"ticks\": \"\"}}, \"type\": \"scatterpolar\"}], \"scatterpolargl\": [{\"marker\": {\"colorbar\": {\"outlinewidth\": 0, \"ticks\": \"\"}}, \"type\": \"scatterpolargl\"}], \"scatterternary\": [{\"marker\": {\"colorbar\": {\"outlinewidth\": 0, \"ticks\": \"\"}}, \"type\": \"scatterternary\"}], \"surface\": [{\"colorbar\": {\"outlinewidth\": 0, \"ticks\": \"\"}, \"colorscale\": [[0.0, \"#0d0887\"], [0.1111111111111111, \"#46039f\"], [0.2222222222222222, \"#7201a8\"], [0.3333333333333333, \"#9c179e\"], [0.4444444444444444, \"#bd3786\"], [0.5555555555555556, \"#d8576b\"], [0.6666666666666666, \"#ed7953\"], [0.7777777777777778, \"#fb9f3a\"], [0.8888888888888888, \"#fdca26\"], [1.0, \"#f0f921\"]], \"type\": \"surface\"}], \"table\": [{\"cells\": {\"fill\": {\"color\": \"#EBF0F8\"}, \"line\": {\"color\": \"white\"}}, \"header\": {\"fill\": {\"color\": \"#C8D4E3\"}, \"line\": {\"color\": \"white\"}}, \"type\": \"table\"}]}, \"layout\": {\"annotationdefaults\": {\"arrowcolor\": \"#2a3f5f\", \"arrowhead\": 0, \"arrowwidth\": 1}, \"coloraxis\": {\"colorbar\": {\"outlinewidth\": 0, \"ticks\": \"\"}}, \"colorscale\": {\"diverging\": [[0, \"#8e0152\"], [0.1, \"#c51b7d\"], [0.2, \"#de77ae\"], [0.3, \"#f1b6da\"], [0.4, \"#fde0ef\"], [0.5, \"#f7f7f7\"], [0.6, \"#e6f5d0\"], [0.7, \"#b8e186\"], [0.8, \"#7fbc41\"], [0.9, \"#4d9221\"], [1, \"#276419\"]], \"sequential\": [[0.0, \"#0d0887\"], [0.1111111111111111, \"#46039f\"], [0.2222222222222222, \"#7201a8\"], [0.3333333333333333, \"#9c179e\"], [0.4444444444444444, \"#bd3786\"], [0.5555555555555556, \"#d8576b\"], [0.6666666666666666, \"#ed7953\"], [0.7777777777777778, \"#fb9f3a\"], [0.8888888888888888, \"#fdca26\"], [1.0, \"#f0f921\"]], \"sequentialminus\": [[0.0, \"#0d0887\"], [0.1111111111111111, \"#46039f\"], [0.2222222222222222, \"#7201a8\"], [0.3333333333333333, \"#9c179e\"], [0.4444444444444444, \"#bd3786\"], [0.5555555555555556, \"#d8576b\"], [0.6666666666666666, \"#ed7953\"], [0.7777777777777778, \"#fb9f3a\"], [0.8888888888888888, \"#fdca26\"], [1.0, \"#f0f921\"]]}, \"colorway\": [\"#636efa\", \"#EF553B\", \"#00cc96\", \"#ab63fa\", \"#FFA15A\", \"#19d3f3\", \"#FF6692\", \"#B6E880\", \"#FF97FF\", \"#FECB52\"], \"font\": {\"color\": \"#2a3f5f\"}, \"geo\": {\"bgcolor\": \"white\", \"lakecolor\": \"white\", \"landcolor\": \"#E5ECF6\", \"showlakes\": true, \"showland\": true, \"subunitcolor\": \"white\"}, \"hoverlabel\": {\"align\": \"left\"}, \"hovermode\": \"closest\", \"mapbox\": {\"style\": \"light\"}, \"paper_bgcolor\": \"white\", \"plot_bgcolor\": \"#E5ECF6\", \"polar\": {\"angularaxis\": {\"gridcolor\": \"white\", \"linecolor\": \"white\", \"ticks\": \"\"}, \"bgcolor\": \"#E5ECF6\", \"radialaxis\": {\"gridcolor\": \"white\", \"linecolor\": \"white\", \"ticks\": \"\"}}, \"scene\": {\"xaxis\": {\"backgroundcolor\": \"#E5ECF6\", \"gridcolor\": \"white\", \"gridwidth\": 2, \"linecolor\": \"white\", \"showbackground\": true, \"ticks\": \"\", \"zerolinecolor\": \"white\"}, \"yaxis\": {\"backgroundcolor\": \"#E5ECF6\", \"gridcolor\": \"white\", \"gridwidth\": 2, \"linecolor\": \"white\", \"showbackground\": true, \"ticks\": \"\", \"zerolinecolor\": \"white\"}, \"zaxis\": {\"backgroundcolor\": \"#E5ECF6\", \"gridcolor\": \"white\", \"gridwidth\": 2, \"linecolor\": \"white\", \"showbackground\": true, \"ticks\": \"\", \"zerolinecolor\": \"white\"}}, \"shapedefaults\": {\"line\": {\"color\": \"#2a3f5f\"}}, \"ternary\": {\"aaxis\": {\"gridcolor\": \"white\", \"linecolor\": \"white\", \"ticks\": \"\"}, \"baxis\": {\"gridcolor\": \"white\", \"linecolor\": \"white\", \"ticks\": \"\"}, \"bgcolor\": \"#E5ECF6\", \"caxis\": {\"gridcolor\": \"white\", \"linecolor\": \"white\", \"ticks\": \"\"}}, \"title\": {\"x\": 0.05}, \"xaxis\": {\"automargin\": true, \"gridcolor\": \"white\", \"linecolor\": \"white\", \"ticks\": \"\", \"title\": {\"standoff\": 15}, \"zerolinecolor\": \"white\", \"zerolinewidth\": 2}, \"yaxis\": {\"automargin\": true, \"gridcolor\": \"white\", \"linecolor\": \"white\", \"ticks\": \"\", \"title\": {\"standoff\": 15}, \"zerolinecolor\": \"white\", \"zerolinewidth\": 2}}}, \"xaxis\": {\"anchor\": \"y\", \"domain\": [0.0, 0.7363], \"title\": {\"text\": \"Shimmer:APQ3\"}}, \"xaxis2\": {\"anchor\": \"y2\", \"domain\": [0.7413, 1.0], \"matches\": \"x2\", \"showgrid\": true, \"showline\": false, \"showticklabels\": false, \"ticks\": \"\"}, \"xaxis3\": {\"anchor\": \"y3\", \"domain\": [0.0, 0.7363], \"matches\": \"x\", \"showgrid\": true, \"showticklabels\": false}, \"xaxis4\": {\"anchor\": \"y4\", \"domain\": [0.7413, 1.0], \"matches\": \"x2\", \"showgrid\": true, \"showline\": false, \"showticklabels\": false, \"ticks\": \"\"}, \"yaxis\": {\"anchor\": \"x\", \"domain\": [0.0, 0.8316], \"title\": {\"text\": \"Shimmer:APQ5\"}}, \"yaxis2\": {\"anchor\": \"x2\", \"domain\": [0.0, 0.8316], \"matches\": \"y\", \"showgrid\": true, \"showticklabels\": false}, \"yaxis3\": {\"anchor\": \"x3\", \"domain\": [0.8416, 1.0], \"matches\": \"y3\", \"showgrid\": false, \"showline\": false, \"showticklabels\": false, \"ticks\": \"\"}, \"yaxis4\": {\"anchor\": \"x4\", \"domain\": [0.8416, 1.0], \"matches\": \"y3\", \"showgrid\": true, \"showline\": false, \"showticklabels\": false, \"ticks\": \"\"}},\n",
              "                        {\"responsive\": true}\n",
              "                    ).then(function(){\n",
              "                            \n",
              "var gd = document.getElementById('f5c51ebe-3604-4cfe-815a-1acf9fe82a74');\n",
              "var x = new MutationObserver(function (mutations, observer) {{\n",
              "        var display = window.getComputedStyle(gd).display;\n",
              "        if (!display || display === 'none') {{\n",
              "            console.log([gd, 'removed!']);\n",
              "            Plotly.purge(gd);\n",
              "            observer.disconnect();\n",
              "        }}\n",
              "}});\n",
              "\n",
              "// Listen for the removal of the full notebook cells\n",
              "var notebookContainer = gd.closest('#notebook-container');\n",
              "if (notebookContainer) {{\n",
              "    x.observe(notebookContainer, {childList: true});\n",
              "}}\n",
              "\n",
              "// Listen for the clearing of the current output cell\n",
              "var outputEl = gd.closest('.output');\n",
              "if (outputEl) {{\n",
              "    x.observe(outputEl, {childList: true});\n",
              "}}\n",
              "\n",
              "                        })\n",
              "                };\n",
              "                \n",
              "            </script>\n",
              "        </div>\n",
              "</body>\n",
              "</html>"
            ]
          },
          "metadata": {}
        }
      ]
    },
    {
      "cell_type": "markdown",
      "metadata": {
        "id": "yiVRoJNxeYAT"
      },
      "source": [
        "##Informations of DataSet"
      ]
    },
    {
      "cell_type": "code",
      "metadata": {
        "colab": {
          "base_uri": "https://localhost:8080/"
        },
        "id": "4e021QsDyDJb",
        "outputId": "22579282-f882-460c-a56a-552b2d2b2dfa"
      },
      "source": [
        "df.info()"
      ],
      "execution_count": null,
      "outputs": [
        {
          "output_type": "stream",
          "name": "stdout",
          "text": [
            "<class 'pandas.core.frame.DataFrame'>\n",
            "RangeIndex: 195 entries, 0 to 194\n",
            "Data columns (total 24 columns):\n",
            " #   Column            Non-Null Count  Dtype  \n",
            "---  ------            --------------  -----  \n",
            " 0   name              195 non-null    object \n",
            " 1   MDVP:Fo(Hz)       195 non-null    float64\n",
            " 2   MDVP:Fhi(Hz)      195 non-null    float64\n",
            " 3   MDVP:Flo(Hz)      195 non-null    float64\n",
            " 4   MDVP:Jitter(%)    195 non-null    float64\n",
            " 5   MDVP:Jitter(Abs)  195 non-null    float64\n",
            " 6   MDVP:RAP          195 non-null    float64\n",
            " 7   MDVP:PPQ          195 non-null    float64\n",
            " 8   Jitter:DDP        195 non-null    float64\n",
            " 9   MDVP:Shimmer      195 non-null    float64\n",
            " 10  MDVP:Shimmer(dB)  195 non-null    float64\n",
            " 11  Shimmer:APQ3      195 non-null    float64\n",
            " 12  Shimmer:APQ5      195 non-null    float64\n",
            " 13  MDVP:APQ          195 non-null    float64\n",
            " 14  Shimmer:DDA       195 non-null    float64\n",
            " 15  NHR               195 non-null    float64\n",
            " 16  HNR               195 non-null    float64\n",
            " 17  status            195 non-null    int64  \n",
            " 18  RPDE              195 non-null    float64\n",
            " 19  DFA               195 non-null    float64\n",
            " 20  spread1           195 non-null    float64\n",
            " 21  spread2           195 non-null    float64\n",
            " 22  D2                195 non-null    float64\n",
            " 23  PPE               195 non-null    float64\n",
            "dtypes: float64(22), int64(1), object(1)\n",
            "memory usage: 36.7+ KB\n"
          ]
        }
      ]
    },
    {
      "cell_type": "markdown",
      "metadata": {
        "id": "l8NoibUAeqF6"
      },
      "source": [
        "##Featureing all columns except ‘status’ & labeling those in the ‘status’ column"
      ]
    },
    {
      "cell_type": "code",
      "metadata": {
        "id": "f5dbT_qUdIMa"
      },
      "source": [
        "features=df.loc[:,df.columns!='status'].values[:,1:]\n",
        "labels=df.loc[:,'status'].values"
      ],
      "execution_count": null,
      "outputs": []
    },
    {
      "cell_type": "markdown",
      "metadata": {
        "id": "BOOXhZODey5v"
      },
      "source": [
        "##Geting the counts of these labels for both 0 and 1"
      ]
    },
    {
      "cell_type": "code",
      "metadata": {
        "colab": {
          "base_uri": "https://localhost:8080/"
        },
        "id": "kAqNIKGDdLXv",
        "outputId": "6ed29471-8b13-445a-90e8-78edea88abb1"
      },
      "source": [
        "print(labels[labels==1].shape[0], labels[labels==0].shape[0])"
      ],
      "execution_count": null,
      "outputs": [
        {
          "output_type": "stream",
          "name": "stdout",
          "text": [
            "147 48\n"
          ]
        }
      ]
    },
    {
      "cell_type": "markdown",
      "metadata": {
        "id": "AWI4R5-2e_sl"
      },
      "source": [
        "##MinMaxScaler transforms features by scaling them with fit_transform() method "
      ]
    },
    {
      "cell_type": "code",
      "metadata": {
        "id": "Okv_wDh5dPgq"
      },
      "source": [
        "scaler=MinMaxScaler((-1,1))\n",
        "x=scaler.fit_transform(features)\n",
        "y=labels"
      ],
      "execution_count": null,
      "outputs": []
    },
    {
      "cell_type": "markdown",
      "metadata": {
        "id": "nJAT7hXDf-Gi"
      },
      "source": [
        "##Spliting dataset into training & testing sets \n",
        "\n",
        "####TrainSet Size: 80%\n",
        "\n",
        "####TestSet Size: 20%"
      ]
    },
    {
      "cell_type": "code",
      "metadata": {
        "id": "_Zl9qMJBdU4A"
      },
      "source": [
        "x_train,x_test,y_train,y_test=train_test_split(x, y, test_size=0.2, random_state=7)"
      ],
      "execution_count": null,
      "outputs": []
    },
    {
      "cell_type": "markdown",
      "metadata": {
        "id": "5nhFSGg3wOHa"
      },
      "source": [
        "##Scaling The features"
      ]
    },
    {
      "cell_type": "code",
      "metadata": {
        "id": "M1f_Xr32wNas"
      },
      "source": [
        "from sklearn.preprocessing import StandardScaler\n",
        "scaler = StandardScaler()\n",
        "scaler.fit(x_train,)\n",
        "\n",
        "\n",
        "x_train = scaler.transform(x_train)\n",
        "x_test = scaler.transform(x_test)"
      ],
      "execution_count": null,
      "outputs": []
    },
    {
      "cell_type": "markdown",
      "metadata": {
        "id": "Gp7E1ZxNgsI6"
      },
      "source": [
        "##Initializing XGBClassifier and train the model "
      ]
    },
    {
      "cell_type": "code",
      "metadata": {
        "colab": {
          "base_uri": "https://localhost:8080/"
        },
        "id": "hLeO-ewtdYxZ",
        "outputId": "02be2520-e247-46f3-8c2f-1f2f371e4abc"
      },
      "source": [
        "model=XGBClassifier()\n",
        "model.fit(x_train,y_train)"
      ],
      "execution_count": null,
      "outputs": [
        {
          "output_type": "execute_result",
          "data": {
            "text/plain": [
              "XGBClassifier(base_score=0.5, booster='gbtree', colsample_bylevel=1,\n",
              "              colsample_bynode=1, colsample_bytree=1, gamma=0,\n",
              "              learning_rate=0.1, max_delta_step=0, max_depth=3,\n",
              "              min_child_weight=1, missing=None, n_estimators=100, n_jobs=1,\n",
              "              nthread=None, objective='binary:logistic', random_state=0,\n",
              "              reg_alpha=0, reg_lambda=1, scale_pos_weight=1, seed=None,\n",
              "              silent=None, subsample=1, verbosity=1)"
            ]
          },
          "metadata": {},
          "execution_count": 35
        }
      ]
    },
    {
      "cell_type": "markdown",
      "metadata": {
        "id": "CYZVx8w1g45V"
      },
      "source": [
        "##Calculating the accuracy for the model respectfully"
      ]
    },
    {
      "cell_type": "code",
      "metadata": {
        "colab": {
          "base_uri": "https://localhost:8080/"
        },
        "id": "a0iWj3YIdcX5",
        "outputId": "d12ee762-d781-4869-8349-3b5b858e3f64"
      },
      "source": [
        "y_pred=model.predict(x_test)\n",
        "print(accuracy_score(y_test, y_pred)*100)"
      ],
      "execution_count": null,
      "outputs": [
        {
          "output_type": "stream",
          "name": "stdout",
          "text": [
            "94.87179487179486\n"
          ]
        }
      ]
    },
    {
      "cell_type": "code",
      "metadata": {
        "colab": {
          "base_uri": "https://localhost:8080/"
        },
        "id": "8xAfTAaD-RnQ",
        "outputId": "19a6982f-a119-46fe-c068-98ef685a9613"
      },
      "source": [
        "from sklearn.metrics import classification_report, confusion_matrix\n",
        "print(confusion_matrix(y_test, y_pred))\n",
        "print(classification_report(y_test, y_pred))"
      ],
      "execution_count": null,
      "outputs": [
        {
          "output_type": "stream",
          "name": "stdout",
          "text": [
            "[[ 5  2]\n",
            " [ 0 32]]\n",
            "              precision    recall  f1-score   support\n",
            "\n",
            "           0       1.00      0.71      0.83         7\n",
            "           1       0.94      1.00      0.97        32\n",
            "\n",
            "    accuracy                           0.95        39\n",
            "   macro avg       0.97      0.86      0.90        39\n",
            "weighted avg       0.95      0.95      0.95        39\n",
            "\n"
          ]
        }
      ]
    },
    {
      "cell_type": "markdown",
      "metadata": {
        "id": "9Rp6CCKphMGq"
      },
      "source": [
        "##Initializing K Nearest Neighbors (KNN) Classifier and train the model"
      ]
    },
    {
      "cell_type": "code",
      "metadata": {
        "colab": {
          "base_uri": "https://localhost:8080/"
        },
        "id": "n3EYXJ9PGGGT",
        "outputId": "b31a01e3-e3b3-4f5e-cbba-582046aeddba"
      },
      "source": [
        "from sklearn.neighbors import KNeighborsClassifier\n",
        "model=KNeighborsClassifier()\n",
        "model.fit(x_train,y_train)"
      ],
      "execution_count": null,
      "outputs": [
        {
          "output_type": "execute_result",
          "data": {
            "text/plain": [
              "KNeighborsClassifier(algorithm='auto', leaf_size=30, metric='minkowski',\n",
              "                     metric_params=None, n_jobs=None, n_neighbors=5, p=2,\n",
              "                     weights='uniform')"
            ]
          },
          "metadata": {},
          "execution_count": 38
        }
      ]
    },
    {
      "cell_type": "markdown",
      "metadata": {
        "id": "4C5N0lSgq0sH"
      },
      "source": [
        "##Calculating the accuracy for the model respectfully"
      ]
    },
    {
      "cell_type": "code",
      "metadata": {
        "colab": {
          "base_uri": "https://localhost:8080/"
        },
        "id": "Urg62dexGGBJ",
        "outputId": "34344f02-d2cb-481b-e731-2b8948bf9dd2"
      },
      "source": [
        "y_pred=model.predict(x_test)\n",
        "print(accuracy_score(y_test, y_pred)*100)"
      ],
      "execution_count": null,
      "outputs": [
        {
          "output_type": "stream",
          "name": "stdout",
          "text": [
            "97.43589743589743\n"
          ]
        }
      ]
    },
    {
      "cell_type": "code",
      "metadata": {
        "colab": {
          "base_uri": "https://localhost:8080/"
        },
        "id": "YVWSYHtGNKrX",
        "outputId": "31549c41-ef3f-4eb0-a435-e1049a881f66"
      },
      "source": [
        "from sklearn.metrics import classification_report, confusion_matrix\n",
        "print(confusion_matrix(y_test, y_pred))\n",
        "print(classification_report(y_test, y_pred))"
      ],
      "execution_count": null,
      "outputs": [
        {
          "output_type": "stream",
          "name": "stdout",
          "text": [
            "[[ 6  1]\n",
            " [ 0 32]]\n",
            "              precision    recall  f1-score   support\n",
            "\n",
            "           0       1.00      0.86      0.92         7\n",
            "           1       0.97      1.00      0.98        32\n",
            "\n",
            "    accuracy                           0.97        39\n",
            "   macro avg       0.98      0.93      0.95        39\n",
            "weighted avg       0.98      0.97      0.97        39\n",
            "\n"
          ]
        }
      ]
    },
    {
      "cell_type": "markdown",
      "metadata": {
        "id": "EUQmRWE_q653"
      },
      "source": [
        "##Initializing Decision Tree Classifier Classifier and train the model"
      ]
    },
    {
      "cell_type": "code",
      "metadata": {
        "colab": {
          "base_uri": "https://localhost:8080/"
        },
        "id": "I-kk1hHFIQNM",
        "outputId": "b6e20638-260f-457f-bbb6-3012bac5e2a3"
      },
      "source": [
        "from sklearn.tree import DecisionTreeClassifier\n",
        "model=DecisionTreeClassifier()\n",
        "model.fit(x_train,y_train)"
      ],
      "execution_count": null,
      "outputs": [
        {
          "output_type": "execute_result",
          "data": {
            "text/plain": [
              "DecisionTreeClassifier(ccp_alpha=0.0, class_weight=None, criterion='gini',\n",
              "                       max_depth=None, max_features=None, max_leaf_nodes=None,\n",
              "                       min_impurity_decrease=0.0, min_impurity_split=None,\n",
              "                       min_samples_leaf=1, min_samples_split=2,\n",
              "                       min_weight_fraction_leaf=0.0, presort='deprecated',\n",
              "                       random_state=None, splitter='best')"
            ]
          },
          "metadata": {},
          "execution_count": 41
        }
      ]
    },
    {
      "cell_type": "markdown",
      "metadata": {
        "id": "mLhMGD9lrhYb"
      },
      "source": [
        "##Calculating the accuracy for the model respectfully"
      ]
    },
    {
      "cell_type": "code",
      "metadata": {
        "colab": {
          "base_uri": "https://localhost:8080/"
        },
        "id": "t097St9XIQHB",
        "outputId": "144c23ed-9a32-40ec-df51-b0176cf6573a"
      },
      "source": [
        "y_pred=model.predict(x_test)\n",
        "print(accuracy_score(y_test, y_pred)*100)"
      ],
      "execution_count": null,
      "outputs": [
        {
          "output_type": "stream",
          "name": "stdout",
          "text": [
            "89.74358974358975\n"
          ]
        }
      ]
    },
    {
      "cell_type": "code",
      "metadata": {
        "colab": {
          "base_uri": "https://localhost:8080/"
        },
        "id": "SwJil9rWNJo8",
        "outputId": "1eeb8633-48a1-4972-83ce-71a8343ee371"
      },
      "source": [
        "from sklearn.metrics import classification_report, confusion_matrix\n",
        "print(confusion_matrix(y_test, y_pred))\n",
        "print(classification_report(y_test, y_pred))"
      ],
      "execution_count": null,
      "outputs": [
        {
          "output_type": "stream",
          "name": "stdout",
          "text": [
            "[[ 6  1]\n",
            " [ 3 29]]\n",
            "              precision    recall  f1-score   support\n",
            "\n",
            "           0       0.67      0.86      0.75         7\n",
            "           1       0.97      0.91      0.94        32\n",
            "\n",
            "    accuracy                           0.90        39\n",
            "   macro avg       0.82      0.88      0.84        39\n",
            "weighted avg       0.91      0.90      0.90        39\n",
            "\n"
          ]
        }
      ]
    },
    {
      "cell_type": "markdown",
      "metadata": {
        "id": "tAFvEi43rnrd"
      },
      "source": [
        "##Initializing Random Forest Classifier Classifier and train the model"
      ]
    },
    {
      "cell_type": "code",
      "metadata": {
        "colab": {
          "base_uri": "https://localhost:8080/"
        },
        "id": "5UKh25QcGF6o",
        "outputId": "ed38a151-f576-421a-c07d-db6588b70036"
      },
      "source": [
        "from sklearn.ensemble import RandomForestClassifier\n",
        "model=RandomForestClassifier()\n",
        "model.fit(x_train,y_train)"
      ],
      "execution_count": null,
      "outputs": [
        {
          "output_type": "execute_result",
          "data": {
            "text/plain": [
              "RandomForestClassifier(bootstrap=True, ccp_alpha=0.0, class_weight=None,\n",
              "                       criterion='gini', max_depth=None, max_features='auto',\n",
              "                       max_leaf_nodes=None, max_samples=None,\n",
              "                       min_impurity_decrease=0.0, min_impurity_split=None,\n",
              "                       min_samples_leaf=1, min_samples_split=2,\n",
              "                       min_weight_fraction_leaf=0.0, n_estimators=100,\n",
              "                       n_jobs=None, oob_score=False, random_state=None,\n",
              "                       verbose=0, warm_start=False)"
            ]
          },
          "metadata": {},
          "execution_count": 44
        }
      ]
    },
    {
      "cell_type": "markdown",
      "metadata": {
        "id": "_9RIzXXDr453"
      },
      "source": [
        "##Calculating the accuracy for the model respectfully"
      ]
    },
    {
      "cell_type": "code",
      "metadata": {
        "colab": {
          "base_uri": "https://localhost:8080/"
        },
        "id": "Oi85Dl4zKmzL",
        "outputId": "f7e3df56-e637-40f3-c590-491328757b35"
      },
      "source": [
        "y_pred=model.predict(x_test)\n",
        "print(accuracy_score(y_test, y_pred)*100)"
      ],
      "execution_count": null,
      "outputs": [
        {
          "output_type": "stream",
          "name": "stdout",
          "text": [
            "92.3076923076923\n"
          ]
        }
      ]
    },
    {
      "cell_type": "code",
      "metadata": {
        "colab": {
          "base_uri": "https://localhost:8080/"
        },
        "id": "yQybJT38NIhd",
        "outputId": "f00a491e-5c64-4bbf-e6f5-29b147cb41b1"
      },
      "source": [
        "from sklearn.metrics import classification_report, confusion_matrix\n",
        "print(confusion_matrix(y_test, y_pred))\n",
        "print(classification_report(y_test, y_pred))"
      ],
      "execution_count": null,
      "outputs": [
        {
          "output_type": "stream",
          "name": "stdout",
          "text": [
            "[[ 4  3]\n",
            " [ 0 32]]\n",
            "              precision    recall  f1-score   support\n",
            "\n",
            "           0       1.00      0.57      0.73         7\n",
            "           1       0.91      1.00      0.96        32\n",
            "\n",
            "    accuracy                           0.92        39\n",
            "   macro avg       0.96      0.79      0.84        39\n",
            "weighted avg       0.93      0.92      0.91        39\n",
            "\n"
          ]
        }
      ]
    },
    {
      "cell_type": "markdown",
      "metadata": {
        "id": "F88DgLn4rtXd"
      },
      "source": [
        "##Initializing Gradient Boosting Classifier and train the model"
      ]
    },
    {
      "cell_type": "code",
      "metadata": {
        "colab": {
          "base_uri": "https://localhost:8080/"
        },
        "id": "RSy1cq-STHf8",
        "outputId": "67133391-9cbf-4895-ea6d-b7b3bcb52f20"
      },
      "source": [
        "from sklearn.ensemble import GradientBoostingClassifier\n",
        "model=GradientBoostingClassifier()\n",
        "model.fit(x_train,y_train)"
      ],
      "execution_count": null,
      "outputs": [
        {
          "output_type": "execute_result",
          "data": {
            "text/plain": [
              "GradientBoostingClassifier(ccp_alpha=0.0, criterion='friedman_mse', init=None,\n",
              "                           learning_rate=0.1, loss='deviance', max_depth=3,\n",
              "                           max_features=None, max_leaf_nodes=None,\n",
              "                           min_impurity_decrease=0.0, min_impurity_split=None,\n",
              "                           min_samples_leaf=1, min_samples_split=2,\n",
              "                           min_weight_fraction_leaf=0.0, n_estimators=100,\n",
              "                           n_iter_no_change=None, presort='deprecated',\n",
              "                           random_state=None, subsample=1.0, tol=0.0001,\n",
              "                           validation_fraction=0.1, verbose=0,\n",
              "                           warm_start=False)"
            ]
          },
          "metadata": {},
          "execution_count": 47
        }
      ]
    },
    {
      "cell_type": "markdown",
      "metadata": {
        "id": "M6sW8xT4r6Gn"
      },
      "source": [
        "##Calculating the accuracy for the model respectfully"
      ]
    },
    {
      "cell_type": "code",
      "metadata": {
        "colab": {
          "base_uri": "https://localhost:8080/"
        },
        "id": "1AC35XM-K5Fw",
        "outputId": "8a2ad242-d5c6-4432-d6bc-e652bebb3844"
      },
      "source": [
        "y_pred=model.predict(x_test)\n",
        "print(accuracy_score(y_test, y_pred)*100)"
      ],
      "execution_count": null,
      "outputs": [
        {
          "output_type": "stream",
          "name": "stdout",
          "text": [
            "89.74358974358975\n"
          ]
        }
      ]
    },
    {
      "cell_type": "code",
      "metadata": {
        "colab": {
          "base_uri": "https://localhost:8080/"
        },
        "id": "-ZRKHlPNNEed",
        "outputId": "d51ab9b6-2395-478e-d9df-28a785ee56c3"
      },
      "source": [
        "from sklearn.metrics import classification_report, confusion_matrix\n",
        "print(confusion_matrix(y_test, y_pred))\n",
        "print(classification_report(y_test, y_pred))"
      ],
      "execution_count": null,
      "outputs": [
        {
          "output_type": "stream",
          "name": "stdout",
          "text": [
            "[[ 4  3]\n",
            " [ 1 31]]\n",
            "              precision    recall  f1-score   support\n",
            "\n",
            "           0       0.80      0.57      0.67         7\n",
            "           1       0.91      0.97      0.94        32\n",
            "\n",
            "    accuracy                           0.90        39\n",
            "   macro avg       0.86      0.77      0.80        39\n",
            "weighted avg       0.89      0.90      0.89        39\n",
            "\n"
          ]
        }
      ]
    },
    {
      "cell_type": "markdown",
      "metadata": {
        "id": "RF-DBMBJrv1V"
      },
      "source": [
        "##Initializing Support Vector Classifier  and train the model"
      ]
    },
    {
      "cell_type": "code",
      "metadata": {
        "colab": {
          "base_uri": "https://localhost:8080/"
        },
        "id": "kyrm6ie9hpX7",
        "outputId": "2541da31-aba9-4f3e-d13b-6f67d5e762a1"
      },
      "source": [
        "from sklearn.svm import SVC\n",
        "model=SVC()\n",
        "model.fit(x_train,y_train)"
      ],
      "execution_count": null,
      "outputs": [
        {
          "output_type": "execute_result",
          "data": {
            "text/plain": [
              "SVC(C=1.0, break_ties=False, cache_size=200, class_weight=None, coef0=0.0,\n",
              "    decision_function_shape='ovr', degree=3, gamma='scale', kernel='rbf',\n",
              "    max_iter=-1, probability=False, random_state=None, shrinking=True,\n",
              "    tol=0.001, verbose=False)"
            ]
          },
          "metadata": {},
          "execution_count": 50
        }
      ]
    },
    {
      "cell_type": "markdown",
      "metadata": {
        "id": "5ezJ1o4Qr74h"
      },
      "source": [
        "##Calculating the accuracy for the model respectfully"
      ]
    },
    {
      "cell_type": "code",
      "metadata": {
        "colab": {
          "base_uri": "https://localhost:8080/"
        },
        "id": "EF1DKHbpi9uT",
        "outputId": "ad9eb626-53ec-4bfd-d855-24132e875c0d"
      },
      "source": [
        "y_pred=model.predict(x_test)\n",
        "print(accuracy_score(y_test, y_pred)*100)"
      ],
      "execution_count": null,
      "outputs": [
        {
          "output_type": "stream",
          "name": "stdout",
          "text": [
            "87.17948717948718\n"
          ]
        }
      ]
    },
    {
      "cell_type": "code",
      "metadata": {
        "colab": {
          "base_uri": "https://localhost:8080/"
        },
        "id": "qh_bH3qHiwD0",
        "outputId": "e90b5b45-d531-4f10-9e83-a83967fb740e"
      },
      "source": [
        "from sklearn.metrics import classification_report, confusion_matrix\n",
        "print(confusion_matrix(y_test, y_pred))\n",
        "print(classification_report(y_test, y_pred))"
      ],
      "execution_count": null,
      "outputs": [
        {
          "output_type": "stream",
          "name": "stdout",
          "text": [
            "[[ 2  5]\n",
            " [ 0 32]]\n",
            "              precision    recall  f1-score   support\n",
            "\n",
            "           0       1.00      0.29      0.44         7\n",
            "           1       0.86      1.00      0.93        32\n",
            "\n",
            "    accuracy                           0.87        39\n",
            "   macro avg       0.93      0.64      0.69        39\n",
            "weighted avg       0.89      0.87      0.84        39\n",
            "\n"
          ]
        }
      ]
    },
    {
      "cell_type": "markdown",
      "metadata": {
        "id": "8TkIc9ANH0RD"
      },
      "source": [
        "##Initializing Bagging Classifier  and train the model"
      ]
    },
    {
      "cell_type": "code",
      "metadata": {
        "colab": {
          "base_uri": "https://localhost:8080/"
        },
        "id": "i5tX7YexvERj",
        "outputId": "47425573-b0a8-4b9b-e1ee-95e011ef534f"
      },
      "source": [
        "from sklearn.ensemble import BaggingClassifier\n",
        "model=BaggingClassifier()\n",
        "model.fit(x_train,y_train)"
      ],
      "execution_count": null,
      "outputs": [
        {
          "output_type": "execute_result",
          "data": {
            "text/plain": [
              "BaggingClassifier(base_estimator=None, bootstrap=True, bootstrap_features=False,\n",
              "                  max_features=1.0, max_samples=1.0, n_estimators=10,\n",
              "                  n_jobs=None, oob_score=False, random_state=None, verbose=0,\n",
              "                  warm_start=False)"
            ]
          },
          "metadata": {},
          "execution_count": 53
        }
      ]
    },
    {
      "cell_type": "markdown",
      "source": [
        "##Calculating the accuracy for the model respectfully"
      ],
      "metadata": {
        "id": "jGkudGaa_MBs"
      }
    },
    {
      "cell_type": "code",
      "metadata": {
        "colab": {
          "base_uri": "https://localhost:8080/"
        },
        "id": "Ic2mvfTLv8Jh",
        "outputId": "8b492a8a-46ff-4a8d-b850-555e3fbcf62d"
      },
      "source": [
        "y_pred=model.predict(x_test)\n",
        "print(accuracy_score(y_test, y_pred)*100)"
      ],
      "execution_count": null,
      "outputs": [
        {
          "output_type": "stream",
          "name": "stdout",
          "text": [
            "92.3076923076923\n"
          ]
        }
      ]
    },
    {
      "cell_type": "code",
      "metadata": {
        "colab": {
          "base_uri": "https://localhost:8080/"
        },
        "id": "tmxylZjYv79G",
        "outputId": "f47ce472-b6c0-4d73-aad3-a256344f1422"
      },
      "source": [
        "from sklearn.metrics import classification_report, confusion_matrix\n",
        "print(confusion_matrix(y_test, y_pred))\n",
        "print(classification_report(y_test, y_pred))"
      ],
      "execution_count": null,
      "outputs": [
        {
          "output_type": "stream",
          "name": "stdout",
          "text": [
            "[[ 5  2]\n",
            " [ 1 31]]\n",
            "              precision    recall  f1-score   support\n",
            "\n",
            "           0       0.83      0.71      0.77         7\n",
            "           1       0.94      0.97      0.95        32\n",
            "\n",
            "    accuracy                           0.92        39\n",
            "   macro avg       0.89      0.84      0.86        39\n",
            "weighted avg       0.92      0.92      0.92        39\n",
            "\n"
          ]
        }
      ]
    },
    {
      "cell_type": "markdown",
      "metadata": {
        "id": "YZ8E_qZaH8Us"
      },
      "source": [
        "##Initializing Adaboost Classifier  and train the model"
      ]
    },
    {
      "cell_type": "code",
      "metadata": {
        "colab": {
          "base_uri": "https://localhost:8080/"
        },
        "id": "SUwpuxrnw5I_",
        "outputId": "c4ba0ae2-15d1-49c5-a78b-fd2db016684a"
      },
      "source": [
        "from sklearn.ensemble import AdaBoostClassifier\n",
        "model=AdaBoostClassifier()\n",
        "model.fit(x_train,y_train)"
      ],
      "execution_count": null,
      "outputs": [
        {
          "output_type": "execute_result",
          "data": {
            "text/plain": [
              "AdaBoostClassifier(algorithm='SAMME.R', base_estimator=None, learning_rate=1.0,\n",
              "                   n_estimators=50, random_state=None)"
            ]
          },
          "metadata": {},
          "execution_count": 56
        }
      ]
    },
    {
      "cell_type": "markdown",
      "source": [
        "##Calculating the accuracy for the model respectfully"
      ],
      "metadata": {
        "id": "uX6Yj735_N2z"
      }
    },
    {
      "cell_type": "code",
      "metadata": {
        "colab": {
          "base_uri": "https://localhost:8080/"
        },
        "id": "j8spLJAKw5Ct",
        "outputId": "28158097-8f58-4563-fac3-0d99c3d27239"
      },
      "source": [
        "y_pred=model.predict(x_test)\n",
        "print(accuracy_score(y_test, y_pred)*100)"
      ],
      "execution_count": null,
      "outputs": [
        {
          "output_type": "stream",
          "name": "stdout",
          "text": [
            "89.74358974358975\n"
          ]
        }
      ]
    },
    {
      "cell_type": "code",
      "metadata": {
        "colab": {
          "base_uri": "https://localhost:8080/"
        },
        "id": "6o8iKsF_w48P",
        "outputId": "435382ab-ce60-475a-fcc7-ba50ec36188f"
      },
      "source": [
        "from sklearn.metrics import classification_report, confusion_matrix\n",
        "print(confusion_matrix(y_test, y_pred))\n",
        "print(classification_report(y_test, y_pred))"
      ],
      "execution_count": null,
      "outputs": [
        {
          "output_type": "stream",
          "name": "stdout",
          "text": [
            "[[ 6  1]\n",
            " [ 3 29]]\n",
            "              precision    recall  f1-score   support\n",
            "\n",
            "           0       0.67      0.86      0.75         7\n",
            "           1       0.97      0.91      0.94        32\n",
            "\n",
            "    accuracy                           0.90        39\n",
            "   macro avg       0.82      0.88      0.84        39\n",
            "weighted avg       0.91      0.90      0.90        39\n",
            "\n"
          ]
        }
      ]
    },
    {
      "cell_type": "markdown",
      "metadata": {
        "id": "ONt49_naH_VE"
      },
      "source": [
        "##Initializing Navie Bayes Classifier  and train the model"
      ]
    },
    {
      "cell_type": "code",
      "metadata": {
        "colab": {
          "base_uri": "https://localhost:8080/"
        },
        "id": "p-FE2SZmxI4R",
        "outputId": "21e803af-8715-4b30-916e-ad05f6b626ce"
      },
      "source": [
        "from sklearn.naive_bayes import BernoulliNB\n",
        "model=BernoulliNB()\n",
        "model.fit(x_train,y_train)"
      ],
      "execution_count": null,
      "outputs": [
        {
          "output_type": "execute_result",
          "data": {
            "text/plain": [
              "BernoulliNB(alpha=1.0, binarize=0.0, class_prior=None, fit_prior=True)"
            ]
          },
          "metadata": {},
          "execution_count": 59
        }
      ]
    },
    {
      "cell_type": "markdown",
      "source": [
        "##Calculating the accuracy for the model respectfully"
      ],
      "metadata": {
        "id": "dVfHlVem_Pz8"
      }
    },
    {
      "cell_type": "code",
      "metadata": {
        "colab": {
          "base_uri": "https://localhost:8080/"
        },
        "id": "kv_2-zyBxIzy",
        "outputId": "2b90a48e-d54d-40f1-8b7c-50d7b02c3c69"
      },
      "source": [
        "y_pred=model.predict(x_test)\n",
        "print(accuracy_score(y_test, y_pred)*100)"
      ],
      "execution_count": null,
      "outputs": [
        {
          "output_type": "stream",
          "name": "stdout",
          "text": [
            "79.48717948717949\n"
          ]
        }
      ]
    },
    {
      "cell_type": "code",
      "metadata": {
        "colab": {
          "base_uri": "https://localhost:8080/"
        },
        "id": "CSRu87iRxItw",
        "outputId": "40285716-d0ef-4367-b277-cff6ad19f71c"
      },
      "source": [
        "from sklearn.metrics import classification_report, confusion_matrix\n",
        "print(confusion_matrix(y_test, y_pred))\n",
        "print(classification_report(y_test, y_pred))"
      ],
      "execution_count": null,
      "outputs": [
        {
          "output_type": "stream",
          "name": "stdout",
          "text": [
            "[[ 4  3]\n",
            " [ 5 27]]\n",
            "              precision    recall  f1-score   support\n",
            "\n",
            "           0       0.44      0.57      0.50         7\n",
            "           1       0.90      0.84      0.87        32\n",
            "\n",
            "    accuracy                           0.79        39\n",
            "   macro avg       0.67      0.71      0.69        39\n",
            "weighted avg       0.82      0.79      0.80        39\n",
            "\n"
          ]
        }
      ]
    }
  ]
}